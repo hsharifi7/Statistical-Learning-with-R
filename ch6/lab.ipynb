{
 "cells": [
  {
   "cell_type": "code",
   "execution_count": 2,
   "metadata": {},
   "outputs": [
    {
     "data": {
      "text/html": [
       "<table>\n",
       "<thead><tr><th></th><th scope=col>AtBat</th><th scope=col>Hits</th><th scope=col>HmRun</th><th scope=col>Runs</th><th scope=col>RBI</th><th scope=col>Walks</th><th scope=col>Years</th><th scope=col>CAtBat</th><th scope=col>CHits</th><th scope=col>CHmRun</th><th scope=col>CRuns</th><th scope=col>CRBI</th><th scope=col>CWalks</th><th scope=col>League</th><th scope=col>Division</th><th scope=col>PutOuts</th><th scope=col>Assists</th><th scope=col>Errors</th><th scope=col>Salary</th><th scope=col>NewLeague</th></tr></thead>\n",
       "<tbody>\n",
       "\t<tr><th scope=row>-Andy Allanson</th><td>293     </td><td> 66     </td><td> 1      </td><td> 30     </td><td> 29     </td><td>14      </td><td> 1      </td><td> 293    </td><td>  66    </td><td>  1     </td><td>  30    </td><td>  29    </td><td> 14     </td><td>A       </td><td>E       </td><td> 446    </td><td> 33     </td><td>20      </td><td>      NA</td><td>A       </td></tr>\n",
       "\t<tr><th scope=row>-Alan Ashby</th><td>315     </td><td> 81     </td><td> 7      </td><td> 24     </td><td> 38     </td><td>39      </td><td>14      </td><td>3449    </td><td> 835    </td><td> 69     </td><td> 321    </td><td> 414    </td><td>375     </td><td>N       </td><td>W       </td><td> 632    </td><td> 43     </td><td>10      </td><td> 475.000</td><td>N       </td></tr>\n",
       "\t<tr><th scope=row>-Alvin Davis</th><td>479     </td><td>130     </td><td>18      </td><td> 66     </td><td> 72     </td><td>76      </td><td> 3      </td><td>1624    </td><td> 457    </td><td> 63     </td><td> 224    </td><td> 266    </td><td>263     </td><td>A       </td><td>W       </td><td> 880    </td><td> 82     </td><td>14      </td><td> 480.000</td><td>A       </td></tr>\n",
       "\t<tr><th scope=row>-Andre Dawson</th><td>496     </td><td>141     </td><td>20      </td><td> 65     </td><td> 78     </td><td>37      </td><td>11      </td><td>5628    </td><td>1575    </td><td>225     </td><td> 828    </td><td> 838    </td><td>354     </td><td>N       </td><td>E       </td><td> 200    </td><td> 11     </td><td> 3      </td><td> 500.000</td><td>N       </td></tr>\n",
       "\t<tr><th scope=row>-Andres Galarraga</th><td>321     </td><td> 87     </td><td>10      </td><td> 39     </td><td> 42     </td><td>30      </td><td> 2      </td><td> 396    </td><td> 101    </td><td> 12     </td><td>  48    </td><td>  46    </td><td> 33     </td><td>N       </td><td>E       </td><td> 805    </td><td> 40     </td><td> 4      </td><td>  91.500</td><td>N       </td></tr>\n",
       "\t<tr><th scope=row>-Alfredo Griffin</th><td>594     </td><td>169     </td><td> 4      </td><td> 74     </td><td> 51     </td><td>35      </td><td>11      </td><td>4408    </td><td>1133    </td><td> 19     </td><td> 501    </td><td> 336    </td><td>194     </td><td>A       </td><td>W       </td><td> 282    </td><td>421     </td><td>25      </td><td> 750.000</td><td>A       </td></tr>\n",
       "\t<tr><th scope=row>-Al Newman</th><td>185     </td><td> 37     </td><td> 1      </td><td> 23     </td><td>  8     </td><td>21      </td><td> 2      </td><td> 214    </td><td>  42    </td><td>  1     </td><td>  30    </td><td>   9    </td><td> 24     </td><td>N       </td><td>E       </td><td>  76    </td><td>127     </td><td> 7      </td><td>  70.000</td><td>A       </td></tr>\n",
       "\t<tr><th scope=row>-Argenis Salazar</th><td>298     </td><td> 73     </td><td> 0      </td><td> 24     </td><td> 24     </td><td> 7      </td><td> 3      </td><td> 509    </td><td> 108    </td><td>  0     </td><td>  41    </td><td>  37    </td><td> 12     </td><td>A       </td><td>W       </td><td> 121    </td><td>283     </td><td> 9      </td><td> 100.000</td><td>A       </td></tr>\n",
       "\t<tr><th scope=row>-Andres Thomas</th><td>323     </td><td> 81     </td><td> 6      </td><td> 26     </td><td> 32     </td><td> 8      </td><td> 2      </td><td> 341    </td><td>  86    </td><td>  6     </td><td>  32    </td><td>  34    </td><td>  8     </td><td>N       </td><td>W       </td><td> 143    </td><td>290     </td><td>19      </td><td>  75.000</td><td>N       </td></tr>\n",
       "\t<tr><th scope=row>-Andre Thornton</th><td>401     </td><td> 92     </td><td>17      </td><td> 49     </td><td> 66     </td><td>65      </td><td>13      </td><td>5206    </td><td>1332    </td><td>253     </td><td> 784    </td><td> 890    </td><td>866     </td><td>A       </td><td>E       </td><td>   0    </td><td>  0     </td><td> 0      </td><td>1100.000</td><td>A       </td></tr>\n",
       "\t<tr><th scope=row>-Alan Trammell</th><td>574     </td><td>159     </td><td>21      </td><td>107     </td><td> 75     </td><td>59      </td><td>10      </td><td>4631    </td><td>1300    </td><td> 90     </td><td> 702    </td><td> 504    </td><td>488     </td><td>A       </td><td>E       </td><td> 238    </td><td>445     </td><td>22      </td><td> 517.143</td><td>A       </td></tr>\n",
       "\t<tr><th scope=row>-Alex Trevino</th><td>202     </td><td> 53     </td><td> 4      </td><td> 31     </td><td> 26     </td><td>27      </td><td> 9      </td><td>1876    </td><td> 467    </td><td> 15     </td><td> 192    </td><td> 186    </td><td>161     </td><td>N       </td><td>W       </td><td> 304    </td><td> 45     </td><td>11      </td><td> 512.500</td><td>N       </td></tr>\n",
       "\t<tr><th scope=row>-Andy VanSlyke</th><td>418     </td><td>113     </td><td>13      </td><td> 48     </td><td> 61     </td><td>47      </td><td> 4      </td><td>1512    </td><td> 392    </td><td> 41     </td><td> 205    </td><td> 204    </td><td>203     </td><td>N       </td><td>E       </td><td> 211    </td><td> 11     </td><td> 7      </td><td> 550.000</td><td>N       </td></tr>\n",
       "\t<tr><th scope=row>-Alan Wiggins</th><td>239     </td><td> 60     </td><td> 0      </td><td> 30     </td><td> 11     </td><td>22      </td><td> 6      </td><td>1941    </td><td> 510    </td><td>  4     </td><td> 309    </td><td> 103    </td><td>207     </td><td>A       </td><td>E       </td><td> 121    </td><td>151     </td><td> 6      </td><td> 700.000</td><td>A       </td></tr>\n",
       "\t<tr><th scope=row>-Bill Almon</th><td>196     </td><td> 43     </td><td> 7      </td><td> 29     </td><td> 27     </td><td>30      </td><td>13      </td><td>3231    </td><td> 825    </td><td> 36     </td><td> 376    </td><td> 290    </td><td>238     </td><td>N       </td><td>E       </td><td>  80    </td><td> 45     </td><td> 8      </td><td> 240.000</td><td>N       </td></tr>\n",
       "\t<tr><th scope=row>-Billy Beane</th><td>183     </td><td> 39     </td><td> 3      </td><td> 20     </td><td> 15     </td><td>11      </td><td> 3      </td><td> 201    </td><td>  42    </td><td>  3     </td><td>  20    </td><td>  16    </td><td> 11     </td><td>A       </td><td>W       </td><td> 118    </td><td>  0     </td><td> 0      </td><td>      NA</td><td>A       </td></tr>\n",
       "\t<tr><th scope=row>-Buddy Bell</th><td>568     </td><td>158     </td><td>20      </td><td> 89     </td><td> 75     </td><td>73      </td><td>15      </td><td>8068    </td><td>2273    </td><td>177     </td><td>1045    </td><td> 993    </td><td>732     </td><td>N       </td><td>W       </td><td> 105    </td><td>290     </td><td>10      </td><td> 775.000</td><td>N       </td></tr>\n",
       "\t<tr><th scope=row>-Buddy Biancalana</th><td>190     </td><td> 46     </td><td> 2      </td><td> 24     </td><td>  8     </td><td>15      </td><td> 5      </td><td> 479    </td><td> 102    </td><td>  5     </td><td>  65    </td><td>  23    </td><td> 39     </td><td>A       </td><td>W       </td><td> 102    </td><td>177     </td><td>16      </td><td> 175.000</td><td>A       </td></tr>\n",
       "\t<tr><th scope=row>-Bruce Bochte</th><td>407     </td><td>104     </td><td> 6      </td><td> 57     </td><td> 43     </td><td>65      </td><td>12      </td><td>5233    </td><td>1478    </td><td>100     </td><td> 643    </td><td> 658    </td><td>653     </td><td>A       </td><td>W       </td><td> 912    </td><td> 88     </td><td> 9      </td><td>      NA</td><td>A       </td></tr>\n",
       "\t<tr><th scope=row>-Bruce Bochy</th><td>127     </td><td> 32     </td><td> 8      </td><td> 16     </td><td> 22     </td><td>14      </td><td> 8      </td><td> 727    </td><td> 180    </td><td> 24     </td><td>  67    </td><td>  82    </td><td> 56     </td><td>N       </td><td>W       </td><td> 202    </td><td> 22     </td><td> 2      </td><td> 135.000</td><td>N       </td></tr>\n",
       "\t<tr><th scope=row>-Barry Bonds</th><td>413     </td><td> 92     </td><td>16      </td><td> 72     </td><td> 48     </td><td>65      </td><td> 1      </td><td> 413    </td><td>  92    </td><td> 16     </td><td>  72    </td><td>  48    </td><td> 65     </td><td>N       </td><td>E       </td><td> 280    </td><td>  9     </td><td> 5      </td><td> 100.000</td><td>N       </td></tr>\n",
       "\t<tr><th scope=row>-Bobby Bonilla</th><td>426     </td><td>109     </td><td> 3      </td><td> 55     </td><td> 43     </td><td>62      </td><td> 1      </td><td> 426    </td><td> 109    </td><td>  3     </td><td>  55    </td><td>  43    </td><td> 62     </td><td>A       </td><td>W       </td><td> 361    </td><td> 22     </td><td> 2      </td><td> 115.000</td><td>N       </td></tr>\n",
       "\t<tr><th scope=row>-Bob Boone</th><td> 22     </td><td> 10     </td><td> 1      </td><td>  4     </td><td>  2     </td><td> 1      </td><td> 6      </td><td>  84    </td><td>  26    </td><td>  2     </td><td>   9    </td><td>   9    </td><td>  3     </td><td>A       </td><td>W       </td><td> 812    </td><td> 84     </td><td>11      </td><td>      NA</td><td>A       </td></tr>\n",
       "\t<tr><th scope=row>-Bob Brenly</th><td>472     </td><td>116     </td><td>16      </td><td> 60     </td><td> 62     </td><td>74      </td><td> 6      </td><td>1924    </td><td> 489    </td><td> 67     </td><td> 242    </td><td> 251    </td><td>240     </td><td>N       </td><td>W       </td><td> 518    </td><td> 55     </td><td> 3      </td><td> 600.000</td><td>N       </td></tr>\n",
       "\t<tr><th scope=row>-Bill Buckner</th><td>629     </td><td>168     </td><td>18      </td><td> 73     </td><td>102     </td><td>40      </td><td>18      </td><td>8424    </td><td>2464    </td><td>164     </td><td>1008    </td><td>1072    </td><td>402     </td><td>A       </td><td>E       </td><td>1067    </td><td>157     </td><td>14      </td><td> 776.667</td><td>A       </td></tr>\n",
       "\t<tr><th scope=row>-Brett Butler</th><td>587     </td><td>163     </td><td> 4      </td><td> 92     </td><td> 51     </td><td>70      </td><td> 6      </td><td>2695    </td><td> 747    </td><td> 17     </td><td> 442    </td><td> 198    </td><td>317     </td><td>A       </td><td>E       </td><td> 434    </td><td>  9     </td><td> 3      </td><td> 765.000</td><td>A       </td></tr>\n",
       "\t<tr><th scope=row>-Bob Dernier</th><td>324     </td><td> 73     </td><td> 4      </td><td> 32     </td><td> 18     </td><td>22      </td><td> 7      </td><td>1931    </td><td> 491    </td><td> 13     </td><td> 291    </td><td> 108    </td><td>180     </td><td>N       </td><td>E       </td><td> 222    </td><td>  3     </td><td> 3      </td><td> 708.333</td><td>N       </td></tr>\n",
       "\t<tr><th scope=row>-Bo Diaz</th><td>474     </td><td>129     </td><td>10      </td><td> 50     </td><td> 56     </td><td>40      </td><td>10      </td><td>2331    </td><td> 604    </td><td> 61     </td><td> 246    </td><td> 327    </td><td>166     </td><td>N       </td><td>W       </td><td> 732    </td><td> 83     </td><td>13      </td><td> 750.000</td><td>N       </td></tr>\n",
       "\t<tr><th scope=row>-Bill Doran</th><td>550     </td><td>152     </td><td> 6      </td><td> 92     </td><td> 37     </td><td>81      </td><td> 5      </td><td>2308    </td><td> 633    </td><td> 32     </td><td> 349    </td><td> 182    </td><td>308     </td><td>N       </td><td>W       </td><td> 262    </td><td>329     </td><td>16      </td><td> 625.000</td><td>N       </td></tr>\n",
       "\t<tr><th scope=row>-Brian Downing</th><td>513     </td><td>137     </td><td>20      </td><td> 90     </td><td> 95     </td><td>90      </td><td>14      </td><td>5201    </td><td>1382    </td><td>166     </td><td> 763    </td><td> 734    </td><td>784     </td><td>A       </td><td>W       </td><td> 267    </td><td>  5     </td><td> 3      </td><td> 900.000</td><td>A       </td></tr>\n",
       "\t<tr><th scope=row>...</th><td>...</td><td>...</td><td>...</td><td>...</td><td>...</td><td>...</td><td>...</td><td>...</td><td>...</td><td>...</td><td>...</td><td>...</td><td>...</td><td>...</td><td>...</td><td>...</td><td>...</td><td>...</td><td>...</td><td>...</td></tr>\n",
       "\t<tr><th scope=row>-Toby Harrah</th><td>289     </td><td> 63     </td><td> 7      </td><td> 36     </td><td> 41     </td><td> 44     </td><td>17      </td><td>7402    </td><td>1954    </td><td>195     </td><td>1115    </td><td> 919    </td><td>1153    </td><td>A       </td><td>W       </td><td> 166    </td><td>211     </td><td> 7      </td><td>      NA</td><td>A       </td></tr>\n",
       "\t<tr><th scope=row>-Tommy Herr</th><td>559     </td><td>141     </td><td> 2      </td><td> 48     </td><td> 61     </td><td> 73     </td><td> 8      </td><td>3162    </td><td> 874    </td><td> 16     </td><td> 421    </td><td> 349    </td><td> 359    </td><td>N       </td><td>E       </td><td> 352    </td><td>414     </td><td> 9      </td><td> 925.000</td><td>N       </td></tr>\n",
       "\t<tr><th scope=row>-Tim Hulett</th><td>520     </td><td>120     </td><td>17      </td><td> 53     </td><td> 44     </td><td> 21     </td><td> 4      </td><td> 927    </td><td> 227    </td><td> 22     </td><td> 106    </td><td>  80    </td><td>  52    </td><td>A       </td><td>W       </td><td>  70    </td><td>144     </td><td>11      </td><td> 185.000</td><td>A       </td></tr>\n",
       "\t<tr><th scope=row>-Terry Kennedy</th><td> 19     </td><td>  4     </td><td> 1      </td><td>  2     </td><td>  3     </td><td>  1     </td><td> 1      </td><td>  19    </td><td>   4    </td><td>  1     </td><td>   2    </td><td>   3    </td><td>   1    </td><td>N       </td><td>W       </td><td> 692    </td><td> 70     </td><td> 8      </td><td> 920.000</td><td>A       </td></tr>\n",
       "\t<tr><th scope=row>-Tito Landrum</th><td>205     </td><td> 43     </td><td> 2      </td><td> 24     </td><td> 17     </td><td> 20     </td><td> 7      </td><td> 854    </td><td> 219    </td><td> 12     </td><td> 105    </td><td>  99    </td><td>  71    </td><td>N       </td><td>E       </td><td> 131    </td><td>  6     </td><td> 1      </td><td> 286.667</td><td>N       </td></tr>\n",
       "\t<tr><th scope=row>-Tim Laudner</th><td>193     </td><td> 47     </td><td>10      </td><td> 21     </td><td> 29     </td><td> 24     </td><td> 6      </td><td>1136    </td><td> 256    </td><td> 42     </td><td> 129    </td><td> 139    </td><td> 106    </td><td>A       </td><td>W       </td><td> 299    </td><td> 13     </td><td> 5      </td><td> 245.000</td><td>A       </td></tr>\n",
       "\t<tr><th scope=row>-Tom O'Malley</th><td>181     </td><td> 46     </td><td> 1      </td><td> 19     </td><td> 18     </td><td> 17     </td><td> 5      </td><td> 937    </td><td> 238    </td><td>  9     </td><td>  88    </td><td>  95    </td><td> 104    </td><td>A       </td><td>E       </td><td>  37    </td><td> 98     </td><td> 9      </td><td>      NA</td><td>A       </td></tr>\n",
       "\t<tr><th scope=row>-Tom Paciorek</th><td>213     </td><td> 61     </td><td> 4      </td><td> 17     </td><td> 22     </td><td>  3     </td><td>17      </td><td>4061    </td><td>1145    </td><td> 83     </td><td> 488    </td><td> 491    </td><td> 244    </td><td>A       </td><td>W       </td><td> 178    </td><td> 45     </td><td> 4      </td><td> 235.000</td><td>A       </td></tr>\n",
       "\t<tr><th scope=row>-Tony Pena</th><td>510     </td><td>147     </td><td>10      </td><td> 56     </td><td> 52     </td><td> 53     </td><td> 7      </td><td>2872    </td><td> 821    </td><td> 63     </td><td> 307    </td><td> 340    </td><td> 174    </td><td>N       </td><td>E       </td><td> 810    </td><td> 99     </td><td>18      </td><td>1150.000</td><td>N       </td></tr>\n",
       "\t<tr><th scope=row>-Terry Pendleton</th><td>578     </td><td>138     </td><td> 1      </td><td> 56     </td><td> 59     </td><td> 34     </td><td> 3      </td><td>1399    </td><td> 357    </td><td>  7     </td><td> 149    </td><td> 161    </td><td>  87    </td><td>N       </td><td>E       </td><td> 133    </td><td>371     </td><td>20      </td><td> 160.000</td><td>N       </td></tr>\n",
       "\t<tr><th scope=row>-Tony Perez</th><td>200     </td><td> 51     </td><td> 2      </td><td> 14     </td><td> 29     </td><td> 25     </td><td>23      </td><td>9778    </td><td>2732    </td><td>379     </td><td>1272    </td><td>1652    </td><td> 925    </td><td>N       </td><td>W       </td><td> 398    </td><td> 29     </td><td> 7      </td><td>      NA</td><td>N       </td></tr>\n",
       "\t<tr><th scope=row>-Tony Phillips</th><td>441     </td><td>113     </td><td> 5      </td><td> 76     </td><td> 52     </td><td> 76     </td><td> 5      </td><td>1546    </td><td> 397    </td><td> 17     </td><td> 226    </td><td> 149    </td><td> 191    </td><td>A       </td><td>W       </td><td> 160    </td><td>290     </td><td>11      </td><td> 425.000</td><td>A       </td></tr>\n",
       "\t<tr><th scope=row>-Terry Puhl</th><td>172     </td><td> 42     </td><td> 3      </td><td> 17     </td><td> 14     </td><td> 15     </td><td>10      </td><td>4086    </td><td>1150    </td><td> 57     </td><td> 579    </td><td> 363    </td><td> 406    </td><td>N       </td><td>W       </td><td>  65    </td><td>  0     </td><td> 0      </td><td> 900.000</td><td>N       </td></tr>\n",
       "\t<tr><th scope=row>-Tim Raines</th><td>580     </td><td>194     </td><td> 9      </td><td> 91     </td><td> 62     </td><td> 78     </td><td> 8      </td><td>3372    </td><td>1028    </td><td> 48     </td><td> 604    </td><td> 314    </td><td> 469    </td><td>N       </td><td>E       </td><td> 270    </td><td> 13     </td><td> 6      </td><td>      NA</td><td>N       </td></tr>\n",
       "\t<tr><th scope=row>-Ted Simmons</th><td>127     </td><td> 32     </td><td> 4      </td><td> 14     </td><td> 25     </td><td> 12     </td><td>19      </td><td>8396    </td><td>2402    </td><td>242     </td><td>1048    </td><td>1348    </td><td> 819    </td><td>N       </td><td>W       </td><td> 167    </td><td> 18     </td><td> 6      </td><td> 500.000</td><td>N       </td></tr>\n",
       "\t<tr><th scope=row>-Tim Teufel</th><td>279     </td><td> 69     </td><td> 4      </td><td> 35     </td><td> 31     </td><td> 32     </td><td> 4      </td><td>1359    </td><td> 355    </td><td> 31     </td><td> 180    </td><td> 148    </td><td> 158    </td><td>N       </td><td>E       </td><td> 133    </td><td>173     </td><td> 9      </td><td> 277.500</td><td>N       </td></tr>\n",
       "\t<tr><th scope=row>-Tim Wallach</th><td>480     </td><td>112     </td><td>18      </td><td> 50     </td><td> 71     </td><td> 44     </td><td> 7      </td><td>3031    </td><td> 771    </td><td>110     </td><td> 338    </td><td> 406    </td><td> 239    </td><td>N       </td><td>E       </td><td>  94    </td><td>270     </td><td>16      </td><td> 750.000</td><td>N       </td></tr>\n",
       "\t<tr><th scope=row>-Vince Coleman</th><td>600     </td><td>139     </td><td> 0      </td><td> 94     </td><td> 29     </td><td> 60     </td><td> 2      </td><td>1236    </td><td> 309    </td><td>  1     </td><td> 201    </td><td>  69    </td><td> 110    </td><td>N       </td><td>E       </td><td> 300    </td><td> 12     </td><td> 9      </td><td> 160.000</td><td>N       </td></tr>\n",
       "\t<tr><th scope=row>-Von Hayes</th><td>610     </td><td>186     </td><td>19      </td><td>107     </td><td> 98     </td><td> 74     </td><td> 6      </td><td>2728    </td><td> 753    </td><td> 69     </td><td> 399    </td><td> 366    </td><td> 286    </td><td>N       </td><td>E       </td><td>1182    </td><td> 96     </td><td>13      </td><td>1300.000</td><td>N       </td></tr>\n",
       "\t<tr><th scope=row>-Vance Law</th><td>360     </td><td> 81     </td><td> 5      </td><td> 37     </td><td> 44     </td><td> 37     </td><td> 7      </td><td>2268    </td><td> 566    </td><td> 41     </td><td> 279    </td><td> 257    </td><td> 246    </td><td>N       </td><td>E       </td><td> 170    </td><td>284     </td><td> 3      </td><td> 525.000</td><td>N       </td></tr>\n",
       "\t<tr><th scope=row>-Wally Backman</th><td>387     </td><td>124     </td><td> 1      </td><td> 67     </td><td> 27     </td><td> 36     </td><td> 7      </td><td>1775    </td><td> 506    </td><td>  6     </td><td> 272    </td><td> 125    </td><td> 194    </td><td>N       </td><td>E       </td><td> 186    </td><td>290     </td><td>17      </td><td> 550.000</td><td>N       </td></tr>\n",
       "\t<tr><th scope=row>-Wade Boggs</th><td>580     </td><td>207     </td><td> 8      </td><td>107     </td><td> 71     </td><td>105     </td><td> 5      </td><td>2778    </td><td> 978    </td><td> 32     </td><td> 474    </td><td> 322    </td><td> 417    </td><td>A       </td><td>E       </td><td> 121    </td><td>267     </td><td>19      </td><td>1600.000</td><td>A       </td></tr>\n",
       "\t<tr><th scope=row>-Will Clark</th><td>408     </td><td>117     </td><td>11      </td><td> 66     </td><td> 41     </td><td> 34     </td><td> 1      </td><td> 408    </td><td> 117    </td><td> 11     </td><td>  66    </td><td>  41    </td><td>  34    </td><td>N       </td><td>W       </td><td> 942    </td><td> 72     </td><td>11      </td><td> 120.000</td><td>N       </td></tr>\n",
       "\t<tr><th scope=row>-Wally Joyner</th><td>593     </td><td>172     </td><td>22      </td><td> 82     </td><td>100     </td><td> 57     </td><td> 1      </td><td> 593    </td><td> 172    </td><td> 22     </td><td>  82    </td><td> 100    </td><td>  57    </td><td>A       </td><td>W       </td><td>1222    </td><td>139     </td><td>15      </td><td> 165.000</td><td>A       </td></tr>\n",
       "\t<tr><th scope=row>-Wayne Krenchicki</th><td>221     </td><td> 53     </td><td> 2      </td><td> 21     </td><td> 23     </td><td> 22     </td><td> 8      </td><td>1063    </td><td> 283    </td><td> 15     </td><td> 107    </td><td> 124    </td><td> 106    </td><td>N       </td><td>E       </td><td> 325    </td><td> 58     </td><td> 6      </td><td>      NA</td><td>N       </td></tr>\n",
       "\t<tr><th scope=row>-Willie McGee</th><td>497     </td><td>127     </td><td> 7      </td><td> 65     </td><td> 48     </td><td> 37     </td><td> 5      </td><td>2703    </td><td> 806    </td><td> 32     </td><td> 379    </td><td> 311    </td><td> 138    </td><td>N       </td><td>E       </td><td> 325    </td><td>  9     </td><td> 3      </td><td> 700.000</td><td>N       </td></tr>\n",
       "\t<tr><th scope=row>-Willie Randolph</th><td>492     </td><td>136     </td><td> 5      </td><td> 76     </td><td> 50     </td><td> 94     </td><td>12      </td><td>5511    </td><td>1511    </td><td> 39     </td><td> 897    </td><td> 451    </td><td> 875    </td><td>A       </td><td>E       </td><td> 313    </td><td>381     </td><td>20      </td><td> 875.000</td><td>A       </td></tr>\n",
       "\t<tr><th scope=row>-Wayne Tolleson</th><td>475     </td><td>126     </td><td> 3      </td><td> 61     </td><td> 43     </td><td> 52     </td><td> 6      </td><td>1700    </td><td> 433    </td><td>  7     </td><td> 217    </td><td>  93    </td><td> 146    </td><td>A       </td><td>W       </td><td>  37    </td><td>113     </td><td> 7      </td><td> 385.000</td><td>A       </td></tr>\n",
       "\t<tr><th scope=row>-Willie Upshaw</th><td>573     </td><td>144     </td><td> 9      </td><td> 85     </td><td> 60     </td><td> 78     </td><td> 8      </td><td>3198    </td><td> 857    </td><td> 97     </td><td> 470    </td><td> 420    </td><td> 332    </td><td>A       </td><td>E       </td><td>1314    </td><td>131     </td><td>12      </td><td> 960.000</td><td>A       </td></tr>\n",
       "\t<tr><th scope=row>-Willie Wilson</th><td>631     </td><td>170     </td><td> 9      </td><td> 77     </td><td> 44     </td><td> 31     </td><td>11      </td><td>4908    </td><td>1457    </td><td> 30     </td><td> 775    </td><td> 357    </td><td> 249    </td><td>A       </td><td>W       </td><td> 408    </td><td>  4     </td><td> 3      </td><td>1000.000</td><td>A       </td></tr>\n",
       "</tbody>\n",
       "</table>\n"
      ],
      "text/latex": [
       "\\begin{tabular}{r|llllllllllllllllllll}\n",
       "  & AtBat & Hits & HmRun & Runs & RBI & Walks & Years & CAtBat & CHits & CHmRun & CRuns & CRBI & CWalks & League & Division & PutOuts & Assists & Errors & Salary & NewLeague\\\\\n",
       "\\hline\n",
       "\t-Andy Allanson & 293      &  66      &  1       &  30      &  29      & 14       &  1       &  293     &   66     &   1      &   30     &   29     &  14      & A        & E        &  446     &  33      & 20       &       NA & A       \\\\\n",
       "\t-Alan Ashby & 315      &  81      &  7       &  24      &  38      & 39       & 14       & 3449     &  835     &  69      &  321     &  414     & 375      & N        & W        &  632     &  43      & 10       &  475.000 & N       \\\\\n",
       "\t-Alvin Davis & 479      & 130      & 18       &  66      &  72      & 76       &  3       & 1624     &  457     &  63      &  224     &  266     & 263      & A        & W        &  880     &  82      & 14       &  480.000 & A       \\\\\n",
       "\t-Andre Dawson & 496      & 141      & 20       &  65      &  78      & 37       & 11       & 5628     & 1575     & 225      &  828     &  838     & 354      & N        & E        &  200     &  11      &  3       &  500.000 & N       \\\\\n",
       "\t-Andres Galarraga & 321      &  87      & 10       &  39      &  42      & 30       &  2       &  396     &  101     &  12      &   48     &   46     &  33      & N        & E        &  805     &  40      &  4       &   91.500 & N       \\\\\n",
       "\t-Alfredo Griffin & 594      & 169      &  4       &  74      &  51      & 35       & 11       & 4408     & 1133     &  19      &  501     &  336     & 194      & A        & W        &  282     & 421      & 25       &  750.000 & A       \\\\\n",
       "\t-Al Newman & 185      &  37      &  1       &  23      &   8      & 21       &  2       &  214     &   42     &   1      &   30     &    9     &  24      & N        & E        &   76     & 127      &  7       &   70.000 & A       \\\\\n",
       "\t-Argenis Salazar & 298      &  73      &  0       &  24      &  24      &  7       &  3       &  509     &  108     &   0      &   41     &   37     &  12      & A        & W        &  121     & 283      &  9       &  100.000 & A       \\\\\n",
       "\t-Andres Thomas & 323      &  81      &  6       &  26      &  32      &  8       &  2       &  341     &   86     &   6      &   32     &   34     &   8      & N        & W        &  143     & 290      & 19       &   75.000 & N       \\\\\n",
       "\t-Andre Thornton & 401      &  92      & 17       &  49      &  66      & 65       & 13       & 5206     & 1332     & 253      &  784     &  890     & 866      & A        & E        &    0     &   0      &  0       & 1100.000 & A       \\\\\n",
       "\t-Alan Trammell & 574      & 159      & 21       & 107      &  75      & 59       & 10       & 4631     & 1300     &  90      &  702     &  504     & 488      & A        & E        &  238     & 445      & 22       &  517.143 & A       \\\\\n",
       "\t-Alex Trevino & 202      &  53      &  4       &  31      &  26      & 27       &  9       & 1876     &  467     &  15      &  192     &  186     & 161      & N        & W        &  304     &  45      & 11       &  512.500 & N       \\\\\n",
       "\t-Andy VanSlyke & 418      & 113      & 13       &  48      &  61      & 47       &  4       & 1512     &  392     &  41      &  205     &  204     & 203      & N        & E        &  211     &  11      &  7       &  550.000 & N       \\\\\n",
       "\t-Alan Wiggins & 239      &  60      &  0       &  30      &  11      & 22       &  6       & 1941     &  510     &   4      &  309     &  103     & 207      & A        & E        &  121     & 151      &  6       &  700.000 & A       \\\\\n",
       "\t-Bill Almon & 196      &  43      &  7       &  29      &  27      & 30       & 13       & 3231     &  825     &  36      &  376     &  290     & 238      & N        & E        &   80     &  45      &  8       &  240.000 & N       \\\\\n",
       "\t-Billy Beane & 183      &  39      &  3       &  20      &  15      & 11       &  3       &  201     &   42     &   3      &   20     &   16     &  11      & A        & W        &  118     &   0      &  0       &       NA & A       \\\\\n",
       "\t-Buddy Bell & 568      & 158      & 20       &  89      &  75      & 73       & 15       & 8068     & 2273     & 177      & 1045     &  993     & 732      & N        & W        &  105     & 290      & 10       &  775.000 & N       \\\\\n",
       "\t-Buddy Biancalana & 190      &  46      &  2       &  24      &   8      & 15       &  5       &  479     &  102     &   5      &   65     &   23     &  39      & A        & W        &  102     & 177      & 16       &  175.000 & A       \\\\\n",
       "\t-Bruce Bochte & 407      & 104      &  6       &  57      &  43      & 65       & 12       & 5233     & 1478     & 100      &  643     &  658     & 653      & A        & W        &  912     &  88      &  9       &       NA & A       \\\\\n",
       "\t-Bruce Bochy & 127      &  32      &  8       &  16      &  22      & 14       &  8       &  727     &  180     &  24      &   67     &   82     &  56      & N        & W        &  202     &  22      &  2       &  135.000 & N       \\\\\n",
       "\t-Barry Bonds & 413      &  92      & 16       &  72      &  48      & 65       &  1       &  413     &   92     &  16      &   72     &   48     &  65      & N        & E        &  280     &   9      &  5       &  100.000 & N       \\\\\n",
       "\t-Bobby Bonilla & 426      & 109      &  3       &  55      &  43      & 62       &  1       &  426     &  109     &   3      &   55     &   43     &  62      & A        & W        &  361     &  22      &  2       &  115.000 & N       \\\\\n",
       "\t-Bob Boone &  22      &  10      &  1       &   4      &   2      &  1       &  6       &   84     &   26     &   2      &    9     &    9     &   3      & A        & W        &  812     &  84      & 11       &       NA & A       \\\\\n",
       "\t-Bob Brenly & 472      & 116      & 16       &  60      &  62      & 74       &  6       & 1924     &  489     &  67      &  242     &  251     & 240      & N        & W        &  518     &  55      &  3       &  600.000 & N       \\\\\n",
       "\t-Bill Buckner & 629      & 168      & 18       &  73      & 102      & 40       & 18       & 8424     & 2464     & 164      & 1008     & 1072     & 402      & A        & E        & 1067     & 157      & 14       &  776.667 & A       \\\\\n",
       "\t-Brett Butler & 587      & 163      &  4       &  92      &  51      & 70       &  6       & 2695     &  747     &  17      &  442     &  198     & 317      & A        & E        &  434     &   9      &  3       &  765.000 & A       \\\\\n",
       "\t-Bob Dernier & 324      &  73      &  4       &  32      &  18      & 22       &  7       & 1931     &  491     &  13      &  291     &  108     & 180      & N        & E        &  222     &   3      &  3       &  708.333 & N       \\\\\n",
       "\t-Bo Diaz & 474      & 129      & 10       &  50      &  56      & 40       & 10       & 2331     &  604     &  61      &  246     &  327     & 166      & N        & W        &  732     &  83      & 13       &  750.000 & N       \\\\\n",
       "\t-Bill Doran & 550      & 152      &  6       &  92      &  37      & 81       &  5       & 2308     &  633     &  32      &  349     &  182     & 308      & N        & W        &  262     & 329      & 16       &  625.000 & N       \\\\\n",
       "\t-Brian Downing & 513      & 137      & 20       &  90      &  95      & 90       & 14       & 5201     & 1382     & 166      &  763     &  734     & 784      & A        & W        &  267     &   5      &  3       &  900.000 & A       \\\\\n",
       "\t... & ... & ... & ... & ... & ... & ... & ... & ... & ... & ... & ... & ... & ... & ... & ... & ... & ... & ... & ... & ...\\\\\n",
       "\t-Toby Harrah & 289      &  63      &  7       &  36      &  41      &  44      & 17       & 7402     & 1954     & 195      & 1115     &  919     & 1153     & A        & W        &  166     & 211      &  7       &       NA & A       \\\\\n",
       "\t-Tommy Herr & 559      & 141      &  2       &  48      &  61      &  73      &  8       & 3162     &  874     &  16      &  421     &  349     &  359     & N        & E        &  352     & 414      &  9       &  925.000 & N       \\\\\n",
       "\t-Tim Hulett & 520      & 120      & 17       &  53      &  44      &  21      &  4       &  927     &  227     &  22      &  106     &   80     &   52     & A        & W        &   70     & 144      & 11       &  185.000 & A       \\\\\n",
       "\t-Terry Kennedy &  19      &   4      &  1       &   2      &   3      &   1      &  1       &   19     &    4     &   1      &    2     &    3     &    1     & N        & W        &  692     &  70      &  8       &  920.000 & A       \\\\\n",
       "\t-Tito Landrum & 205      &  43      &  2       &  24      &  17      &  20      &  7       &  854     &  219     &  12      &  105     &   99     &   71     & N        & E        &  131     &   6      &  1       &  286.667 & N       \\\\\n",
       "\t-Tim Laudner & 193      &  47      & 10       &  21      &  29      &  24      &  6       & 1136     &  256     &  42      &  129     &  139     &  106     & A        & W        &  299     &  13      &  5       &  245.000 & A       \\\\\n",
       "\t-Tom O'Malley & 181      &  46      &  1       &  19      &  18      &  17      &  5       &  937     &  238     &   9      &   88     &   95     &  104     & A        & E        &   37     &  98      &  9       &       NA & A       \\\\\n",
       "\t-Tom Paciorek & 213      &  61      &  4       &  17      &  22      &   3      & 17       & 4061     & 1145     &  83      &  488     &  491     &  244     & A        & W        &  178     &  45      &  4       &  235.000 & A       \\\\\n",
       "\t-Tony Pena & 510      & 147      & 10       &  56      &  52      &  53      &  7       & 2872     &  821     &  63      &  307     &  340     &  174     & N        & E        &  810     &  99      & 18       & 1150.000 & N       \\\\\n",
       "\t-Terry Pendleton & 578      & 138      &  1       &  56      &  59      &  34      &  3       & 1399     &  357     &   7      &  149     &  161     &   87     & N        & E        &  133     & 371      & 20       &  160.000 & N       \\\\\n",
       "\t-Tony Perez & 200      &  51      &  2       &  14      &  29      &  25      & 23       & 9778     & 2732     & 379      & 1272     & 1652     &  925     & N        & W        &  398     &  29      &  7       &       NA & N       \\\\\n",
       "\t-Tony Phillips & 441      & 113      &  5       &  76      &  52      &  76      &  5       & 1546     &  397     &  17      &  226     &  149     &  191     & A        & W        &  160     & 290      & 11       &  425.000 & A       \\\\\n",
       "\t-Terry Puhl & 172      &  42      &  3       &  17      &  14      &  15      & 10       & 4086     & 1150     &  57      &  579     &  363     &  406     & N        & W        &   65     &   0      &  0       &  900.000 & N       \\\\\n",
       "\t-Tim Raines & 580      & 194      &  9       &  91      &  62      &  78      &  8       & 3372     & 1028     &  48      &  604     &  314     &  469     & N        & E        &  270     &  13      &  6       &       NA & N       \\\\\n",
       "\t-Ted Simmons & 127      &  32      &  4       &  14      &  25      &  12      & 19       & 8396     & 2402     & 242      & 1048     & 1348     &  819     & N        & W        &  167     &  18      &  6       &  500.000 & N       \\\\\n",
       "\t-Tim Teufel & 279      &  69      &  4       &  35      &  31      &  32      &  4       & 1359     &  355     &  31      &  180     &  148     &  158     & N        & E        &  133     & 173      &  9       &  277.500 & N       \\\\\n",
       "\t-Tim Wallach & 480      & 112      & 18       &  50      &  71      &  44      &  7       & 3031     &  771     & 110      &  338     &  406     &  239     & N        & E        &   94     & 270      & 16       &  750.000 & N       \\\\\n",
       "\t-Vince Coleman & 600      & 139      &  0       &  94      &  29      &  60      &  2       & 1236     &  309     &   1      &  201     &   69     &  110     & N        & E        &  300     &  12      &  9       &  160.000 & N       \\\\\n",
       "\t-Von Hayes & 610      & 186      & 19       & 107      &  98      &  74      &  6       & 2728     &  753     &  69      &  399     &  366     &  286     & N        & E        & 1182     &  96      & 13       & 1300.000 & N       \\\\\n",
       "\t-Vance Law & 360      &  81      &  5       &  37      &  44      &  37      &  7       & 2268     &  566     &  41      &  279     &  257     &  246     & N        & E        &  170     & 284      &  3       &  525.000 & N       \\\\\n",
       "\t-Wally Backman & 387      & 124      &  1       &  67      &  27      &  36      &  7       & 1775     &  506     &   6      &  272     &  125     &  194     & N        & E        &  186     & 290      & 17       &  550.000 & N       \\\\\n",
       "\t-Wade Boggs & 580      & 207      &  8       & 107      &  71      & 105      &  5       & 2778     &  978     &  32      &  474     &  322     &  417     & A        & E        &  121     & 267      & 19       & 1600.000 & A       \\\\\n",
       "\t-Will Clark & 408      & 117      & 11       &  66      &  41      &  34      &  1       &  408     &  117     &  11      &   66     &   41     &   34     & N        & W        &  942     &  72      & 11       &  120.000 & N       \\\\\n",
       "\t-Wally Joyner & 593      & 172      & 22       &  82      & 100      &  57      &  1       &  593     &  172     &  22      &   82     &  100     &   57     & A        & W        & 1222     & 139      & 15       &  165.000 & A       \\\\\n",
       "\t-Wayne Krenchicki & 221      &  53      &  2       &  21      &  23      &  22      &  8       & 1063     &  283     &  15      &  107     &  124     &  106     & N        & E        &  325     &  58      &  6       &       NA & N       \\\\\n",
       "\t-Willie McGee & 497      & 127      &  7       &  65      &  48      &  37      &  5       & 2703     &  806     &  32      &  379     &  311     &  138     & N        & E        &  325     &   9      &  3       &  700.000 & N       \\\\\n",
       "\t-Willie Randolph & 492      & 136      &  5       &  76      &  50      &  94      & 12       & 5511     & 1511     &  39      &  897     &  451     &  875     & A        & E        &  313     & 381      & 20       &  875.000 & A       \\\\\n",
       "\t-Wayne Tolleson & 475      & 126      &  3       &  61      &  43      &  52      &  6       & 1700     &  433     &   7      &  217     &   93     &  146     & A        & W        &   37     & 113      &  7       &  385.000 & A       \\\\\n",
       "\t-Willie Upshaw & 573      & 144      &  9       &  85      &  60      &  78      &  8       & 3198     &  857     &  97      &  470     &  420     &  332     & A        & E        & 1314     & 131      & 12       &  960.000 & A       \\\\\n",
       "\t-Willie Wilson & 631      & 170      &  9       &  77      &  44      &  31      & 11       & 4908     & 1457     &  30      &  775     &  357     &  249     & A        & W        &  408     &   4      &  3       & 1000.000 & A       \\\\\n",
       "\\end{tabular}\n"
      ],
      "text/markdown": [
       "\n",
       "| <!--/--> | AtBat | Hits | HmRun | Runs | RBI | Walks | Years | CAtBat | CHits | CHmRun | CRuns | CRBI | CWalks | League | Division | PutOuts | Assists | Errors | Salary | NewLeague |\n",
       "|---|---|---|---|---|---|---|---|---|---|---|---|---|---|---|---|---|---|---|---|---|\n",
       "| -Andy Allanson | 293      |  66      |  1       |  30      |  29      | 14       |  1       |  293     |   66     |   1      |   30     |   29     |  14      | A        | E        |  446     |  33      | 20       |       NA | A        |\n",
       "| -Alan Ashby | 315      |  81      |  7       |  24      |  38      | 39       | 14       | 3449     |  835     |  69      |  321     |  414     | 375      | N        | W        |  632     |  43      | 10       |  475.000 | N        |\n",
       "| -Alvin Davis | 479      | 130      | 18       |  66      |  72      | 76       |  3       | 1624     |  457     |  63      |  224     |  266     | 263      | A        | W        |  880     |  82      | 14       |  480.000 | A        |\n",
       "| -Andre Dawson | 496      | 141      | 20       |  65      |  78      | 37       | 11       | 5628     | 1575     | 225      |  828     |  838     | 354      | N        | E        |  200     |  11      |  3       |  500.000 | N        |\n",
       "| -Andres Galarraga | 321      |  87      | 10       |  39      |  42      | 30       |  2       |  396     |  101     |  12      |   48     |   46     |  33      | N        | E        |  805     |  40      |  4       |   91.500 | N        |\n",
       "| -Alfredo Griffin | 594      | 169      |  4       |  74      |  51      | 35       | 11       | 4408     | 1133     |  19      |  501     |  336     | 194      | A        | W        |  282     | 421      | 25       |  750.000 | A        |\n",
       "| -Al Newman | 185      |  37      |  1       |  23      |   8      | 21       |  2       |  214     |   42     |   1      |   30     |    9     |  24      | N        | E        |   76     | 127      |  7       |   70.000 | A        |\n",
       "| -Argenis Salazar | 298      |  73      |  0       |  24      |  24      |  7       |  3       |  509     |  108     |   0      |   41     |   37     |  12      | A        | W        |  121     | 283      |  9       |  100.000 | A        |\n",
       "| -Andres Thomas | 323      |  81      |  6       |  26      |  32      |  8       |  2       |  341     |   86     |   6      |   32     |   34     |   8      | N        | W        |  143     | 290      | 19       |   75.000 | N        |\n",
       "| -Andre Thornton | 401      |  92      | 17       |  49      |  66      | 65       | 13       | 5206     | 1332     | 253      |  784     |  890     | 866      | A        | E        |    0     |   0      |  0       | 1100.000 | A        |\n",
       "| -Alan Trammell | 574      | 159      | 21       | 107      |  75      | 59       | 10       | 4631     | 1300     |  90      |  702     |  504     | 488      | A        | E        |  238     | 445      | 22       |  517.143 | A        |\n",
       "| -Alex Trevino | 202      |  53      |  4       |  31      |  26      | 27       |  9       | 1876     |  467     |  15      |  192     |  186     | 161      | N        | W        |  304     |  45      | 11       |  512.500 | N        |\n",
       "| -Andy VanSlyke | 418      | 113      | 13       |  48      |  61      | 47       |  4       | 1512     |  392     |  41      |  205     |  204     | 203      | N        | E        |  211     |  11      |  7       |  550.000 | N        |\n",
       "| -Alan Wiggins | 239      |  60      |  0       |  30      |  11      | 22       |  6       | 1941     |  510     |   4      |  309     |  103     | 207      | A        | E        |  121     | 151      |  6       |  700.000 | A        |\n",
       "| -Bill Almon | 196      |  43      |  7       |  29      |  27      | 30       | 13       | 3231     |  825     |  36      |  376     |  290     | 238      | N        | E        |   80     |  45      |  8       |  240.000 | N        |\n",
       "| -Billy Beane | 183      |  39      |  3       |  20      |  15      | 11       |  3       |  201     |   42     |   3      |   20     |   16     |  11      | A        | W        |  118     |   0      |  0       |       NA | A        |\n",
       "| -Buddy Bell | 568      | 158      | 20       |  89      |  75      | 73       | 15       | 8068     | 2273     | 177      | 1045     |  993     | 732      | N        | W        |  105     | 290      | 10       |  775.000 | N        |\n",
       "| -Buddy Biancalana | 190      |  46      |  2       |  24      |   8      | 15       |  5       |  479     |  102     |   5      |   65     |   23     |  39      | A        | W        |  102     | 177      | 16       |  175.000 | A        |\n",
       "| -Bruce Bochte | 407      | 104      |  6       |  57      |  43      | 65       | 12       | 5233     | 1478     | 100      |  643     |  658     | 653      | A        | W        |  912     |  88      |  9       |       NA | A        |\n",
       "| -Bruce Bochy | 127      |  32      |  8       |  16      |  22      | 14       |  8       |  727     |  180     |  24      |   67     |   82     |  56      | N        | W        |  202     |  22      |  2       |  135.000 | N        |\n",
       "| -Barry Bonds | 413      |  92      | 16       |  72      |  48      | 65       |  1       |  413     |   92     |  16      |   72     |   48     |  65      | N        | E        |  280     |   9      |  5       |  100.000 | N        |\n",
       "| -Bobby Bonilla | 426      | 109      |  3       |  55      |  43      | 62       |  1       |  426     |  109     |   3      |   55     |   43     |  62      | A        | W        |  361     |  22      |  2       |  115.000 | N        |\n",
       "| -Bob Boone |  22      |  10      |  1       |   4      |   2      |  1       |  6       |   84     |   26     |   2      |    9     |    9     |   3      | A        | W        |  812     |  84      | 11       |       NA | A        |\n",
       "| -Bob Brenly | 472      | 116      | 16       |  60      |  62      | 74       |  6       | 1924     |  489     |  67      |  242     |  251     | 240      | N        | W        |  518     |  55      |  3       |  600.000 | N        |\n",
       "| -Bill Buckner | 629      | 168      | 18       |  73      | 102      | 40       | 18       | 8424     | 2464     | 164      | 1008     | 1072     | 402      | A        | E        | 1067     | 157      | 14       |  776.667 | A        |\n",
       "| -Brett Butler | 587      | 163      |  4       |  92      |  51      | 70       |  6       | 2695     |  747     |  17      |  442     |  198     | 317      | A        | E        |  434     |   9      |  3       |  765.000 | A        |\n",
       "| -Bob Dernier | 324      |  73      |  4       |  32      |  18      | 22       |  7       | 1931     |  491     |  13      |  291     |  108     | 180      | N        | E        |  222     |   3      |  3       |  708.333 | N        |\n",
       "| -Bo Diaz | 474      | 129      | 10       |  50      |  56      | 40       | 10       | 2331     |  604     |  61      |  246     |  327     | 166      | N        | W        |  732     |  83      | 13       |  750.000 | N        |\n",
       "| -Bill Doran | 550      | 152      |  6       |  92      |  37      | 81       |  5       | 2308     |  633     |  32      |  349     |  182     | 308      | N        | W        |  262     | 329      | 16       |  625.000 | N        |\n",
       "| -Brian Downing | 513      | 137      | 20       |  90      |  95      | 90       | 14       | 5201     | 1382     | 166      |  763     |  734     | 784      | A        | W        |  267     |   5      |  3       |  900.000 | A        |\n",
       "| ... | ... | ... | ... | ... | ... | ... | ... | ... | ... | ... | ... | ... | ... | ... | ... | ... | ... | ... | ... | ... |\n",
       "| -Toby Harrah | 289      |  63      |  7       |  36      |  41      |  44      | 17       | 7402     | 1954     | 195      | 1115     |  919     | 1153     | A        | W        |  166     | 211      |  7       |       NA | A        |\n",
       "| -Tommy Herr | 559      | 141      |  2       |  48      |  61      |  73      |  8       | 3162     |  874     |  16      |  421     |  349     |  359     | N        | E        |  352     | 414      |  9       |  925.000 | N        |\n",
       "| -Tim Hulett | 520      | 120      | 17       |  53      |  44      |  21      |  4       |  927     |  227     |  22      |  106     |   80     |   52     | A        | W        |   70     | 144      | 11       |  185.000 | A        |\n",
       "| -Terry Kennedy |  19      |   4      |  1       |   2      |   3      |   1      |  1       |   19     |    4     |   1      |    2     |    3     |    1     | N        | W        |  692     |  70      |  8       |  920.000 | A        |\n",
       "| -Tito Landrum | 205      |  43      |  2       |  24      |  17      |  20      |  7       |  854     |  219     |  12      |  105     |   99     |   71     | N        | E        |  131     |   6      |  1       |  286.667 | N        |\n",
       "| -Tim Laudner | 193      |  47      | 10       |  21      |  29      |  24      |  6       | 1136     |  256     |  42      |  129     |  139     |  106     | A        | W        |  299     |  13      |  5       |  245.000 | A        |\n",
       "| -Tom O'Malley | 181      |  46      |  1       |  19      |  18      |  17      |  5       |  937     |  238     |   9      |   88     |   95     |  104     | A        | E        |   37     |  98      |  9       |       NA | A        |\n",
       "| -Tom Paciorek | 213      |  61      |  4       |  17      |  22      |   3      | 17       | 4061     | 1145     |  83      |  488     |  491     |  244     | A        | W        |  178     |  45      |  4       |  235.000 | A        |\n",
       "| -Tony Pena | 510      | 147      | 10       |  56      |  52      |  53      |  7       | 2872     |  821     |  63      |  307     |  340     |  174     | N        | E        |  810     |  99      | 18       | 1150.000 | N        |\n",
       "| -Terry Pendleton | 578      | 138      |  1       |  56      |  59      |  34      |  3       | 1399     |  357     |   7      |  149     |  161     |   87     | N        | E        |  133     | 371      | 20       |  160.000 | N        |\n",
       "| -Tony Perez | 200      |  51      |  2       |  14      |  29      |  25      | 23       | 9778     | 2732     | 379      | 1272     | 1652     |  925     | N        | W        |  398     |  29      |  7       |       NA | N        |\n",
       "| -Tony Phillips | 441      | 113      |  5       |  76      |  52      |  76      |  5       | 1546     |  397     |  17      |  226     |  149     |  191     | A        | W        |  160     | 290      | 11       |  425.000 | A        |\n",
       "| -Terry Puhl | 172      |  42      |  3       |  17      |  14      |  15      | 10       | 4086     | 1150     |  57      |  579     |  363     |  406     | N        | W        |   65     |   0      |  0       |  900.000 | N        |\n",
       "| -Tim Raines | 580      | 194      |  9       |  91      |  62      |  78      |  8       | 3372     | 1028     |  48      |  604     |  314     |  469     | N        | E        |  270     |  13      |  6       |       NA | N        |\n",
       "| -Ted Simmons | 127      |  32      |  4       |  14      |  25      |  12      | 19       | 8396     | 2402     | 242      | 1048     | 1348     |  819     | N        | W        |  167     |  18      |  6       |  500.000 | N        |\n",
       "| -Tim Teufel | 279      |  69      |  4       |  35      |  31      |  32      |  4       | 1359     |  355     |  31      |  180     |  148     |  158     | N        | E        |  133     | 173      |  9       |  277.500 | N        |\n",
       "| -Tim Wallach | 480      | 112      | 18       |  50      |  71      |  44      |  7       | 3031     |  771     | 110      |  338     |  406     |  239     | N        | E        |   94     | 270      | 16       |  750.000 | N        |\n",
       "| -Vince Coleman | 600      | 139      |  0       |  94      |  29      |  60      |  2       | 1236     |  309     |   1      |  201     |   69     |  110     | N        | E        |  300     |  12      |  9       |  160.000 | N        |\n",
       "| -Von Hayes | 610      | 186      | 19       | 107      |  98      |  74      |  6       | 2728     |  753     |  69      |  399     |  366     |  286     | N        | E        | 1182     |  96      | 13       | 1300.000 | N        |\n",
       "| -Vance Law | 360      |  81      |  5       |  37      |  44      |  37      |  7       | 2268     |  566     |  41      |  279     |  257     |  246     | N        | E        |  170     | 284      |  3       |  525.000 | N        |\n",
       "| -Wally Backman | 387      | 124      |  1       |  67      |  27      |  36      |  7       | 1775     |  506     |   6      |  272     |  125     |  194     | N        | E        |  186     | 290      | 17       |  550.000 | N        |\n",
       "| -Wade Boggs | 580      | 207      |  8       | 107      |  71      | 105      |  5       | 2778     |  978     |  32      |  474     |  322     |  417     | A        | E        |  121     | 267      | 19       | 1600.000 | A        |\n",
       "| -Will Clark | 408      | 117      | 11       |  66      |  41      |  34      |  1       |  408     |  117     |  11      |   66     |   41     |   34     | N        | W        |  942     |  72      | 11       |  120.000 | N        |\n",
       "| -Wally Joyner | 593      | 172      | 22       |  82      | 100      |  57      |  1       |  593     |  172     |  22      |   82     |  100     |   57     | A        | W        | 1222     | 139      | 15       |  165.000 | A        |\n",
       "| -Wayne Krenchicki | 221      |  53      |  2       |  21      |  23      |  22      |  8       | 1063     |  283     |  15      |  107     |  124     |  106     | N        | E        |  325     |  58      |  6       |       NA | N        |\n",
       "| -Willie McGee | 497      | 127      |  7       |  65      |  48      |  37      |  5       | 2703     |  806     |  32      |  379     |  311     |  138     | N        | E        |  325     |   9      |  3       |  700.000 | N        |\n",
       "| -Willie Randolph | 492      | 136      |  5       |  76      |  50      |  94      | 12       | 5511     | 1511     |  39      |  897     |  451     |  875     | A        | E        |  313     | 381      | 20       |  875.000 | A        |\n",
       "| -Wayne Tolleson | 475      | 126      |  3       |  61      |  43      |  52      |  6       | 1700     |  433     |   7      |  217     |   93     |  146     | A        | W        |   37     | 113      |  7       |  385.000 | A        |\n",
       "| -Willie Upshaw | 573      | 144      |  9       |  85      |  60      |  78      |  8       | 3198     |  857     |  97      |  470     |  420     |  332     | A        | E        | 1314     | 131      | 12       |  960.000 | A        |\n",
       "| -Willie Wilson | 631      | 170      |  9       |  77      |  44      |  31      | 11       | 4908     | 1457     |  30      |  775     |  357     |  249     | A        | W        |  408     |   4      |  3       | 1000.000 | A        |\n",
       "\n"
      ],
      "text/plain": [
       "                  AtBat Hits HmRun Runs RBI Walks Years CAtBat CHits CHmRun\n",
       "-Andy Allanson    293    66   1     30   29 14     1     293     66    1   \n",
       "-Alan Ashby       315    81   7     24   38 39    14    3449    835   69   \n",
       "-Alvin Davis      479   130  18     66   72 76     3    1624    457   63   \n",
       "-Andre Dawson     496   141  20     65   78 37    11    5628   1575  225   \n",
       "-Andres Galarraga 321    87  10     39   42 30     2     396    101   12   \n",
       "-Alfredo Griffin  594   169   4     74   51 35    11    4408   1133   19   \n",
       "-Al Newman        185    37   1     23    8 21     2     214     42    1   \n",
       "-Argenis Salazar  298    73   0     24   24  7     3     509    108    0   \n",
       "-Andres Thomas    323    81   6     26   32  8     2     341     86    6   \n",
       "-Andre Thornton   401    92  17     49   66 65    13    5206   1332  253   \n",
       "-Alan Trammell    574   159  21    107   75 59    10    4631   1300   90   \n",
       "-Alex Trevino     202    53   4     31   26 27     9    1876    467   15   \n",
       "-Andy VanSlyke    418   113  13     48   61 47     4    1512    392   41   \n",
       "-Alan Wiggins     239    60   0     30   11 22     6    1941    510    4   \n",
       "-Bill Almon       196    43   7     29   27 30    13    3231    825   36   \n",
       "-Billy Beane      183    39   3     20   15 11     3     201     42    3   \n",
       "-Buddy Bell       568   158  20     89   75 73    15    8068   2273  177   \n",
       "-Buddy Biancalana 190    46   2     24    8 15     5     479    102    5   \n",
       "-Bruce Bochte     407   104   6     57   43 65    12    5233   1478  100   \n",
       "-Bruce Bochy      127    32   8     16   22 14     8     727    180   24   \n",
       "-Barry Bonds      413    92  16     72   48 65     1     413     92   16   \n",
       "-Bobby Bonilla    426   109   3     55   43 62     1     426    109    3   \n",
       "-Bob Boone         22    10   1      4    2  1     6      84     26    2   \n",
       "-Bob Brenly       472   116  16     60   62 74     6    1924    489   67   \n",
       "-Bill Buckner     629   168  18     73  102 40    18    8424   2464  164   \n",
       "-Brett Butler     587   163   4     92   51 70     6    2695    747   17   \n",
       "-Bob Dernier      324    73   4     32   18 22     7    1931    491   13   \n",
       "-Bo Diaz          474   129  10     50   56 40    10    2331    604   61   \n",
       "-Bill Doran       550   152   6     92   37 81     5    2308    633   32   \n",
       "-Brian Downing    513   137  20     90   95 90    14    5201   1382  166   \n",
       "...               ...   ...  ...   ...  ... ...   ...   ...    ...   ...   \n",
       "-Toby Harrah      289    63   7     36   41  44   17    7402   1954  195   \n",
       "-Tommy Herr       559   141   2     48   61  73    8    3162    874   16   \n",
       "-Tim Hulett       520   120  17     53   44  21    4     927    227   22   \n",
       "-Terry Kennedy     19     4   1      2    3   1    1      19      4    1   \n",
       "-Tito Landrum     205    43   2     24   17  20    7     854    219   12   \n",
       "-Tim Laudner      193    47  10     21   29  24    6    1136    256   42   \n",
       "-Tom O'Malley     181    46   1     19   18  17    5     937    238    9   \n",
       "-Tom Paciorek     213    61   4     17   22   3   17    4061   1145   83   \n",
       "-Tony Pena        510   147  10     56   52  53    7    2872    821   63   \n",
       "-Terry Pendleton  578   138   1     56   59  34    3    1399    357    7   \n",
       "-Tony Perez       200    51   2     14   29  25   23    9778   2732  379   \n",
       "-Tony Phillips    441   113   5     76   52  76    5    1546    397   17   \n",
       "-Terry Puhl       172    42   3     17   14  15   10    4086   1150   57   \n",
       "-Tim Raines       580   194   9     91   62  78    8    3372   1028   48   \n",
       "-Ted Simmons      127    32   4     14   25  12   19    8396   2402  242   \n",
       "-Tim Teufel       279    69   4     35   31  32    4    1359    355   31   \n",
       "-Tim Wallach      480   112  18     50   71  44    7    3031    771  110   \n",
       "-Vince Coleman    600   139   0     94   29  60    2    1236    309    1   \n",
       "-Von Hayes        610   186  19    107   98  74    6    2728    753   69   \n",
       "-Vance Law        360    81   5     37   44  37    7    2268    566   41   \n",
       "-Wally Backman    387   124   1     67   27  36    7    1775    506    6   \n",
       "-Wade Boggs       580   207   8    107   71 105    5    2778    978   32   \n",
       "-Will Clark       408   117  11     66   41  34    1     408    117   11   \n",
       "-Wally Joyner     593   172  22     82  100  57    1     593    172   22   \n",
       "-Wayne Krenchicki 221    53   2     21   23  22    8    1063    283   15   \n",
       "-Willie McGee     497   127   7     65   48  37    5    2703    806   32   \n",
       "-Willie Randolph  492   136   5     76   50  94   12    5511   1511   39   \n",
       "-Wayne Tolleson   475   126   3     61   43  52    6    1700    433    7   \n",
       "-Willie Upshaw    573   144   9     85   60  78    8    3198    857   97   \n",
       "-Willie Wilson    631   170   9     77   44  31   11    4908   1457   30   \n",
       "                  CRuns CRBI CWalks League Division PutOuts Assists Errors\n",
       "-Andy Allanson      30    29  14    A      E         446     33     20    \n",
       "-Alan Ashby        321   414 375    N      W         632     43     10    \n",
       "-Alvin Davis       224   266 263    A      W         880     82     14    \n",
       "-Andre Dawson      828   838 354    N      E         200     11      3    \n",
       "-Andres Galarraga   48    46  33    N      E         805     40      4    \n",
       "-Alfredo Griffin   501   336 194    A      W         282    421     25    \n",
       "-Al Newman          30     9  24    N      E          76    127      7    \n",
       "-Argenis Salazar    41    37  12    A      W         121    283      9    \n",
       "-Andres Thomas      32    34   8    N      W         143    290     19    \n",
       "-Andre Thornton    784   890 866    A      E           0      0      0    \n",
       "-Alan Trammell     702   504 488    A      E         238    445     22    \n",
       "-Alex Trevino      192   186 161    N      W         304     45     11    \n",
       "-Andy VanSlyke     205   204 203    N      E         211     11      7    \n",
       "-Alan Wiggins      309   103 207    A      E         121    151      6    \n",
       "-Bill Almon        376   290 238    N      E          80     45      8    \n",
       "-Billy Beane        20    16  11    A      W         118      0      0    \n",
       "-Buddy Bell       1045   993 732    N      W         105    290     10    \n",
       "-Buddy Biancalana   65    23  39    A      W         102    177     16    \n",
       "-Bruce Bochte      643   658 653    A      W         912     88      9    \n",
       "-Bruce Bochy        67    82  56    N      W         202     22      2    \n",
       "-Barry Bonds        72    48  65    N      E         280      9      5    \n",
       "-Bobby Bonilla      55    43  62    A      W         361     22      2    \n",
       "-Bob Boone           9     9   3    A      W         812     84     11    \n",
       "-Bob Brenly        242   251 240    N      W         518     55      3    \n",
       "-Bill Buckner     1008  1072 402    A      E        1067    157     14    \n",
       "-Brett Butler      442   198 317    A      E         434      9      3    \n",
       "-Bob Dernier       291   108 180    N      E         222      3      3    \n",
       "-Bo Diaz           246   327 166    N      W         732     83     13    \n",
       "-Bill Doran        349   182 308    N      W         262    329     16    \n",
       "-Brian Downing     763   734 784    A      W         267      5      3    \n",
       "...               ...   ...  ...    ...    ...      ...     ...     ...   \n",
       "-Toby Harrah      1115   919 1153   A      W         166    211      7    \n",
       "-Tommy Herr        421   349  359   N      E         352    414      9    \n",
       "-Tim Hulett        106    80   52   A      W          70    144     11    \n",
       "-Terry Kennedy       2     3    1   N      W         692     70      8    \n",
       "-Tito Landrum      105    99   71   N      E         131      6      1    \n",
       "-Tim Laudner       129   139  106   A      W         299     13      5    \n",
       "-Tom O'Malley       88    95  104   A      E          37     98      9    \n",
       "-Tom Paciorek      488   491  244   A      W         178     45      4    \n",
       "-Tony Pena         307   340  174   N      E         810     99     18    \n",
       "-Terry Pendleton   149   161   87   N      E         133    371     20    \n",
       "-Tony Perez       1272  1652  925   N      W         398     29      7    \n",
       "-Tony Phillips     226   149  191   A      W         160    290     11    \n",
       "-Terry Puhl        579   363  406   N      W          65      0      0    \n",
       "-Tim Raines        604   314  469   N      E         270     13      6    \n",
       "-Ted Simmons      1048  1348  819   N      W         167     18      6    \n",
       "-Tim Teufel        180   148  158   N      E         133    173      9    \n",
       "-Tim Wallach       338   406  239   N      E          94    270     16    \n",
       "-Vince Coleman     201    69  110   N      E         300     12      9    \n",
       "-Von Hayes         399   366  286   N      E        1182     96     13    \n",
       "-Vance Law         279   257  246   N      E         170    284      3    \n",
       "-Wally Backman     272   125  194   N      E         186    290     17    \n",
       "-Wade Boggs        474   322  417   A      E         121    267     19    \n",
       "-Will Clark         66    41   34   N      W         942     72     11    \n",
       "-Wally Joyner       82   100   57   A      W        1222    139     15    \n",
       "-Wayne Krenchicki  107   124  106   N      E         325     58      6    \n",
       "-Willie McGee      379   311  138   N      E         325      9      3    \n",
       "-Willie Randolph   897   451  875   A      E         313    381     20    \n",
       "-Wayne Tolleson    217    93  146   A      W          37    113      7    \n",
       "-Willie Upshaw     470   420  332   A      E        1314    131     12    \n",
       "-Willie Wilson     775   357  249   A      W         408      4      3    \n",
       "                  Salary   NewLeague\n",
       "-Andy Allanson          NA A        \n",
       "-Alan Ashby        475.000 N        \n",
       "-Alvin Davis       480.000 A        \n",
       "-Andre Dawson      500.000 N        \n",
       "-Andres Galarraga   91.500 N        \n",
       "-Alfredo Griffin   750.000 A        \n",
       "-Al Newman          70.000 A        \n",
       "-Argenis Salazar   100.000 A        \n",
       "-Andres Thomas      75.000 N        \n",
       "-Andre Thornton   1100.000 A        \n",
       "-Alan Trammell     517.143 A        \n",
       "-Alex Trevino      512.500 N        \n",
       "-Andy VanSlyke     550.000 N        \n",
       "-Alan Wiggins      700.000 A        \n",
       "-Bill Almon        240.000 N        \n",
       "-Billy Beane            NA A        \n",
       "-Buddy Bell        775.000 N        \n",
       "-Buddy Biancalana  175.000 A        \n",
       "-Bruce Bochte           NA A        \n",
       "-Bruce Bochy       135.000 N        \n",
       "-Barry Bonds       100.000 N        \n",
       "-Bobby Bonilla     115.000 N        \n",
       "-Bob Boone              NA A        \n",
       "-Bob Brenly        600.000 N        \n",
       "-Bill Buckner      776.667 A        \n",
       "-Brett Butler      765.000 A        \n",
       "-Bob Dernier       708.333 N        \n",
       "-Bo Diaz           750.000 N        \n",
       "-Bill Doran        625.000 N        \n",
       "-Brian Downing     900.000 A        \n",
       "...               ...      ...      \n",
       "-Toby Harrah            NA A        \n",
       "-Tommy Herr        925.000 N        \n",
       "-Tim Hulett        185.000 A        \n",
       "-Terry Kennedy     920.000 A        \n",
       "-Tito Landrum      286.667 N        \n",
       "-Tim Laudner       245.000 A        \n",
       "-Tom O'Malley           NA A        \n",
       "-Tom Paciorek      235.000 A        \n",
       "-Tony Pena        1150.000 N        \n",
       "-Terry Pendleton   160.000 N        \n",
       "-Tony Perez             NA N        \n",
       "-Tony Phillips     425.000 A        \n",
       "-Terry Puhl        900.000 N        \n",
       "-Tim Raines             NA N        \n",
       "-Ted Simmons       500.000 N        \n",
       "-Tim Teufel        277.500 N        \n",
       "-Tim Wallach       750.000 N        \n",
       "-Vince Coleman     160.000 N        \n",
       "-Von Hayes        1300.000 N        \n",
       "-Vance Law         525.000 N        \n",
       "-Wally Backman     550.000 N        \n",
       "-Wade Boggs       1600.000 A        \n",
       "-Will Clark        120.000 N        \n",
       "-Wally Joyner      165.000 A        \n",
       "-Wayne Krenchicki       NA N        \n",
       "-Willie McGee      700.000 N        \n",
       "-Willie Randolph   875.000 A        \n",
       "-Wayne Tolleson    385.000 A        \n",
       "-Willie Upshaw     960.000 A        \n",
       "-Willie Wilson    1000.000 A        "
      ]
     },
     "metadata": {},
     "output_type": "display_data"
    },
    {
     "data": {
      "text/html": [
       "<ol class=list-inline>\n",
       "\t<li>'AtBat'</li>\n",
       "\t<li>'Hits'</li>\n",
       "\t<li>'HmRun'</li>\n",
       "\t<li>'Runs'</li>\n",
       "\t<li>'RBI'</li>\n",
       "\t<li>'Walks'</li>\n",
       "\t<li>'Years'</li>\n",
       "\t<li>'CAtBat'</li>\n",
       "\t<li>'CHits'</li>\n",
       "\t<li>'CHmRun'</li>\n",
       "\t<li>'CRuns'</li>\n",
       "\t<li>'CRBI'</li>\n",
       "\t<li>'CWalks'</li>\n",
       "\t<li>'League'</li>\n",
       "\t<li>'Division'</li>\n",
       "\t<li>'PutOuts'</li>\n",
       "\t<li>'Assists'</li>\n",
       "\t<li>'Errors'</li>\n",
       "\t<li>'Salary'</li>\n",
       "\t<li>'NewLeague'</li>\n",
       "</ol>\n"
      ],
      "text/latex": [
       "\\begin{enumerate*}\n",
       "\\item 'AtBat'\n",
       "\\item 'Hits'\n",
       "\\item 'HmRun'\n",
       "\\item 'Runs'\n",
       "\\item 'RBI'\n",
       "\\item 'Walks'\n",
       "\\item 'Years'\n",
       "\\item 'CAtBat'\n",
       "\\item 'CHits'\n",
       "\\item 'CHmRun'\n",
       "\\item 'CRuns'\n",
       "\\item 'CRBI'\n",
       "\\item 'CWalks'\n",
       "\\item 'League'\n",
       "\\item 'Division'\n",
       "\\item 'PutOuts'\n",
       "\\item 'Assists'\n",
       "\\item 'Errors'\n",
       "\\item 'Salary'\n",
       "\\item 'NewLeague'\n",
       "\\end{enumerate*}\n"
      ],
      "text/markdown": [
       "1. 'AtBat'\n",
       "2. 'Hits'\n",
       "3. 'HmRun'\n",
       "4. 'Runs'\n",
       "5. 'RBI'\n",
       "6. 'Walks'\n",
       "7. 'Years'\n",
       "8. 'CAtBat'\n",
       "9. 'CHits'\n",
       "10. 'CHmRun'\n",
       "11. 'CRuns'\n",
       "12. 'CRBI'\n",
       "13. 'CWalks'\n",
       "14. 'League'\n",
       "15. 'Division'\n",
       "16. 'PutOuts'\n",
       "17. 'Assists'\n",
       "18. 'Errors'\n",
       "19. 'Salary'\n",
       "20. 'NewLeague'\n",
       "\n",
       "\n"
      ],
      "text/plain": [
       " [1] \"AtBat\"     \"Hits\"      \"HmRun\"     \"Runs\"      \"RBI\"       \"Walks\"    \n",
       " [7] \"Years\"     \"CAtBat\"    \"CHits\"     \"CHmRun\"    \"CRuns\"     \"CRBI\"     \n",
       "[13] \"CWalks\"    \"League\"    \"Division\"  \"PutOuts\"   \"Assists\"   \"Errors\"   \n",
       "[19] \"Salary\"    \"NewLeague\""
      ]
     },
     "metadata": {},
     "output_type": "display_data"
    },
    {
     "data": {
      "text/html": [
       "<ol class=list-inline>\n",
       "\t<li>322</li>\n",
       "\t<li>20</li>\n",
       "</ol>\n"
      ],
      "text/latex": [
       "\\begin{enumerate*}\n",
       "\\item 322\n",
       "\\item 20\n",
       "\\end{enumerate*}\n"
      ],
      "text/markdown": [
       "1. 322\n",
       "2. 20\n",
       "\n",
       "\n"
      ],
      "text/plain": [
       "[1] 322  20"
      ]
     },
     "metadata": {},
     "output_type": "display_data"
    },
    {
     "data": {
      "text/html": [
       "59"
      ],
      "text/latex": [
       "59"
      ],
      "text/markdown": [
       "59"
      ],
      "text/plain": [
       "[1] 59"
      ]
     },
     "metadata": {},
     "output_type": "display_data"
    }
   ],
   "source": [
    "# Chapter 6 Lab 1: Subset Selection Methods\n",
    "\n",
    "# Best Subset Selection\n",
    "\n",
    "library(ISLR)\n",
    "#fix(Hitters)\n",
    "Hitters\n"
   ]
  },
  {
   "cell_type": "code",
   "execution_count": 3,
   "metadata": {},
   "outputs": [
    {
     "data": {
      "text/html": [
       "<ol class=list-inline>\n",
       "\t<li>'AtBat'</li>\n",
       "\t<li>'Hits'</li>\n",
       "\t<li>'HmRun'</li>\n",
       "\t<li>'Runs'</li>\n",
       "\t<li>'RBI'</li>\n",
       "\t<li>'Walks'</li>\n",
       "\t<li>'Years'</li>\n",
       "\t<li>'CAtBat'</li>\n",
       "\t<li>'CHits'</li>\n",
       "\t<li>'CHmRun'</li>\n",
       "\t<li>'CRuns'</li>\n",
       "\t<li>'CRBI'</li>\n",
       "\t<li>'CWalks'</li>\n",
       "\t<li>'League'</li>\n",
       "\t<li>'Division'</li>\n",
       "\t<li>'PutOuts'</li>\n",
       "\t<li>'Assists'</li>\n",
       "\t<li>'Errors'</li>\n",
       "\t<li>'Salary'</li>\n",
       "\t<li>'NewLeague'</li>\n",
       "</ol>\n"
      ],
      "text/latex": [
       "\\begin{enumerate*}\n",
       "\\item 'AtBat'\n",
       "\\item 'Hits'\n",
       "\\item 'HmRun'\n",
       "\\item 'Runs'\n",
       "\\item 'RBI'\n",
       "\\item 'Walks'\n",
       "\\item 'Years'\n",
       "\\item 'CAtBat'\n",
       "\\item 'CHits'\n",
       "\\item 'CHmRun'\n",
       "\\item 'CRuns'\n",
       "\\item 'CRBI'\n",
       "\\item 'CWalks'\n",
       "\\item 'League'\n",
       "\\item 'Division'\n",
       "\\item 'PutOuts'\n",
       "\\item 'Assists'\n",
       "\\item 'Errors'\n",
       "\\item 'Salary'\n",
       "\\item 'NewLeague'\n",
       "\\end{enumerate*}\n"
      ],
      "text/markdown": [
       "1. 'AtBat'\n",
       "2. 'Hits'\n",
       "3. 'HmRun'\n",
       "4. 'Runs'\n",
       "5. 'RBI'\n",
       "6. 'Walks'\n",
       "7. 'Years'\n",
       "8. 'CAtBat'\n",
       "9. 'CHits'\n",
       "10. 'CHmRun'\n",
       "11. 'CRuns'\n",
       "12. 'CRBI'\n",
       "13. 'CWalks'\n",
       "14. 'League'\n",
       "15. 'Division'\n",
       "16. 'PutOuts'\n",
       "17. 'Assists'\n",
       "18. 'Errors'\n",
       "19. 'Salary'\n",
       "20. 'NewLeague'\n",
       "\n",
       "\n"
      ],
      "text/plain": [
       " [1] \"AtBat\"     \"Hits\"      \"HmRun\"     \"Runs\"      \"RBI\"       \"Walks\"    \n",
       " [7] \"Years\"     \"CAtBat\"    \"CHits\"     \"CHmRun\"    \"CRuns\"     \"CRBI\"     \n",
       "[13] \"CWalks\"    \"League\"    \"Division\"  \"PutOuts\"   \"Assists\"   \"Errors\"   \n",
       "[19] \"Salary\"    \"NewLeague\""
      ]
     },
     "metadata": {},
     "output_type": "display_data"
    },
    {
     "data": {
      "text/html": [
       "<ol class=list-inline>\n",
       "\t<li>322</li>\n",
       "\t<li>20</li>\n",
       "</ol>\n"
      ],
      "text/latex": [
       "\\begin{enumerate*}\n",
       "\\item 322\n",
       "\\item 20\n",
       "\\end{enumerate*}\n"
      ],
      "text/markdown": [
       "1. 322\n",
       "2. 20\n",
       "\n",
       "\n"
      ],
      "text/plain": [
       "[1] 322  20"
      ]
     },
     "metadata": {},
     "output_type": "display_data"
    },
    {
     "data": {
      "text/html": [
       "59"
      ],
      "text/latex": [
       "59"
      ],
      "text/markdown": [
       "59"
      ],
      "text/plain": [
       "[1] 59"
      ]
     },
     "metadata": {},
     "output_type": "display_data"
    }
   ],
   "source": [
    "names(Hitters)\n",
    "dim(Hitters)\n",
    "sum(is.na(Hitters$Salary))"
   ]
  },
  {
   "cell_type": "code",
   "execution_count": 4,
   "metadata": {},
   "outputs": [
    {
     "data": {
      "text/html": [
       "<ol class=list-inline>\n",
       "\t<li>263</li>\n",
       "\t<li>20</li>\n",
       "</ol>\n"
      ],
      "text/latex": [
       "\\begin{enumerate*}\n",
       "\\item 263\n",
       "\\item 20\n",
       "\\end{enumerate*}\n"
      ],
      "text/markdown": [
       "1. 263\n",
       "2. 20\n",
       "\n",
       "\n"
      ],
      "text/plain": [
       "[1] 263  20"
      ]
     },
     "metadata": {},
     "output_type": "display_data"
    },
    {
     "data": {
      "text/html": [
       "0"
      ],
      "text/latex": [
       "0"
      ],
      "text/markdown": [
       "0"
      ],
      "text/plain": [
       "[1] 0"
      ]
     },
     "metadata": {},
     "output_type": "display_data"
    }
   ],
   "source": [
    "Hitters=na.omit(Hitters)\n",
    "dim(Hitters)\n",
    "sum(is.na(Hitters))"
   ]
  },
  {
   "cell_type": "code",
   "execution_count": 8,
   "metadata": {},
   "outputs": [
    {
     "data": {
      "text/plain": [
       "Subset selection object\n",
       "Call: regsubsets.formula(Salary ~ ., Hitters)\n",
       "19 Variables  (and intercept)\n",
       "           Forced in Forced out\n",
       "AtBat          FALSE      FALSE\n",
       "Hits           FALSE      FALSE\n",
       "HmRun          FALSE      FALSE\n",
       "Runs           FALSE      FALSE\n",
       "RBI            FALSE      FALSE\n",
       "Walks          FALSE      FALSE\n",
       "Years          FALSE      FALSE\n",
       "CAtBat         FALSE      FALSE\n",
       "CHits          FALSE      FALSE\n",
       "CHmRun         FALSE      FALSE\n",
       "CRuns          FALSE      FALSE\n",
       "CRBI           FALSE      FALSE\n",
       "CWalks         FALSE      FALSE\n",
       "LeagueN        FALSE      FALSE\n",
       "DivisionW      FALSE      FALSE\n",
       "PutOuts        FALSE      FALSE\n",
       "Assists        FALSE      FALSE\n",
       "Errors         FALSE      FALSE\n",
       "NewLeagueN     FALSE      FALSE\n",
       "1 subsets of each size up to 8\n",
       "Selection Algorithm: exhaustive\n",
       "         AtBat Hits HmRun Runs RBI Walks Years CAtBat CHits CHmRun CRuns CRBI\n",
       "1  ( 1 ) \" \"   \" \"  \" \"   \" \"  \" \" \" \"   \" \"   \" \"    \" \"   \" \"    \" \"   \"*\" \n",
       "2  ( 1 ) \" \"   \"*\"  \" \"   \" \"  \" \" \" \"   \" \"   \" \"    \" \"   \" \"    \" \"   \"*\" \n",
       "3  ( 1 ) \" \"   \"*\"  \" \"   \" \"  \" \" \" \"   \" \"   \" \"    \" \"   \" \"    \" \"   \"*\" \n",
       "4  ( 1 ) \" \"   \"*\"  \" \"   \" \"  \" \" \" \"   \" \"   \" \"    \" \"   \" \"    \" \"   \"*\" \n",
       "5  ( 1 ) \"*\"   \"*\"  \" \"   \" \"  \" \" \" \"   \" \"   \" \"    \" \"   \" \"    \" \"   \"*\" \n",
       "6  ( 1 ) \"*\"   \"*\"  \" \"   \" \"  \" \" \"*\"   \" \"   \" \"    \" \"   \" \"    \" \"   \"*\" \n",
       "7  ( 1 ) \" \"   \"*\"  \" \"   \" \"  \" \" \"*\"   \" \"   \"*\"    \"*\"   \"*\"    \" \"   \" \" \n",
       "8  ( 1 ) \"*\"   \"*\"  \" \"   \" \"  \" \" \"*\"   \" \"   \" \"    \" \"   \"*\"    \"*\"   \" \" \n",
       "         CWalks LeagueN DivisionW PutOuts Assists Errors NewLeagueN\n",
       "1  ( 1 ) \" \"    \" \"     \" \"       \" \"     \" \"     \" \"    \" \"       \n",
       "2  ( 1 ) \" \"    \" \"     \" \"       \" \"     \" \"     \" \"    \" \"       \n",
       "3  ( 1 ) \" \"    \" \"     \" \"       \"*\"     \" \"     \" \"    \" \"       \n",
       "4  ( 1 ) \" \"    \" \"     \"*\"       \"*\"     \" \"     \" \"    \" \"       \n",
       "5  ( 1 ) \" \"    \" \"     \"*\"       \"*\"     \" \"     \" \"    \" \"       \n",
       "6  ( 1 ) \" \"    \" \"     \"*\"       \"*\"     \" \"     \" \"    \" \"       \n",
       "7  ( 1 ) \" \"    \" \"     \"*\"       \"*\"     \" \"     \" \"    \" \"       \n",
       "8  ( 1 ) \"*\"    \" \"     \"*\"       \"*\"     \" \"     \" \"    \" \"       "
      ]
     },
     "metadata": {},
     "output_type": "display_data"
    }
   ],
   "source": [
    "#install.packages(\"leaps\")\n",
    "library(leaps)\n",
    "regfit.full=regsubsets(Salary~.,Hitters)\n",
    "summary(regfit.full)"
   ]
  },
  {
   "cell_type": "code",
   "execution_count": 19,
   "metadata": {},
   "outputs": [],
   "source": [
    "regfit.full=regsubsets(Salary~.,data=Hitters,nvmax=19)\n",
    "reg.summary=summary(regfit.full)"
   ]
  },
  {
   "cell_type": "code",
   "execution_count": 20,
   "metadata": {},
   "outputs": [
    {
     "data": {
      "text/plain": [
       "Subset selection object\n",
       "Call: regsubsets.formula(Salary ~ ., data = Hitters, nvmax = 19)\n",
       "19 Variables  (and intercept)\n",
       "           Forced in Forced out\n",
       "AtBat          FALSE      FALSE\n",
       "Hits           FALSE      FALSE\n",
       "HmRun          FALSE      FALSE\n",
       "Runs           FALSE      FALSE\n",
       "RBI            FALSE      FALSE\n",
       "Walks          FALSE      FALSE\n",
       "Years          FALSE      FALSE\n",
       "CAtBat         FALSE      FALSE\n",
       "CHits          FALSE      FALSE\n",
       "CHmRun         FALSE      FALSE\n",
       "CRuns          FALSE      FALSE\n",
       "CRBI           FALSE      FALSE\n",
       "CWalks         FALSE      FALSE\n",
       "LeagueN        FALSE      FALSE\n",
       "DivisionW      FALSE      FALSE\n",
       "PutOuts        FALSE      FALSE\n",
       "Assists        FALSE      FALSE\n",
       "Errors         FALSE      FALSE\n",
       "NewLeagueN     FALSE      FALSE\n",
       "1 subsets of each size up to 19\n",
       "Selection Algorithm: exhaustive\n",
       "          AtBat Hits HmRun Runs RBI Walks Years CAtBat CHits CHmRun CRuns CRBI\n",
       "1  ( 1 )  \" \"   \" \"  \" \"   \" \"  \" \" \" \"   \" \"   \" \"    \" \"   \" \"    \" \"   \"*\" \n",
       "2  ( 1 )  \" \"   \"*\"  \" \"   \" \"  \" \" \" \"   \" \"   \" \"    \" \"   \" \"    \" \"   \"*\" \n",
       "3  ( 1 )  \" \"   \"*\"  \" \"   \" \"  \" \" \" \"   \" \"   \" \"    \" \"   \" \"    \" \"   \"*\" \n",
       "4  ( 1 )  \" \"   \"*\"  \" \"   \" \"  \" \" \" \"   \" \"   \" \"    \" \"   \" \"    \" \"   \"*\" \n",
       "5  ( 1 )  \"*\"   \"*\"  \" \"   \" \"  \" \" \" \"   \" \"   \" \"    \" \"   \" \"    \" \"   \"*\" \n",
       "6  ( 1 )  \"*\"   \"*\"  \" \"   \" \"  \" \" \"*\"   \" \"   \" \"    \" \"   \" \"    \" \"   \"*\" \n",
       "7  ( 1 )  \" \"   \"*\"  \" \"   \" \"  \" \" \"*\"   \" \"   \"*\"    \"*\"   \"*\"    \" \"   \" \" \n",
       "8  ( 1 )  \"*\"   \"*\"  \" \"   \" \"  \" \" \"*\"   \" \"   \" \"    \" \"   \"*\"    \"*\"   \" \" \n",
       "9  ( 1 )  \"*\"   \"*\"  \" \"   \" \"  \" \" \"*\"   \" \"   \"*\"    \" \"   \" \"    \"*\"   \"*\" \n",
       "10  ( 1 ) \"*\"   \"*\"  \" \"   \" \"  \" \" \"*\"   \" \"   \"*\"    \" \"   \" \"    \"*\"   \"*\" \n",
       "11  ( 1 ) \"*\"   \"*\"  \" \"   \" \"  \" \" \"*\"   \" \"   \"*\"    \" \"   \" \"    \"*\"   \"*\" \n",
       "12  ( 1 ) \"*\"   \"*\"  \" \"   \"*\"  \" \" \"*\"   \" \"   \"*\"    \" \"   \" \"    \"*\"   \"*\" \n",
       "13  ( 1 ) \"*\"   \"*\"  \" \"   \"*\"  \" \" \"*\"   \" \"   \"*\"    \" \"   \" \"    \"*\"   \"*\" \n",
       "14  ( 1 ) \"*\"   \"*\"  \"*\"   \"*\"  \" \" \"*\"   \" \"   \"*\"    \" \"   \" \"    \"*\"   \"*\" \n",
       "15  ( 1 ) \"*\"   \"*\"  \"*\"   \"*\"  \" \" \"*\"   \" \"   \"*\"    \"*\"   \" \"    \"*\"   \"*\" \n",
       "16  ( 1 ) \"*\"   \"*\"  \"*\"   \"*\"  \"*\" \"*\"   \" \"   \"*\"    \"*\"   \" \"    \"*\"   \"*\" \n",
       "17  ( 1 ) \"*\"   \"*\"  \"*\"   \"*\"  \"*\" \"*\"   \" \"   \"*\"    \"*\"   \" \"    \"*\"   \"*\" \n",
       "18  ( 1 ) \"*\"   \"*\"  \"*\"   \"*\"  \"*\" \"*\"   \"*\"   \"*\"    \"*\"   \" \"    \"*\"   \"*\" \n",
       "19  ( 1 ) \"*\"   \"*\"  \"*\"   \"*\"  \"*\" \"*\"   \"*\"   \"*\"    \"*\"   \"*\"    \"*\"   \"*\" \n",
       "          CWalks LeagueN DivisionW PutOuts Assists Errors NewLeagueN\n",
       "1  ( 1 )  \" \"    \" \"     \" \"       \" \"     \" \"     \" \"    \" \"       \n",
       "2  ( 1 )  \" \"    \" \"     \" \"       \" \"     \" \"     \" \"    \" \"       \n",
       "3  ( 1 )  \" \"    \" \"     \" \"       \"*\"     \" \"     \" \"    \" \"       \n",
       "4  ( 1 )  \" \"    \" \"     \"*\"       \"*\"     \" \"     \" \"    \" \"       \n",
       "5  ( 1 )  \" \"    \" \"     \"*\"       \"*\"     \" \"     \" \"    \" \"       \n",
       "6  ( 1 )  \" \"    \" \"     \"*\"       \"*\"     \" \"     \" \"    \" \"       \n",
       "7  ( 1 )  \" \"    \" \"     \"*\"       \"*\"     \" \"     \" \"    \" \"       \n",
       "8  ( 1 )  \"*\"    \" \"     \"*\"       \"*\"     \" \"     \" \"    \" \"       \n",
       "9  ( 1 )  \"*\"    \" \"     \"*\"       \"*\"     \" \"     \" \"    \" \"       \n",
       "10  ( 1 ) \"*\"    \" \"     \"*\"       \"*\"     \"*\"     \" \"    \" \"       \n",
       "11  ( 1 ) \"*\"    \"*\"     \"*\"       \"*\"     \"*\"     \" \"    \" \"       \n",
       "12  ( 1 ) \"*\"    \"*\"     \"*\"       \"*\"     \"*\"     \" \"    \" \"       \n",
       "13  ( 1 ) \"*\"    \"*\"     \"*\"       \"*\"     \"*\"     \"*\"    \" \"       \n",
       "14  ( 1 ) \"*\"    \"*\"     \"*\"       \"*\"     \"*\"     \"*\"    \" \"       \n",
       "15  ( 1 ) \"*\"    \"*\"     \"*\"       \"*\"     \"*\"     \"*\"    \" \"       \n",
       "16  ( 1 ) \"*\"    \"*\"     \"*\"       \"*\"     \"*\"     \"*\"    \" \"       \n",
       "17  ( 1 ) \"*\"    \"*\"     \"*\"       \"*\"     \"*\"     \"*\"    \"*\"       \n",
       "18  ( 1 ) \"*\"    \"*\"     \"*\"       \"*\"     \"*\"     \"*\"    \"*\"       \n",
       "19  ( 1 ) \"*\"    \"*\"     \"*\"       \"*\"     \"*\"     \"*\"    \"*\"       "
      ]
     },
     "metadata": {},
     "output_type": "display_data"
    }
   ],
   "source": [
    "summary(regfit.full)"
   ]
  },
  {
   "cell_type": "code",
   "execution_count": 11,
   "metadata": {},
   "outputs": [
    {
     "data": {
      "text/html": [
       "<ol class=list-inline>\n",
       "\t<li>'which'</li>\n",
       "\t<li>'rsq'</li>\n",
       "\t<li>'rss'</li>\n",
       "\t<li>'adjr2'</li>\n",
       "\t<li>'cp'</li>\n",
       "\t<li>'bic'</li>\n",
       "\t<li>'outmat'</li>\n",
       "\t<li>'obj'</li>\n",
       "</ol>\n"
      ],
      "text/latex": [
       "\\begin{enumerate*}\n",
       "\\item 'which'\n",
       "\\item 'rsq'\n",
       "\\item 'rss'\n",
       "\\item 'adjr2'\n",
       "\\item 'cp'\n",
       "\\item 'bic'\n",
       "\\item 'outmat'\n",
       "\\item 'obj'\n",
       "\\end{enumerate*}\n"
      ],
      "text/markdown": [
       "1. 'which'\n",
       "2. 'rsq'\n",
       "3. 'rss'\n",
       "4. 'adjr2'\n",
       "5. 'cp'\n",
       "6. 'bic'\n",
       "7. 'outmat'\n",
       "8. 'obj'\n",
       "\n",
       "\n"
      ],
      "text/plain": [
       "[1] \"which\"  \"rsq\"    \"rss\"    \"adjr2\"  \"cp\"     \"bic\"    \"outmat\" \"obj\"   "
      ]
     },
     "metadata": {},
     "output_type": "display_data"
    },
    {
     "data": {
      "text/html": [
       "<ol class=list-inline>\n",
       "\t<li>0.321450088667894</li>\n",
       "\t<li>0.425223746466778</li>\n",
       "\t<li>0.451429415717957</li>\n",
       "\t<li>0.475406653394787</li>\n",
       "\t<li>0.490803615963518</li>\n",
       "\t<li>0.508714557358996</li>\n",
       "\t<li>0.514122682361273</li>\n",
       "\t<li>0.528556860302574</li>\n",
       "\t<li>0.534612447792431</li>\n",
       "\t<li>0.540494950940798</li>\n",
       "\t<li>0.54261532542542</li>\n",
       "\t<li>0.543630208632163</li>\n",
       "\t<li>0.544457014231977</li>\n",
       "\t<li>0.545216356301489</li>\n",
       "\t<li>0.545469230681164</li>\n",
       "\t<li>0.54576555748528</li>\n",
       "\t<li>0.545951808076699</li>\n",
       "\t<li>0.546094522341906</li>\n",
       "\t<li>0.546115861912532</li>\n",
       "</ol>\n"
      ],
      "text/latex": [
       "\\begin{enumerate*}\n",
       "\\item 0.321450088667894\n",
       "\\item 0.425223746466778\n",
       "\\item 0.451429415717957\n",
       "\\item 0.475406653394787\n",
       "\\item 0.490803615963518\n",
       "\\item 0.508714557358996\n",
       "\\item 0.514122682361273\n",
       "\\item 0.528556860302574\n",
       "\\item 0.534612447792431\n",
       "\\item 0.540494950940798\n",
       "\\item 0.54261532542542\n",
       "\\item 0.543630208632163\n",
       "\\item 0.544457014231977\n",
       "\\item 0.545216356301489\n",
       "\\item 0.545469230681164\n",
       "\\item 0.54576555748528\n",
       "\\item 0.545951808076699\n",
       "\\item 0.546094522341906\n",
       "\\item 0.546115861912532\n",
       "\\end{enumerate*}\n"
      ],
      "text/markdown": [
       "1. 0.321450088667894\n",
       "2. 0.425223746466778\n",
       "3. 0.451429415717957\n",
       "4. 0.475406653394787\n",
       "5. 0.490803615963518\n",
       "6. 0.508714557358996\n",
       "7. 0.514122682361273\n",
       "8. 0.528556860302574\n",
       "9. 0.534612447792431\n",
       "10. 0.540494950940798\n",
       "11. 0.54261532542542\n",
       "12. 0.543630208632163\n",
       "13. 0.544457014231977\n",
       "14. 0.545216356301489\n",
       "15. 0.545469230681164\n",
       "16. 0.54576555748528\n",
       "17. 0.545951808076699\n",
       "18. 0.546094522341906\n",
       "19. 0.546115861912532\n",
       "\n",
       "\n"
      ],
      "text/plain": [
       " [1] 0.3214501 0.4252237 0.4514294 0.4754067 0.4908036 0.5087146 0.5141227\n",
       " [8] 0.5285569 0.5346124 0.5404950 0.5426153 0.5436302 0.5444570 0.5452164\n",
       "[15] 0.5454692 0.5457656 0.5459518 0.5460945 0.5461159"
      ]
     },
     "metadata": {},
     "output_type": "display_data"
    }
   ],
   "source": [
    "names(reg.summary)\n",
    "reg.summary$rsq"
   ]
  },
  {
   "cell_type": "code",
   "execution_count": 21,
   "metadata": {},
   "outputs": [
    {
     "data": {
      "text/html": [
       "11"
      ],
      "text/latex": [
       "11"
      ],
      "text/markdown": [
       "11"
      ],
      "text/plain": [
       "[1] 11"
      ]
     },
     "metadata": {},
     "output_type": "display_data"
    },
    {
     "data": {
      "text/html": [
       "10"
      ],
      "text/latex": [
       "10"
      ],
      "text/markdown": [
       "10"
      ],
      "text/plain": [
       "[1] 10"
      ]
     },
     "metadata": {},
     "output_type": "display_data"
    },
    {
     "data": {
      "text/html": [
       "6"
      ],
      "text/latex": [
       "6"
      ],
      "text/markdown": [
       "6"
      ],
      "text/plain": [
       "[1] 6"
      ]
     },
     "metadata": {},
     "output_type": "display_data"
    },
    {
     "data": {
      "image/png": "[encoded data removed]",
      "text/plain": [
       "plot without title"
      ]
     },
     "metadata": {},
     "output_type": "display_data"
    }
   ],
   "source": [
    "par(mfrow=c(2,2))\n",
    "plot(reg.summary$rss,xlab=\"Number of Variables\",ylab=\"RSS\",type=\"l\")\n",
    "plot(reg.summary$adjr2,xlab=\"Number of Variables\",ylab=\"Adjusted RSq\",type=\"l\")\n",
    "which.max(reg.summary$adjr2)\n",
    "points(11,reg.summary$adjr2[11], col=\"red\",cex=2,pch=20)\n",
    "plot(reg.summary$cp,xlab=\"Number of Variables\",ylab=\"Cp\",type='l')\n",
    "which.min(reg.summary$cp)\n",
    "points(10,reg.summary$cp[10],col=\"red\",cex=2,pch=20)\n",
    "which.min(reg.summary$bic)\n",
    "plot(reg.summary$bic,xlab=\"Number of Variables\",ylab=\"BIC\",type='l')\n",
    "points(6,reg.summary$bic[6],col=\"red\",cex=2,pch=20)"
   ]
  },
  {
   "cell_type": "code",
   "execution_count": 16,
   "metadata": {},
   "outputs": [
    {
     "data": {
      "image/png": "[encoded data removed]",
      "text/plain": [
       "plot without title"
      ]
     },
     "metadata": {},
     "output_type": "display_data"
    },
    {
     "data": {
      "image/png": "[encoded data removed]",
      "text/plain": [
       "plot without title"
      ]
     },
     "metadata": {},
     "output_type": "display_data"
    },
    {
     "data": {
      "image/png": "[encoded data removed]",
      "text/plain": [
       "plot without title"
      ]
     },
     "metadata": {},
     "output_type": "display_data"
    },
    {
     "data": {
      "image/png": "[encoded data removed]",
      "text/plain": [
       "plot without title"
      ]
     },
     "metadata": {},
     "output_type": "display_data"
    }
   ],
   "source": [
    "plot(regfit.full,scale=\"r2\")\n",
    "plot(regfit.full,scale=\"adjr2\")\n",
    "plot(regfit.full,scale=\"Cp\")\n",
    "plot(regfit.full,scale=\"bic\")"
   ]
  },
  {
   "cell_type": "code",
   "execution_count": 17,
   "metadata": {},
   "outputs": [
    {
     "data": {
      "text/html": [
       "<dl class=dl-horizontal>\n",
       "\t<dt>(Intercept)</dt>\n",
       "\t\t<dd>91.5117981171539</dd>\n",
       "\t<dt>AtBat</dt>\n",
       "\t\t<dd>-1.86858923135561</dd>\n",
       "\t<dt>Hits</dt>\n",
       "\t\t<dd>7.60439763117204</dd>\n",
       "\t<dt>Walks</dt>\n",
       "\t\t<dd>3.69764677424139</dd>\n",
       "\t<dt>CRBI</dt>\n",
       "\t\t<dd>0.643016935097332</dd>\n",
       "\t<dt>DivisionW</dt>\n",
       "\t\t<dd>-122.95153377292</dd>\n",
       "\t<dt>PutOuts</dt>\n",
       "\t\t<dd>0.264307605461511</dd>\n",
       "</dl>\n"
      ],
      "text/latex": [
       "\\begin{description*}\n",
       "\\item[(Intercept)] 91.5117981171539\n",
       "\\item[AtBat] -1.86858923135561\n",
       "\\item[Hits] 7.60439763117204\n",
       "\\item[Walks] 3.69764677424139\n",
       "\\item[CRBI] 0.643016935097332\n",
       "\\item[DivisionW] -122.95153377292\n",
       "\\item[PutOuts] 0.264307605461511\n",
       "\\end{description*}\n"
      ],
      "text/markdown": [
       "(Intercept)\n",
       ":   91.5117981171539AtBat\n",
       ":   -1.86858923135561Hits\n",
       ":   7.60439763117204Walks\n",
       ":   3.69764677424139CRBI\n",
       ":   0.643016935097332DivisionW\n",
       ":   -122.95153377292PutOuts\n",
       ":   0.264307605461511\n",
       "\n"
      ],
      "text/plain": [
       " (Intercept)        AtBat         Hits        Walks         CRBI    DivisionW \n",
       "  91.5117981   -1.8685892    7.6043976    3.6976468    0.6430169 -122.9515338 \n",
       "     PutOuts \n",
       "   0.2643076 "
      ]
     },
     "metadata": {},
     "output_type": "display_data"
    }
   ],
   "source": [
    "coef(regfit.full,6)\n"
   ]
  },
  {
   "cell_type": "code",
   "execution_count": 22,
   "metadata": {},
   "outputs": [
    {
     "data": {
      "text/plain": [
       "Subset selection object\n",
       "Call: regsubsets.formula(Salary ~ ., data = Hitters, nvmax = 19, method = \"forward\")\n",
       "19 Variables  (and intercept)\n",
       "           Forced in Forced out\n",
       "AtBat          FALSE      FALSE\n",
       "Hits           FALSE      FALSE\n",
       "HmRun          FALSE      FALSE\n",
       "Runs           FALSE      FALSE\n",
       "RBI            FALSE      FALSE\n",
       "Walks          FALSE      FALSE\n",
       "Years          FALSE      FALSE\n",
       "CAtBat         FALSE      FALSE\n",
       "CHits          FALSE      FALSE\n",
       "CHmRun         FALSE      FALSE\n",
       "CRuns          FALSE      FALSE\n",
       "CRBI           FALSE      FALSE\n",
       "CWalks         FALSE      FALSE\n",
       "LeagueN        FALSE      FALSE\n",
       "DivisionW      FALSE      FALSE\n",
       "PutOuts        FALSE      FALSE\n",
       "Assists        FALSE      FALSE\n",
       "Errors         FALSE      FALSE\n",
       "NewLeagueN     FALSE      FALSE\n",
       "1 subsets of each size up to 19\n",
       "Selection Algorithm: forward\n",
       "          AtBat Hits HmRun Runs RBI Walks Years CAtBat CHits CHmRun CRuns CRBI\n",
       "1  ( 1 )  \" \"   \" \"  \" \"   \" \"  \" \" \" \"   \" \"   \" \"    \" \"   \" \"    \" \"   \"*\" \n",
       "2  ( 1 )  \" \"   \"*\"  \" \"   \" \"  \" \" \" \"   \" \"   \" \"    \" \"   \" \"    \" \"   \"*\" \n",
       "3  ( 1 )  \" \"   \"*\"  \" \"   \" \"  \" \" \" \"   \" \"   \" \"    \" \"   \" \"    \" \"   \"*\" \n",
       "4  ( 1 )  \" \"   \"*\"  \" \"   \" \"  \" \" \" \"   \" \"   \" \"    \" \"   \" \"    \" \"   \"*\" \n",
       "5  ( 1 )  \"*\"   \"*\"  \" \"   \" \"  \" \" \" \"   \" \"   \" \"    \" \"   \" \"    \" \"   \"*\" \n",
       "6  ( 1 )  \"*\"   \"*\"  \" \"   \" \"  \" \" \"*\"   \" \"   \" \"    \" \"   \" \"    \" \"   \"*\" \n",
       "7  ( 1 )  \"*\"   \"*\"  \" \"   \" \"  \" \" \"*\"   \" \"   \" \"    \" \"   \" \"    \" \"   \"*\" \n",
       "8  ( 1 )  \"*\"   \"*\"  \" \"   \" \"  \" \" \"*\"   \" \"   \" \"    \" \"   \" \"    \"*\"   \"*\" \n",
       "9  ( 1 )  \"*\"   \"*\"  \" \"   \" \"  \" \" \"*\"   \" \"   \"*\"    \" \"   \" \"    \"*\"   \"*\" \n",
       "10  ( 1 ) \"*\"   \"*\"  \" \"   \" \"  \" \" \"*\"   \" \"   \"*\"    \" \"   \" \"    \"*\"   \"*\" \n",
       "11  ( 1 ) \"*\"   \"*\"  \" \"   \" \"  \" \" \"*\"   \" \"   \"*\"    \" \"   \" \"    \"*\"   \"*\" \n",
       "12  ( 1 ) \"*\"   \"*\"  \" \"   \"*\"  \" \" \"*\"   \" \"   \"*\"    \" \"   \" \"    \"*\"   \"*\" \n",
       "13  ( 1 ) \"*\"   \"*\"  \" \"   \"*\"  \" \" \"*\"   \" \"   \"*\"    \" \"   \" \"    \"*\"   \"*\" \n",
       "14  ( 1 ) \"*\"   \"*\"  \"*\"   \"*\"  \" \" \"*\"   \" \"   \"*\"    \" \"   \" \"    \"*\"   \"*\" \n",
       "15  ( 1 ) \"*\"   \"*\"  \"*\"   \"*\"  \" \" \"*\"   \" \"   \"*\"    \"*\"   \" \"    \"*\"   \"*\" \n",
       "16  ( 1 ) \"*\"   \"*\"  \"*\"   \"*\"  \"*\" \"*\"   \" \"   \"*\"    \"*\"   \" \"    \"*\"   \"*\" \n",
       "17  ( 1 ) \"*\"   \"*\"  \"*\"   \"*\"  \"*\" \"*\"   \" \"   \"*\"    \"*\"   \" \"    \"*\"   \"*\" \n",
       "18  ( 1 ) \"*\"   \"*\"  \"*\"   \"*\"  \"*\" \"*\"   \"*\"   \"*\"    \"*\"   \" \"    \"*\"   \"*\" \n",
       "19  ( 1 ) \"*\"   \"*\"  \"*\"   \"*\"  \"*\" \"*\"   \"*\"   \"*\"    \"*\"   \"*\"    \"*\"   \"*\" \n",
       "          CWalks LeagueN DivisionW PutOuts Assists Errors NewLeagueN\n",
       "1  ( 1 )  \" \"    \" \"     \" \"       \" \"     \" \"     \" \"    \" \"       \n",
       "2  ( 1 )  \" \"    \" \"     \" \"       \" \"     \" \"     \" \"    \" \"       \n",
       "3  ( 1 )  \" \"    \" \"     \" \"       \"*\"     \" \"     \" \"    \" \"       \n",
       "4  ( 1 )  \" \"    \" \"     \"*\"       \"*\"     \" \"     \" \"    \" \"       \n",
       "5  ( 1 )  \" \"    \" \"     \"*\"       \"*\"     \" \"     \" \"    \" \"       \n",
       "6  ( 1 )  \" \"    \" \"     \"*\"       \"*\"     \" \"     \" \"    \" \"       \n",
       "7  ( 1 )  \"*\"    \" \"     \"*\"       \"*\"     \" \"     \" \"    \" \"       \n",
       "8  ( 1 )  \"*\"    \" \"     \"*\"       \"*\"     \" \"     \" \"    \" \"       \n",
       "9  ( 1 )  \"*\"    \" \"     \"*\"       \"*\"     \" \"     \" \"    \" \"       \n",
       "10  ( 1 ) \"*\"    \" \"     \"*\"       \"*\"     \"*\"     \" \"    \" \"       \n",
       "11  ( 1 ) \"*\"    \"*\"     \"*\"       \"*\"     \"*\"     \" \"    \" \"       \n",
       "12  ( 1 ) \"*\"    \"*\"     \"*\"       \"*\"     \"*\"     \" \"    \" \"       \n",
       "13  ( 1 ) \"*\"    \"*\"     \"*\"       \"*\"     \"*\"     \"*\"    \" \"       \n",
       "14  ( 1 ) \"*\"    \"*\"     \"*\"       \"*\"     \"*\"     \"*\"    \" \"       \n",
       "15  ( 1 ) \"*\"    \"*\"     \"*\"       \"*\"     \"*\"     \"*\"    \" \"       \n",
       "16  ( 1 ) \"*\"    \"*\"     \"*\"       \"*\"     \"*\"     \"*\"    \" \"       \n",
       "17  ( 1 ) \"*\"    \"*\"     \"*\"       \"*\"     \"*\"     \"*\"    \"*\"       \n",
       "18  ( 1 ) \"*\"    \"*\"     \"*\"       \"*\"     \"*\"     \"*\"    \"*\"       \n",
       "19  ( 1 ) \"*\"    \"*\"     \"*\"       \"*\"     \"*\"     \"*\"    \"*\"       "
      ]
     },
     "metadata": {},
     "output_type": "display_data"
    },
    {
     "data": {
      "text/plain": [
       "Subset selection object\n",
       "Call: regsubsets.formula(Salary ~ ., data = Hitters, nvmax = 19, method = \"backward\")\n",
       "19 Variables  (and intercept)\n",
       "           Forced in Forced out\n",
       "AtBat          FALSE      FALSE\n",
       "Hits           FALSE      FALSE\n",
       "HmRun          FALSE      FALSE\n",
       "Runs           FALSE      FALSE\n",
       "RBI            FALSE      FALSE\n",
       "Walks          FALSE      FALSE\n",
       "Years          FALSE      FALSE\n",
       "CAtBat         FALSE      FALSE\n",
       "CHits          FALSE      FALSE\n",
       "CHmRun         FALSE      FALSE\n",
       "CRuns          FALSE      FALSE\n",
       "CRBI           FALSE      FALSE\n",
       "CWalks         FALSE      FALSE\n",
       "LeagueN        FALSE      FALSE\n",
       "DivisionW      FALSE      FALSE\n",
       "PutOuts        FALSE      FALSE\n",
       "Assists        FALSE      FALSE\n",
       "Errors         FALSE      FALSE\n",
       "NewLeagueN     FALSE      FALSE\n",
       "1 subsets of each size up to 19\n",
       "Selection Algorithm: backward\n",
       "          AtBat Hits HmRun Runs RBI Walks Years CAtBat CHits CHmRun CRuns CRBI\n",
       "1  ( 1 )  \" \"   \" \"  \" \"   \" \"  \" \" \" \"   \" \"   \" \"    \" \"   \" \"    \"*\"   \" \" \n",
       "2  ( 1 )  \" \"   \"*\"  \" \"   \" \"  \" \" \" \"   \" \"   \" \"    \" \"   \" \"    \"*\"   \" \" \n",
       "3  ( 1 )  \" \"   \"*\"  \" \"   \" \"  \" \" \" \"   \" \"   \" \"    \" \"   \" \"    \"*\"   \" \" \n",
       "4  ( 1 )  \"*\"   \"*\"  \" \"   \" \"  \" \" \" \"   \" \"   \" \"    \" \"   \" \"    \"*\"   \" \" \n",
       "5  ( 1 )  \"*\"   \"*\"  \" \"   \" \"  \" \" \"*\"   \" \"   \" \"    \" \"   \" \"    \"*\"   \" \" \n",
       "6  ( 1 )  \"*\"   \"*\"  \" \"   \" \"  \" \" \"*\"   \" \"   \" \"    \" \"   \" \"    \"*\"   \" \" \n",
       "7  ( 1 )  \"*\"   \"*\"  \" \"   \" \"  \" \" \"*\"   \" \"   \" \"    \" \"   \" \"    \"*\"   \" \" \n",
       "8  ( 1 )  \"*\"   \"*\"  \" \"   \" \"  \" \" \"*\"   \" \"   \" \"    \" \"   \" \"    \"*\"   \"*\" \n",
       "9  ( 1 )  \"*\"   \"*\"  \" \"   \" \"  \" \" \"*\"   \" \"   \"*\"    \" \"   \" \"    \"*\"   \"*\" \n",
       "10  ( 1 ) \"*\"   \"*\"  \" \"   \" \"  \" \" \"*\"   \" \"   \"*\"    \" \"   \" \"    \"*\"   \"*\" \n",
       "11  ( 1 ) \"*\"   \"*\"  \" \"   \" \"  \" \" \"*\"   \" \"   \"*\"    \" \"   \" \"    \"*\"   \"*\" \n",
       "12  ( 1 ) \"*\"   \"*\"  \" \"   \"*\"  \" \" \"*\"   \" \"   \"*\"    \" \"   \" \"    \"*\"   \"*\" \n",
       "13  ( 1 ) \"*\"   \"*\"  \" \"   \"*\"  \" \" \"*\"   \" \"   \"*\"    \" \"   \" \"    \"*\"   \"*\" \n",
       "14  ( 1 ) \"*\"   \"*\"  \"*\"   \"*\"  \" \" \"*\"   \" \"   \"*\"    \" \"   \" \"    \"*\"   \"*\" \n",
       "15  ( 1 ) \"*\"   \"*\"  \"*\"   \"*\"  \" \" \"*\"   \" \"   \"*\"    \"*\"   \" \"    \"*\"   \"*\" \n",
       "16  ( 1 ) \"*\"   \"*\"  \"*\"   \"*\"  \"*\" \"*\"   \" \"   \"*\"    \"*\"   \" \"    \"*\"   \"*\" \n",
       "17  ( 1 ) \"*\"   \"*\"  \"*\"   \"*\"  \"*\" \"*\"   \" \"   \"*\"    \"*\"   \" \"    \"*\"   \"*\" \n",
       "18  ( 1 ) \"*\"   \"*\"  \"*\"   \"*\"  \"*\" \"*\"   \"*\"   \"*\"    \"*\"   \" \"    \"*\"   \"*\" \n",
       "19  ( 1 ) \"*\"   \"*\"  \"*\"   \"*\"  \"*\" \"*\"   \"*\"   \"*\"    \"*\"   \"*\"    \"*\"   \"*\" \n",
       "          CWalks LeagueN DivisionW PutOuts Assists Errors NewLeagueN\n",
       "1  ( 1 )  \" \"    \" \"     \" \"       \" \"     \" \"     \" \"    \" \"       \n",
       "2  ( 1 )  \" \"    \" \"     \" \"       \" \"     \" \"     \" \"    \" \"       \n",
       "3  ( 1 )  \" \"    \" \"     \" \"       \"*\"     \" \"     \" \"    \" \"       \n",
       "4  ( 1 )  \" \"    \" \"     \" \"       \"*\"     \" \"     \" \"    \" \"       \n",
       "5  ( 1 )  \" \"    \" \"     \" \"       \"*\"     \" \"     \" \"    \" \"       \n",
       "6  ( 1 )  \" \"    \" \"     \"*\"       \"*\"     \" \"     \" \"    \" \"       \n",
       "7  ( 1 )  \"*\"    \" \"     \"*\"       \"*\"     \" \"     \" \"    \" \"       \n",
       "8  ( 1 )  \"*\"    \" \"     \"*\"       \"*\"     \" \"     \" \"    \" \"       \n",
       "9  ( 1 )  \"*\"    \" \"     \"*\"       \"*\"     \" \"     \" \"    \" \"       \n",
       "10  ( 1 ) \"*\"    \" \"     \"*\"       \"*\"     \"*\"     \" \"    \" \"       \n",
       "11  ( 1 ) \"*\"    \"*\"     \"*\"       \"*\"     \"*\"     \" \"    \" \"       \n",
       "12  ( 1 ) \"*\"    \"*\"     \"*\"       \"*\"     \"*\"     \" \"    \" \"       \n",
       "13  ( 1 ) \"*\"    \"*\"     \"*\"       \"*\"     \"*\"     \"*\"    \" \"       \n",
       "14  ( 1 ) \"*\"    \"*\"     \"*\"       \"*\"     \"*\"     \"*\"    \" \"       \n",
       "15  ( 1 ) \"*\"    \"*\"     \"*\"       \"*\"     \"*\"     \"*\"    \" \"       \n",
       "16  ( 1 ) \"*\"    \"*\"     \"*\"       \"*\"     \"*\"     \"*\"    \" \"       \n",
       "17  ( 1 ) \"*\"    \"*\"     \"*\"       \"*\"     \"*\"     \"*\"    \"*\"       \n",
       "18  ( 1 ) \"*\"    \"*\"     \"*\"       \"*\"     \"*\"     \"*\"    \"*\"       \n",
       "19  ( 1 ) \"*\"    \"*\"     \"*\"       \"*\"     \"*\"     \"*\"    \"*\"       "
      ]
     },
     "metadata": {},
     "output_type": "display_data"
    }
   ],
   "source": [
    "# Forward and Backward Stepwise Selection\n",
    "\n",
    "regfit.fwd=regsubsets(Salary~.,data=Hitters,nvmax=19,method=\"forward\")\n",
    "summary(regfit.fwd)\n",
    "regfit.bwd=regsubsets(Salary~.,data=Hitters,nvmax=19,method=\"backward\")\n",
    "summary(regfit.bwd)\n"
   ]
  },
  {
   "cell_type": "code",
   "execution_count": 23,
   "metadata": {},
   "outputs": [
    {
     "data": {
      "text/html": [
       "<dl class=dl-horizontal>\n",
       "\t<dt>(Intercept)</dt>\n",
       "\t\t<dd>79.4509472435319</dd>\n",
       "\t<dt>Hits</dt>\n",
       "\t\t<dd>1.28335125463328</dd>\n",
       "\t<dt>Walks</dt>\n",
       "\t\t<dd>3.22742638972714</dd>\n",
       "\t<dt>CAtBat</dt>\n",
       "\t\t<dd>-0.375235019565453</dd>\n",
       "\t<dt>CHits</dt>\n",
       "\t\t<dd>1.49570730989869</dd>\n",
       "\t<dt>CHmRun</dt>\n",
       "\t\t<dd>1.44205381889666</dd>\n",
       "\t<dt>DivisionW</dt>\n",
       "\t\t<dd>-129.986643165116</dd>\n",
       "\t<dt>PutOuts</dt>\n",
       "\t\t<dd>0.236681317525621</dd>\n",
       "</dl>\n"
      ],
      "text/latex": [
       "\\begin{description*}\n",
       "\\item[(Intercept)] 79.4509472435319\n",
       "\\item[Hits] 1.28335125463328\n",
       "\\item[Walks] 3.22742638972714\n",
       "\\item[CAtBat] -0.375235019565453\n",
       "\\item[CHits] 1.49570730989869\n",
       "\\item[CHmRun] 1.44205381889666\n",
       "\\item[DivisionW] -129.986643165116\n",
       "\\item[PutOuts] 0.236681317525621\n",
       "\\end{description*}\n"
      ],
      "text/markdown": [
       "(Intercept)\n",
       ":   79.4509472435319Hits\n",
       ":   1.28335125463328Walks\n",
       ":   3.22742638972714CAtBat\n",
       ":   -0.375235019565453CHits\n",
       ":   1.49570730989869CHmRun\n",
       ":   1.44205381889666DivisionW\n",
       ":   -129.986643165116PutOuts\n",
       ":   0.236681317525621\n",
       "\n"
      ],
      "text/plain": [
       " (Intercept)         Hits        Walks       CAtBat        CHits       CHmRun \n",
       "  79.4509472    1.2833513    3.2274264   -0.3752350    1.4957073    1.4420538 \n",
       "   DivisionW      PutOuts \n",
       "-129.9866432    0.2366813 "
      ]
     },
     "metadata": {},
     "output_type": "display_data"
    },
    {
     "data": {
      "text/html": [
       "<dl class=dl-horizontal>\n",
       "\t<dt>(Intercept)</dt>\n",
       "\t\t<dd>109.787306240078</dd>\n",
       "\t<dt>AtBat</dt>\n",
       "\t\t<dd>-1.95888512315655</dd>\n",
       "\t<dt>Hits</dt>\n",
       "\t\t<dd>7.44987721841218</dd>\n",
       "\t<dt>Walks</dt>\n",
       "\t\t<dd>4.91314009272066</dd>\n",
       "\t<dt>CRBI</dt>\n",
       "\t\t<dd>0.853762209061578</dd>\n",
       "\t<dt>CWalks</dt>\n",
       "\t\t<dd>-0.305307000381738</dd>\n",
       "\t<dt>DivisionW</dt>\n",
       "\t\t<dd>-127.122392777488</dd>\n",
       "\t<dt>PutOuts</dt>\n",
       "\t\t<dd>0.253340431147386</dd>\n",
       "</dl>\n"
      ],
      "text/latex": [
       "\\begin{description*}\n",
       "\\item[(Intercept)] 109.787306240078\n",
       "\\item[AtBat] -1.95888512315655\n",
       "\\item[Hits] 7.44987721841218\n",
       "\\item[Walks] 4.91314009272066\n",
       "\\item[CRBI] 0.853762209061578\n",
       "\\item[CWalks] -0.305307000381738\n",
       "\\item[DivisionW] -127.122392777488\n",
       "\\item[PutOuts] 0.253340431147386\n",
       "\\end{description*}\n"
      ],
      "text/markdown": [
       "(Intercept)\n",
       ":   109.787306240078AtBat\n",
       ":   -1.95888512315655Hits\n",
       ":   7.44987721841218Walks\n",
       ":   4.91314009272066CRBI\n",
       ":   0.853762209061578CWalks\n",
       ":   -0.305307000381738DivisionW\n",
       ":   -127.122392777488PutOuts\n",
       ":   0.253340431147386\n",
       "\n"
      ],
      "text/plain": [
       " (Intercept)        AtBat         Hits        Walks         CRBI       CWalks \n",
       " 109.7873062   -1.9588851    7.4498772    4.9131401    0.8537622   -0.3053070 \n",
       "   DivisionW      PutOuts \n",
       "-127.1223928    0.2533404 "
      ]
     },
     "metadata": {},
     "output_type": "display_data"
    },
    {
     "data": {
      "text/html": [
       "<dl class=dl-horizontal>\n",
       "\t<dt>(Intercept)</dt>\n",
       "\t\t<dd>105.648748778828</dd>\n",
       "\t<dt>AtBat</dt>\n",
       "\t\t<dd>-1.97628381026618</dd>\n",
       "\t<dt>Hits</dt>\n",
       "\t\t<dd>6.75749144281392</dd>\n",
       "\t<dt>Walks</dt>\n",
       "\t\t<dd>6.05586912154598</dd>\n",
       "\t<dt>CRuns</dt>\n",
       "\t\t<dd>1.12930946903271</dd>\n",
       "\t<dt>CWalks</dt>\n",
       "\t\t<dd>-0.71633458662198</dd>\n",
       "\t<dt>DivisionW</dt>\n",
       "\t\t<dd>-116.16921690431</dd>\n",
       "\t<dt>PutOuts</dt>\n",
       "\t\t<dd>0.302884743257576</dd>\n",
       "</dl>\n"
      ],
      "text/latex": [
       "\\begin{description*}\n",
       "\\item[(Intercept)] 105.648748778828\n",
       "\\item[AtBat] -1.97628381026618\n",
       "\\item[Hits] 6.75749144281392\n",
       "\\item[Walks] 6.05586912154598\n",
       "\\item[CRuns] 1.12930946903271\n",
       "\\item[CWalks] -0.71633458662198\n",
       "\\item[DivisionW] -116.16921690431\n",
       "\\item[PutOuts] 0.302884743257576\n",
       "\\end{description*}\n"
      ],
      "text/markdown": [
       "(Intercept)\n",
       ":   105.648748778828AtBat\n",
       ":   -1.97628381026618Hits\n",
       ":   6.75749144281392Walks\n",
       ":   6.05586912154598CRuns\n",
       ":   1.12930946903271CWalks\n",
       ":   -0.71633458662198DivisionW\n",
       ":   -116.16921690431PutOuts\n",
       ":   0.302884743257576\n",
       "\n"
      ],
      "text/plain": [
       " (Intercept)        AtBat         Hits        Walks        CRuns       CWalks \n",
       " 105.6487488   -1.9762838    6.7574914    6.0558691    1.1293095   -0.7163346 \n",
       "   DivisionW      PutOuts \n",
       "-116.1692169    0.3028847 "
      ]
     },
     "metadata": {},
     "output_type": "display_data"
    }
   ],
   "source": [
    "coef(regfit.full,7)\n",
    "coef(regfit.fwd,7)\n",
    "coef(regfit.bwd,7)\n"
   ]
  },
  {
   "cell_type": "code",
   "execution_count": 29,
   "metadata": {},
   "outputs": [],
   "source": [
    "# Choosing Among Models\n",
    "\n",
    "set.seed(1)\n",
    "train=sample(c(TRUE,FALSE), nrow(Hitters),rep=TRUE)\n",
    "test=(!train)\n",
    "regfit.best=regsubsets(Salary~.,data=Hitters[train,],nvmax=19)\n"
   ]
  },
  {
   "cell_type": "code",
   "execution_count": 30,
   "metadata": {},
   "outputs": [],
   "source": [
    "test.mat=model.matrix(Salary~.,data=Hitters[test,])\n"
   ]
  },
  {
   "cell_type": "code",
   "execution_count": 31,
   "metadata": {},
   "outputs": [],
   "source": [
    "val.errors=rep(NA,19)\n",
    "for(i in 1:19){\n",
    "   coefi=coef(regfit.best,id=i)\n",
    "   pred=test.mat[,names(coefi)]%*%coefi\n",
    "   val.errors[i]=mean((Hitters$Salary[test]-pred)^2)\n",
    "}"
   ]
  },
  {
   "cell_type": "code",
   "execution_count": 33,
   "metadata": {},
   "outputs": [
    {
     "data": {
      "text/html": [
       "<ol class=list-inline>\n",
       "\t<li>164377.260362341</li>\n",
       "\t<li>144405.470709589</li>\n",
       "\t<li>152175.69459474</li>\n",
       "\t<li>145198.381708901</li>\n",
       "\t<li>137902.113680192</li>\n",
       "\t<li>139175.74540071</li>\n",
       "\t<li>126848.963422889</li>\n",
       "\t<li>136191.381502395</li>\n",
       "\t<li>132889.632125506</li>\n",
       "\t<li>135434.897163883</li>\n",
       "\t<li>136963.294656889</li>\n",
       "\t<li>140694.931446905</li>\n",
       "\t<li>140690.940552605</li>\n",
       "\t<li>141951.168986255</li>\n",
       "\t<li>141508.153781646</li>\n",
       "\t<li>142164.368072385</li>\n",
       "\t<li>141767.40236927</li>\n",
       "\t<li>142339.552749068</li>\n",
       "\t<li>142238.156755267</li>\n",
       "</ol>\n"
      ],
      "text/latex": [
       "\\begin{enumerate*}\n",
       "\\item 164377.260362341\n",
       "\\item 144405.470709589\n",
       "\\item 152175.69459474\n",
       "\\item 145198.381708901\n",
       "\\item 137902.113680192\n",
       "\\item 139175.74540071\n",
       "\\item 126848.963422889\n",
       "\\item 136191.381502395\n",
       "\\item 132889.632125506\n",
       "\\item 135434.897163883\n",
       "\\item 136963.294656889\n",
       "\\item 140694.931446905\n",
       "\\item 140690.940552605\n",
       "\\item 141951.168986255\n",
       "\\item 141508.153781646\n",
       "\\item 142164.368072385\n",
       "\\item 141767.40236927\n",
       "\\item 142339.552749068\n",
       "\\item 142238.156755267\n",
       "\\end{enumerate*}\n"
      ],
      "text/markdown": [
       "1. 164377.260362341\n",
       "2. 144405.470709589\n",
       "3. 152175.69459474\n",
       "4. 145198.381708901\n",
       "5. 137902.113680192\n",
       "6. 139175.74540071\n",
       "7. 126848.963422889\n",
       "8. 136191.381502395\n",
       "9. 132889.632125506\n",
       "10. 135434.897163883\n",
       "11. 136963.294656889\n",
       "12. 140694.931446905\n",
       "13. 140690.940552605\n",
       "14. 141951.168986255\n",
       "15. 141508.153781646\n",
       "16. 142164.368072385\n",
       "17. 141767.40236927\n",
       "18. 142339.552749068\n",
       "19. 142238.156755267\n",
       "\n",
       "\n"
      ],
      "text/plain": [
       " [1] 164377.3 144405.5 152175.7 145198.4 137902.1 139175.7 126849.0 136191.4\n",
       " [9] 132889.6 135434.9 136963.3 140694.9 140690.9 141951.2 141508.2 142164.4\n",
       "[17] 141767.4 142339.6 142238.2"
      ]
     },
     "metadata": {},
     "output_type": "display_data"
    },
    {
     "data": {
      "text/html": [
       "7"
      ],
      "text/latex": [
       "7"
      ],
      "text/markdown": [
       "7"
      ],
      "text/plain": [
       "[1] 7"
      ]
     },
     "metadata": {},
     "output_type": "display_data"
    },
    {
     "data": {
      "text/html": [
       "<dl class=dl-horizontal>\n",
       "\t<dt>(Intercept)</dt>\n",
       "\t\t<dd>67.1085369123294</dd>\n",
       "\t<dt>AtBat</dt>\n",
       "\t\t<dd>-2.14629867457481</dd>\n",
       "\t<dt>Hits</dt>\n",
       "\t\t<dd>7.01495467840133</dd>\n",
       "\t<dt>Walks</dt>\n",
       "\t\t<dd>8.07166403119075</dd>\n",
       "\t<dt>CRuns</dt>\n",
       "\t\t<dd>1.24251126334183</dd>\n",
       "\t<dt>CWalks</dt>\n",
       "\t\t<dd>-0.833784385185916</dd>\n",
       "\t<dt>DivisionW</dt>\n",
       "\t\t<dd>-118.436499846968</dd>\n",
       "\t<dt>PutOuts</dt>\n",
       "\t\t<dd>0.252692546543788</dd>\n",
       "</dl>\n"
      ],
      "text/latex": [
       "\\begin{description*}\n",
       "\\item[(Intercept)] 67.1085369123294\n",
       "\\item[AtBat] -2.14629867457481\n",
       "\\item[Hits] 7.01495467840133\n",
       "\\item[Walks] 8.07166403119075\n",
       "\\item[CRuns] 1.24251126334183\n",
       "\\item[CWalks] -0.833784385185916\n",
       "\\item[DivisionW] -118.436499846968\n",
       "\\item[PutOuts] 0.252692546543788\n",
       "\\end{description*}\n"
      ],
      "text/markdown": [
       "(Intercept)\n",
       ":   67.1085369123294AtBat\n",
       ":   -2.14629867457481Hits\n",
       ":   7.01495467840133Walks\n",
       ":   8.07166403119075CRuns\n",
       ":   1.24251126334183CWalks\n",
       ":   -0.833784385185916DivisionW\n",
       ":   -118.436499846968PutOuts\n",
       ":   0.252692546543788\n",
       "\n"
      ],
      "text/plain": [
       " (Intercept)        AtBat         Hits        Walks        CRuns       CWalks \n",
       "  67.1085369   -2.1462987    7.0149547    8.0716640    1.2425113   -0.8337844 \n",
       "   DivisionW      PutOuts \n",
       "-118.4364998    0.2526925 "
      ]
     },
     "metadata": {},
     "output_type": "display_data"
    }
   ],
   "source": [
    "val.errors\n",
    "which.min(val.errors)\n",
    "coef(regfit.best,7)\n"
   ]
  },
  {
   "cell_type": "code",
   "execution_count": 34,
   "metadata": {},
   "outputs": [],
   "source": [
    "predict.regsubsets=function(object,newdata,id,...){\n",
    "  form=as.formula(object$call[[2]])\n",
    "  mat=model.matrix(form,newdata)\n",
    "  coefi=coef(object,id=id)\n",
    "  xvars=names(coefi)\n",
    "  mat[,xvars]%*%coefi\n",
    "  }"
   ]
  },
  {
   "cell_type": "code",
   "execution_count": 35,
   "metadata": {},
   "outputs": [
    {
     "data": {
      "text/html": [
       "<dl class=dl-horizontal>\n",
       "\t<dt>(Intercept)</dt>\n",
       "\t\t<dd>79.4509472435319</dd>\n",
       "\t<dt>Hits</dt>\n",
       "\t\t<dd>1.28335125463328</dd>\n",
       "\t<dt>Walks</dt>\n",
       "\t\t<dd>3.22742638972714</dd>\n",
       "\t<dt>CAtBat</dt>\n",
       "\t\t<dd>-0.375235019565453</dd>\n",
       "\t<dt>CHits</dt>\n",
       "\t\t<dd>1.49570730989869</dd>\n",
       "\t<dt>CHmRun</dt>\n",
       "\t\t<dd>1.44205381889666</dd>\n",
       "\t<dt>DivisionW</dt>\n",
       "\t\t<dd>-129.986643165116</dd>\n",
       "\t<dt>PutOuts</dt>\n",
       "\t\t<dd>0.236681317525621</dd>\n",
       "</dl>\n"
      ],
      "text/latex": [
       "\\begin{description*}\n",
       "\\item[(Intercept)] 79.4509472435319\n",
       "\\item[Hits] 1.28335125463328\n",
       "\\item[Walks] 3.22742638972714\n",
       "\\item[CAtBat] -0.375235019565453\n",
       "\\item[CHits] 1.49570730989869\n",
       "\\item[CHmRun] 1.44205381889666\n",
       "\\item[DivisionW] -129.986643165116\n",
       "\\item[PutOuts] 0.236681317525621\n",
       "\\end{description*}\n"
      ],
      "text/markdown": [
       "(Intercept)\n",
       ":   79.4509472435319Hits\n",
       ":   1.28335125463328Walks\n",
       ":   3.22742638972714CAtBat\n",
       ":   -0.375235019565453CHits\n",
       ":   1.49570730989869CHmRun\n",
       ":   1.44205381889666DivisionW\n",
       ":   -129.986643165116PutOuts\n",
       ":   0.236681317525621\n",
       "\n"
      ],
      "text/plain": [
       " (Intercept)         Hits        Walks       CAtBat        CHits       CHmRun \n",
       "  79.4509472    1.2833513    3.2274264   -0.3752350    1.4957073    1.4420538 \n",
       "   DivisionW      PutOuts \n",
       "-129.9866432    0.2366813 "
      ]
     },
     "metadata": {},
     "output_type": "display_data"
    }
   ],
   "source": [
    "regfit.best=regsubsets(Salary~.,data=Hitters,nvmax=19)\n",
    "coef(regfit.best,7)"
   ]
  },
  {
   "cell_type": "code",
   "execution_count": 36,
   "metadata": {},
   "outputs": [],
   "source": [
    "k=10\n",
    "set.seed(1)\n",
    "folds=sample(1:k,nrow(Hitters),replace=TRUE)\n",
    "cv.errors=matrix(NA,k,19, dimnames=list(NULL, paste(1:19)))\n"
   ]
  },
  {
   "cell_type": "code",
   "execution_count": 37,
   "metadata": {},
   "outputs": [],
   "source": [
    "for(j in 1:k){\n",
    "  best.fit=regsubsets(Salary~.,data=Hitters[folds!=j,],nvmax=19)\n",
    "  for(i in 1:19){\n",
    "    pred=predict(best.fit,Hitters[folds==j,],id=i)\n",
    "    cv.errors[j,i]=mean( (Hitters$Salary[folds==j]-pred)^2)\n",
    "    }\n",
    "  }"
   ]
  },
  {
   "cell_type": "code",
   "execution_count": 38,
   "metadata": {},
   "outputs": [
    {
     "data": {
      "text/html": [
       "<dl class=dl-horizontal>\n",
       "\t<dt>1</dt>\n",
       "\t\t<dd>149821.091405766</dd>\n",
       "\t<dt>2</dt>\n",
       "\t\t<dd>130922.0379764</dd>\n",
       "\t<dt>3</dt>\n",
       "\t\t<dd>139126.99031373</dd>\n",
       "\t<dt>4</dt>\n",
       "\t\t<dd>131028.824879075</dd>\n",
       "\t<dt>5</dt>\n",
       "\t\t<dd>131050.227792617</dd>\n",
       "\t<dt>6</dt>\n",
       "\t\t<dd>119538.639321733</dd>\n",
       "\t<dt>7</dt>\n",
       "\t\t<dd>124286.069572618</dd>\n",
       "\t<dt>8</dt>\n",
       "\t\t<dd>113580.024720024</dd>\n",
       "\t<dt>9</dt>\n",
       "\t\t<dd>115556.482968124</dd>\n",
       "\t<dt>10</dt>\n",
       "\t\t<dd>112216.694692405</dd>\n",
       "\t<dt>11</dt>\n",
       "\t\t<dd>113251.206611335</dd>\n",
       "\t<dt>12</dt>\n",
       "\t\t<dd>115755.928654414</dd>\n",
       "\t<dt>13</dt>\n",
       "\t\t<dd>117820.765179339</dd>\n",
       "\t<dt>14</dt>\n",
       "\t\t<dd>119481.192743936</dd>\n",
       "\t<dt>15</dt>\n",
       "\t\t<dd>120121.611555325</dd>\n",
       "\t<dt>16</dt>\n",
       "\t\t<dd>120074.319791001</dd>\n",
       "\t<dt>17</dt>\n",
       "\t\t<dd>120084.806046921</dd>\n",
       "\t<dt>18</dt>\n",
       "\t\t<dd>120085.752471046</dd>\n",
       "\t<dt>19</dt>\n",
       "\t\t<dd>120403.519222888</dd>\n",
       "</dl>\n"
      ],
      "text/latex": [
       "\\begin{description*}\n",
       "\\item[1] 149821.091405766\n",
       "\\item[2] 130922.0379764\n",
       "\\item[3] 139126.99031373\n",
       "\\item[4] 131028.824879075\n",
       "\\item[5] 131050.227792617\n",
       "\\item[6] 119538.639321733\n",
       "\\item[7] 124286.069572618\n",
       "\\item[8] 113580.024720024\n",
       "\\item[9] 115556.482968124\n",
       "\\item[10] 112216.694692405\n",
       "\\item[11] 113251.206611335\n",
       "\\item[12] 115755.928654414\n",
       "\\item[13] 117820.765179339\n",
       "\\item[14] 119481.192743936\n",
       "\\item[15] 120121.611555325\n",
       "\\item[16] 120074.319791001\n",
       "\\item[17] 120084.806046921\n",
       "\\item[18] 120085.752471046\n",
       "\\item[19] 120403.519222888\n",
       "\\end{description*}\n"
      ],
      "text/markdown": [
       "1\n",
       ":   149821.0914057662\n",
       ":   130922.03797643\n",
       ":   139126.990313734\n",
       ":   131028.8248790755\n",
       ":   131050.2277926176\n",
       ":   119538.6393217337\n",
       ":   124286.0695726188\n",
       ":   113580.0247200249\n",
       ":   115556.48296812410\n",
       ":   112216.69469240511\n",
       ":   113251.20661133512\n",
       ":   115755.92865441413\n",
       ":   117820.76517933914\n",
       ":   119481.19274393615\n",
       ":   120121.61155532516\n",
       ":   120074.31979100117\n",
       ":   120084.80604692118\n",
       ":   120085.75247104619\n",
       ":   120403.519222888\n",
       "\n"
      ],
      "text/plain": [
       "       1        2        3        4        5        6        7        8 \n",
       "149821.1 130922.0 139127.0 131028.8 131050.2 119538.6 124286.1 113580.0 \n",
       "       9       10       11       12       13       14       15       16 \n",
       "115556.5 112216.7 113251.2 115755.9 117820.8 119481.2 120121.6 120074.3 \n",
       "      17       18       19 \n",
       "120084.8 120085.8 120403.5 "
      ]
     },
     "metadata": {},
     "output_type": "display_data"
    }
   ],
   "source": [
    "mean.cv.errors=apply(cv.errors,2,mean)\n",
    "mean.cv.errors\n"
   ]
  },
  {
   "cell_type": "code",
   "execution_count": 39,
   "metadata": {},
   "outputs": [
    {
     "data": {
      "text/html": [
       "<dl class=dl-horizontal>\n",
       "\t<dt>(Intercept)</dt>\n",
       "\t\t<dd>135.751219457458</dd>\n",
       "\t<dt>AtBat</dt>\n",
       "\t\t<dd>-2.12774819603869</dd>\n",
       "\t<dt>Hits</dt>\n",
       "\t\t<dd>6.92369939666552</dd>\n",
       "\t<dt>Walks</dt>\n",
       "\t\t<dd>5.62027551957861</dd>\n",
       "\t<dt>CAtBat</dt>\n",
       "\t\t<dd>-0.138991434861849</dd>\n",
       "\t<dt>CRuns</dt>\n",
       "\t\t<dd>1.45533103037942</dd>\n",
       "\t<dt>CRBI</dt>\n",
       "\t\t<dd>0.785252782049429</dd>\n",
       "\t<dt>CWalks</dt>\n",
       "\t\t<dd>-0.822855923951907</dd>\n",
       "\t<dt>LeagueN</dt>\n",
       "\t\t<dd>43.1116151638512</dd>\n",
       "\t<dt>DivisionW</dt>\n",
       "\t\t<dd>-111.14602518374</dd>\n",
       "\t<dt>PutOuts</dt>\n",
       "\t\t<dd>0.289408680295373</dd>\n",
       "\t<dt>Assists</dt>\n",
       "\t\t<dd>0.26882769003494</dd>\n",
       "</dl>\n"
      ],
      "text/latex": [
       "\\begin{description*}\n",
       "\\item[(Intercept)] 135.751219457458\n",
       "\\item[AtBat] -2.12774819603869\n",
       "\\item[Hits] 6.92369939666552\n",
       "\\item[Walks] 5.62027551957861\n",
       "\\item[CAtBat] -0.138991434861849\n",
       "\\item[CRuns] 1.45533103037942\n",
       "\\item[CRBI] 0.785252782049429\n",
       "\\item[CWalks] -0.822855923951907\n",
       "\\item[LeagueN] 43.1116151638512\n",
       "\\item[DivisionW] -111.14602518374\n",
       "\\item[PutOuts] 0.289408680295373\n",
       "\\item[Assists] 0.26882769003494\n",
       "\\end{description*}\n"
      ],
      "text/markdown": [
       "(Intercept)\n",
       ":   135.751219457458AtBat\n",
       ":   -2.12774819603869Hits\n",
       ":   6.92369939666552Walks\n",
       ":   5.62027551957861CAtBat\n",
       ":   -0.138991434861849CRuns\n",
       ":   1.45533103037942CRBI\n",
       ":   0.785252782049429CWalks\n",
       ":   -0.822855923951907LeagueN\n",
       ":   43.1116151638512DivisionW\n",
       ":   -111.14602518374PutOuts\n",
       ":   0.289408680295373Assists\n",
       ":   0.26882769003494\n",
       "\n"
      ],
      "text/plain": [
       " (Intercept)        AtBat         Hits        Walks       CAtBat        CRuns \n",
       " 135.7512195   -2.1277482    6.9236994    5.6202755   -0.1389914    1.4553310 \n",
       "        CRBI       CWalks      LeagueN    DivisionW      PutOuts      Assists \n",
       "   0.7852528   -0.8228559   43.1116152 -111.1460252    0.2894087    0.2688277 "
      ]
     },
     "metadata": {},
     "output_type": "display_data"
    },
    {
     "data": {
      "image/png": "[encoded data removed]",
      "text/plain": [
       "plot without title"
      ]
     },
     "metadata": {},
     "output_type": "display_data"
    }
   ],
   "source": [
    "par(mfrow=c(1,1))\n",
    "plot(mean.cv.errors,type='b')\n",
    "reg.best=regsubsets(Salary~.,data=Hitters, nvmax=19)\n",
    "coef(reg.best,11)\n"
   ]
  },
  {
   "cell_type": "code",
   "execution_count": 40,
   "metadata": {},
   "outputs": [],
   "source": [
    "# Chapter 6 Lab 2: Ridge Regression and the Lasso\n",
    "\n",
    "x=model.matrix(Salary~.,Hitters)[,-1]\n",
    "y=Hitters$Salary\n"
   ]
  },
  {
   "cell_type": "code",
   "execution_count": 41,
   "metadata": {},
   "outputs": [
    {
     "name": "stderr",
     "output_type": "stream",
     "text": [
      "Loading required package: Matrix\n",
      "Loading required package: foreach\n",
      "Loaded glmnet 2.0-16\n",
      "\n"
     ]
    }
   ],
   "source": [
    "# Ridge Regression\n",
    "\n",
    "library(glmnet)\n",
    "grid=10^seq(10,-2,length=100)\n",
    "ridge.mod=glmnet(x,y,alpha=0,lambda=grid)"
   ]
  },
  {
   "cell_type": "code",
   "execution_count": 42,
   "metadata": {},
   "outputs": [
    {
     "data": {
      "text/html": [
       "<ol class=list-inline>\n",
       "\t<li>20</li>\n",
       "\t<li>100</li>\n",
       "</ol>\n"
      ],
      "text/latex": [
       "\\begin{enumerate*}\n",
       "\\item 20\n",
       "\\item 100\n",
       "\\end{enumerate*}\n"
      ],
      "text/markdown": [
       "1. 20\n",
       "2. 100\n",
       "\n",
       "\n"
      ],
      "text/plain": [
       "[1]  20 100"
      ]
     },
     "metadata": {},
     "output_type": "display_data"
    }
   ],
   "source": [
    "dim(coef(ridge.mod))\n"
   ]
  },
  {
   "cell_type": "code",
   "execution_count": 43,
   "metadata": {},
   "outputs": [
    {
     "data": {
      "text/html": [
       "11497.5699539774"
      ],
      "text/latex": [
       "11497.5699539774"
      ],
      "text/markdown": [
       "11497.5699539774"
      ],
      "text/plain": [
       "[1] 11497.57"
      ]
     },
     "metadata": {},
     "output_type": "display_data"
    },
    {
     "data": {
      "text/html": [
       "<dl class=dl-horizontal>\n",
       "\t<dt>(Intercept)</dt>\n",
       "\t\t<dd>407.356050200416</dd>\n",
       "\t<dt>AtBat</dt>\n",
       "\t\t<dd>0.0369571817501359</dd>\n",
       "\t<dt>Hits</dt>\n",
       "\t\t<dd>0.138180343807892</dd>\n",
       "\t<dt>HmRun</dt>\n",
       "\t\t<dd>0.524629975886911</dd>\n",
       "\t<dt>Runs</dt>\n",
       "\t\t<dd>0.230701522621179</dd>\n",
       "\t<dt>RBI</dt>\n",
       "\t\t<dd>0.239841458504058</dd>\n",
       "\t<dt>Walks</dt>\n",
       "\t\t<dd>0.289618741049884</dd>\n",
       "\t<dt>Years</dt>\n",
       "\t\t<dd>1.10770292908555</dd>\n",
       "\t<dt>CAtBat</dt>\n",
       "\t\t<dd>0.00313181522151328</dd>\n",
       "\t<dt>CHits</dt>\n",
       "\t\t<dd>0.0116536373557531</dd>\n",
       "\t<dt>CHmRun</dt>\n",
       "\t\t<dd>0.0875456697555949</dd>\n",
       "\t<dt>CRuns</dt>\n",
       "\t\t<dd>0.0233798823693758</dd>\n",
       "\t<dt>CRBI</dt>\n",
       "\t\t<dd>0.0241383203685686</dd>\n",
       "\t<dt>CWalks</dt>\n",
       "\t\t<dd>0.0250154205993732</dd>\n",
       "\t<dt>LeagueN</dt>\n",
       "\t\t<dd>0.0850281135625444</dd>\n",
       "\t<dt>DivisionW</dt>\n",
       "\t\t<dd>-6.21544097273146</dd>\n",
       "\t<dt>PutOuts</dt>\n",
       "\t\t<dd>0.0164825767604547</dd>\n",
       "\t<dt>Assists</dt>\n",
       "\t\t<dd>0.00261298804528183</dd>\n",
       "\t<dt>Errors</dt>\n",
       "\t\t<dd>-0.0205026903654579</dd>\n",
       "\t<dt>NewLeagueN</dt>\n",
       "\t\t<dd>0.301433531372699</dd>\n",
       "</dl>\n"
      ],
      "text/latex": [
       "\\begin{description*}\n",
       "\\item[(Intercept)] 407.356050200416\n",
       "\\item[AtBat] 0.0369571817501359\n",
       "\\item[Hits] 0.138180343807892\n",
       "\\item[HmRun] 0.524629975886911\n",
       "\\item[Runs] 0.230701522621179\n",
       "\\item[RBI] 0.239841458504058\n",
       "\\item[Walks] 0.289618741049884\n",
       "\\item[Years] 1.10770292908555\n",
       "\\item[CAtBat] 0.00313181522151328\n",
       "\\item[CHits] 0.0116536373557531\n",
       "\\item[CHmRun] 0.0875456697555949\n",
       "\\item[CRuns] 0.0233798823693758\n",
       "\\item[CRBI] 0.0241383203685686\n",
       "\\item[CWalks] 0.0250154205993732\n",
       "\\item[LeagueN] 0.0850281135625444\n",
       "\\item[DivisionW] -6.21544097273146\n",
       "\\item[PutOuts] 0.0164825767604547\n",
       "\\item[Assists] 0.00261298804528183\n",
       "\\item[Errors] -0.0205026903654579\n",
       "\\item[NewLeagueN] 0.301433531372699\n",
       "\\end{description*}\n"
      ],
      "text/markdown": [
       "(Intercept)\n",
       ":   407.356050200416AtBat\n",
       ":   0.0369571817501359Hits\n",
       ":   0.138180343807892HmRun\n",
       ":   0.524629975886911Runs\n",
       ":   0.230701522621179RBI\n",
       ":   0.239841458504058Walks\n",
       ":   0.289618741049884Years\n",
       ":   1.10770292908555CAtBat\n",
       ":   0.00313181522151328CHits\n",
       ":   0.0116536373557531CHmRun\n",
       ":   0.0875456697555949CRuns\n",
       ":   0.0233798823693758CRBI\n",
       ":   0.0241383203685686CWalks\n",
       ":   0.0250154205993732LeagueN\n",
       ":   0.0850281135625444DivisionW\n",
       ":   -6.21544097273146PutOuts\n",
       ":   0.0164825767604547Assists\n",
       ":   0.00261298804528183Errors\n",
       ":   -0.0205026903654579NewLeagueN\n",
       ":   0.301433531372699\n",
       "\n"
      ],
      "text/plain": [
       "  (Intercept)         AtBat          Hits         HmRun          Runs \n",
       "407.356050200   0.036957182   0.138180344   0.524629976   0.230701523 \n",
       "          RBI         Walks         Years        CAtBat         CHits \n",
       "  0.239841459   0.289618741   1.107702929   0.003131815   0.011653637 \n",
       "       CHmRun         CRuns          CRBI        CWalks       LeagueN \n",
       "  0.087545670   0.023379882   0.024138320   0.025015421   0.085028114 \n",
       "    DivisionW       PutOuts       Assists        Errors    NewLeagueN \n",
       " -6.215440973   0.016482577   0.002612988  -0.020502690   0.301433531 "
      ]
     },
     "metadata": {},
     "output_type": "display_data"
    }
   ],
   "source": [
    "ridge.mod$lambda[50]\n",
    "coef(ridge.mod)[,50]\n"
   ]
  },
  {
   "cell_type": "code",
   "execution_count": 44,
   "metadata": {},
   "outputs": [
    {
     "data": {
      "text/html": [
       "6.36061242142791"
      ],
      "text/latex": [
       "6.36061242142791"
      ],
      "text/markdown": [
       "6.36061242142791"
      ],
      "text/plain": [
       "[1] 6.360612"
      ]
     },
     "metadata": {},
     "output_type": "display_data"
    }
   ],
   "source": [
    "sqrt(sum(coef(ridge.mod)[-1,50]^2))\n"
   ]
  },
  {
   "cell_type": "code",
   "execution_count": 46,
   "metadata": {},
   "outputs": [
    {
     "data": {
      "text/html": [
       "705.480231071865"
      ],
      "text/latex": [
       "705.480231071865"
      ],
      "text/markdown": [
       "705.480231071865"
      ],
      "text/plain": [
       "[1] 705.4802"
      ]
     },
     "metadata": {},
     "output_type": "display_data"
    },
    {
     "data": {
      "text/html": [
       "<dl class=dl-horizontal>\n",
       "\t<dt>(Intercept)</dt>\n",
       "\t\t<dd>54.3251995018372</dd>\n",
       "\t<dt>AtBat</dt>\n",
       "\t\t<dd>0.112111145878249</dd>\n",
       "\t<dt>Hits</dt>\n",
       "\t\t<dd>0.656224085323628</dd>\n",
       "\t<dt>HmRun</dt>\n",
       "\t\t<dd>1.17980909638777</dd>\n",
       "\t<dt>Runs</dt>\n",
       "\t\t<dd>0.937697128927054</dd>\n",
       "\t<dt>RBI</dt>\n",
       "\t\t<dd>0.847185458771521</dd>\n",
       "\t<dt>Walks</dt>\n",
       "\t\t<dd>1.31987948048781</dd>\n",
       "\t<dt>Years</dt>\n",
       "\t\t<dd>2.59640424574253</dd>\n",
       "\t<dt>CAtBat</dt>\n",
       "\t\t<dd>0.0108341254432856</dd>\n",
       "\t<dt>CHits</dt>\n",
       "\t\t<dd>0.0467455700054452</dd>\n",
       "\t<dt>CHmRun</dt>\n",
       "\t\t<dd>0.337773183143353</dd>\n",
       "\t<dt>CRuns</dt>\n",
       "\t\t<dd>0.0935552830000676</dd>\n",
       "\t<dt>CRBI</dt>\n",
       "\t\t<dd>0.0978040232271687</dd>\n",
       "\t<dt>CWalks</dt>\n",
       "\t\t<dd>0.0718961166304866</dd>\n",
       "\t<dt>LeagueN</dt>\n",
       "\t\t<dd>13.6837019095343</dd>\n",
       "\t<dt>DivisionW</dt>\n",
       "\t\t<dd>-54.658777504592</dd>\n",
       "\t<dt>PutOuts</dt>\n",
       "\t\t<dd>0.118522894134745</dd>\n",
       "\t<dt>Assists</dt>\n",
       "\t\t<dd>0.01606037317599</dd>\n",
       "\t<dt>Errors</dt>\n",
       "\t\t<dd>-0.703586547290985</dd>\n",
       "\t<dt>NewLeagueN</dt>\n",
       "\t\t<dd>8.61181213448926</dd>\n",
       "</dl>\n"
      ],
      "text/latex": [
       "\\begin{description*}\n",
       "\\item[(Intercept)] 54.3251995018372\n",
       "\\item[AtBat] 0.112111145878249\n",
       "\\item[Hits] 0.656224085323628\n",
       "\\item[HmRun] 1.17980909638777\n",
       "\\item[Runs] 0.937697128927054\n",
       "\\item[RBI] 0.847185458771521\n",
       "\\item[Walks] 1.31987948048781\n",
       "\\item[Years] 2.59640424574253\n",
       "\\item[CAtBat] 0.0108341254432856\n",
       "\\item[CHits] 0.0467455700054452\n",
       "\\item[CHmRun] 0.337773183143353\n",
       "\\item[CRuns] 0.0935552830000676\n",
       "\\item[CRBI] 0.0978040232271687\n",
       "\\item[CWalks] 0.0718961166304866\n",
       "\\item[LeagueN] 13.6837019095343\n",
       "\\item[DivisionW] -54.658777504592\n",
       "\\item[PutOuts] 0.118522894134745\n",
       "\\item[Assists] 0.01606037317599\n",
       "\\item[Errors] -0.703586547290985\n",
       "\\item[NewLeagueN] 8.61181213448926\n",
       "\\end{description*}\n"
      ],
      "text/markdown": [
       "(Intercept)\n",
       ":   54.3251995018372AtBat\n",
       ":   0.112111145878249Hits\n",
       ":   0.656224085323628HmRun\n",
       ":   1.17980909638777Runs\n",
       ":   0.937697128927054RBI\n",
       ":   0.847185458771521Walks\n",
       ":   1.31987948048781Years\n",
       ":   2.59640424574253CAtBat\n",
       ":   0.0108341254432856CHits\n",
       ":   0.0467455700054452CHmRun\n",
       ":   0.337773183143353CRuns\n",
       ":   0.0935552830000676CRBI\n",
       ":   0.0978040232271687CWalks\n",
       ":   0.0718961166304866LeagueN\n",
       ":   13.6837019095343DivisionW\n",
       ":   -54.658777504592PutOuts\n",
       ":   0.118522894134745Assists\n",
       ":   0.01606037317599Errors\n",
       ":   -0.703586547290985NewLeagueN\n",
       ":   8.61181213448926\n",
       "\n"
      ],
      "text/plain": [
       " (Intercept)        AtBat         Hits        HmRun         Runs          RBI \n",
       " 54.32519950   0.11211115   0.65622409   1.17980910   0.93769713   0.84718546 \n",
       "       Walks        Years       CAtBat        CHits       CHmRun        CRuns \n",
       "  1.31987948   2.59640425   0.01083413   0.04674557   0.33777318   0.09355528 \n",
       "        CRBI       CWalks      LeagueN    DivisionW      PutOuts      Assists \n",
       "  0.09780402   0.07189612  13.68370191 -54.65877750   0.11852289   0.01606037 \n",
       "      Errors   NewLeagueN \n",
       " -0.70358655   8.61181213 "
      ]
     },
     "metadata": {},
     "output_type": "display_data"
    },
    {
     "data": {
      "text/html": [
       "57.110014262533"
      ],
      "text/latex": [
       "57.110014262533"
      ],
      "text/markdown": [
       "57.110014262533"
      ],
      "text/plain": [
       "[1] 57.11001"
      ]
     },
     "metadata": {},
     "output_type": "display_data"
    }
   ],
   "source": [
    "ridge.mod$lambda[60]\n",
    "coef(ridge.mod)[,60]\n",
    "sqrt(sum(coef(ridge.mod)[-1,60]^2))\n"
   ]
  },
  {
   "cell_type": "code",
   "execution_count": 47,
   "metadata": {},
   "outputs": [
    {
     "data": {
      "text/html": [
       "<dl class=dl-horizontal>\n",
       "\t<dt>(Intercept)</dt>\n",
       "\t\t<dd>48.7661032921608</dd>\n",
       "\t<dt>AtBat</dt>\n",
       "\t\t<dd>-0.358099859376738</dd>\n",
       "\t<dt>Hits</dt>\n",
       "\t\t<dd>1.96935928646357</dd>\n",
       "\t<dt>HmRun</dt>\n",
       "\t\t<dd>-1.27824798145678</dd>\n",
       "\t<dt>Runs</dt>\n",
       "\t\t<dd>1.14589163211962</dd>\n",
       "\t<dt>RBI</dt>\n",
       "\t\t<dd>0.803829228437672</dd>\n",
       "\t<dt>Walks</dt>\n",
       "\t\t<dd>2.71618579623371</dd>\n",
       "\t<dt>Years</dt>\n",
       "\t\t<dd>-6.21831921727865</dd>\n",
       "\t<dt>CAtBat</dt>\n",
       "\t\t<dd>0.00544783719814918</dd>\n",
       "\t<dt>CHits</dt>\n",
       "\t\t<dd>0.10648951402342</dd>\n",
       "\t<dt>CHmRun</dt>\n",
       "\t\t<dd>0.624485956082661</dd>\n",
       "\t<dt>CRuns</dt>\n",
       "\t\t<dd>0.221498463760022</dd>\n",
       "\t<dt>CRBI</dt>\n",
       "\t\t<dd>0.218691380321248</dd>\n",
       "\t<dt>CWalks</dt>\n",
       "\t\t<dd>-0.150024548516927</dd>\n",
       "\t<dt>LeagueN</dt>\n",
       "\t\t<dd>45.9258855144158</dd>\n",
       "\t<dt>DivisionW</dt>\n",
       "\t\t<dd>-118.201136816368</dd>\n",
       "\t<dt>PutOuts</dt>\n",
       "\t\t<dd>0.250232154092559</dd>\n",
       "\t<dt>Assists</dt>\n",
       "\t\t<dd>0.121566461346767</dd>\n",
       "\t<dt>Errors</dt>\n",
       "\t\t<dd>-3.27859954463555</dd>\n",
       "\t<dt>NewLeagueN</dt>\n",
       "\t\t<dd>-9.4966803100264</dd>\n",
       "</dl>\n"
      ],
      "text/latex": [
       "\\begin{description*}\n",
       "\\item[(Intercept)] 48.7661032921608\n",
       "\\item[AtBat] -0.358099859376738\n",
       "\\item[Hits] 1.96935928646357\n",
       "\\item[HmRun] -1.27824798145678\n",
       "\\item[Runs] 1.14589163211962\n",
       "\\item[RBI] 0.803829228437672\n",
       "\\item[Walks] 2.71618579623371\n",
       "\\item[Years] -6.21831921727865\n",
       "\\item[CAtBat] 0.00544783719814918\n",
       "\\item[CHits] 0.10648951402342\n",
       "\\item[CHmRun] 0.624485956082661\n",
       "\\item[CRuns] 0.221498463760022\n",
       "\\item[CRBI] 0.218691380321248\n",
       "\\item[CWalks] -0.150024548516927\n",
       "\\item[LeagueN] 45.9258855144158\n",
       "\\item[DivisionW] -118.201136816368\n",
       "\\item[PutOuts] 0.250232154092559\n",
       "\\item[Assists] 0.121566461346767\n",
       "\\item[Errors] -3.27859954463555\n",
       "\\item[NewLeagueN] -9.4966803100264\n",
       "\\end{description*}\n"
      ],
      "text/markdown": [
       "(Intercept)\n",
       ":   48.7661032921608AtBat\n",
       ":   -0.358099859376738Hits\n",
       ":   1.96935928646357HmRun\n",
       ":   -1.27824798145678Runs\n",
       ":   1.14589163211962RBI\n",
       ":   0.803829228437672Walks\n",
       ":   2.71618579623371Years\n",
       ":   -6.21831921727865CAtBat\n",
       ":   0.00544783719814918CHits\n",
       ":   0.10648951402342CHmRun\n",
       ":   0.624485956082661CRuns\n",
       ":   0.221498463760022CRBI\n",
       ":   0.218691380321248CWalks\n",
       ":   -0.150024548516927LeagueN\n",
       ":   45.9258855144158DivisionW\n",
       ":   -118.201136816368PutOuts\n",
       ":   0.250232154092559Assists\n",
       ":   0.121566461346767Errors\n",
       ":   -3.27859954463555NewLeagueN\n",
       ":   -9.4966803100264\n",
       "\n"
      ],
      "text/plain": [
       "  (Intercept)         AtBat          Hits         HmRun          Runs \n",
       " 4.876610e+01 -3.580999e-01  1.969359e+00 -1.278248e+00  1.145892e+00 \n",
       "          RBI         Walks         Years        CAtBat         CHits \n",
       " 8.038292e-01  2.716186e+00 -6.218319e+00  5.447837e-03  1.064895e-01 \n",
       "       CHmRun         CRuns          CRBI        CWalks       LeagueN \n",
       " 6.244860e-01  2.214985e-01  2.186914e-01 -1.500245e-01  4.592589e+01 \n",
       "    DivisionW       PutOuts       Assists        Errors    NewLeagueN \n",
       "-1.182011e+02  2.502322e-01  1.215665e-01 -3.278600e+00 -9.496680e+00 "
      ]
     },
     "metadata": {},
     "output_type": "display_data"
    }
   ],
   "source": [
    "predict(ridge.mod,s=50,type=\"coefficients\")[1:20,]\n"
   ]
  },
  {
   "cell_type": "code",
   "execution_count": 48,
   "metadata": {},
   "outputs": [],
   "source": [
    "set.seed(1)\n",
    "train=sample(1:nrow(x), nrow(x)/2)\n",
    "test=(-train)\n",
    "y.test=y[test]"
   ]
  },
  {
   "cell_type": "code",
   "execution_count": 49,
   "metadata": {},
   "outputs": [
    {
     "data": {
      "text/html": [
       "142199.150722761"
      ],
      "text/latex": [
       "142199.150722761"
      ],
      "text/markdown": [
       "142199.150722761"
      ],
      "text/plain": [
       "[1] 142199.2"
      ]
     },
     "metadata": {},
     "output_type": "display_data"
    },
    {
     "data": {
      "text/html": [
       "224669.906736192"
      ],
      "text/latex": [
       "224669.906736192"
      ],
      "text/markdown": [
       "224669.906736192"
      ],
      "text/plain": [
       "[1] 224669.9"
      ]
     },
     "metadata": {},
     "output_type": "display_data"
    }
   ],
   "source": [
    "ridge.mod=glmnet(x[train,],y[train],alpha=0,lambda=grid, thresh=1e-12)\n",
    "ridge.pred=predict(ridge.mod,s=4,newx=x[test,])\n",
    "mean((ridge.pred-y.test)^2)\n",
    "mean((mean(y[train])-y.test)^2)\n"
   ]
  },
  {
   "cell_type": "code",
   "execution_count": 51,
   "metadata": {},
   "outputs": [
    {
     "data": {
      "text/html": [
       "224669.833069663"
      ],
      "text/latex": [
       "224669.833069663"
      ],
      "text/markdown": [
       "224669.833069663"
      ],
      "text/plain": [
       "[1] 224669.8"
      ]
     },
     "metadata": {},
     "output_type": "display_data"
    }
   ],
   "source": [
    "ridge.pred=predict(ridge.mod,s=1e10,newx=x[test,])\n",
    "mean((ridge.pred-y.test)^2)\n"
   ]
  },
  {
   "cell_type": "code",
   "execution_count": 52,
   "metadata": {},
   "outputs": [
    {
     "ename": "ERROR",
     "evalue": "Error: used coef.glmnet() or predict.glmnet() with `exact=TRUE` so must in addition supply original argument(s)  x and y  in order to safely rerun glmnet\n",
     "output_type": "error",
     "traceback": [
      "Error: used coef.glmnet() or predict.glmnet() with `exact=TRUE` so must in addition supply original argument(s)  x and y  in order to safely rerun glmnet\nTraceback:\n",
      "1. predict(ridge.mod, s = 0, newx = x[test, ], exact = T)",
      "2. predict.elnet(ridge.mod, s = 0, newx = x[test, ], exact = T)",
      "3. NextMethod(\"predict\")",
      "4. predict.glmnet(ridge.mod, s = 0, newx = x[test, ], exact = T)",
      "5. check_dots(object, ...)",
      "6. stop(paste(\"used coef.glmnet() or predict.glmnet() with `exact=TRUE` so must in addition supply original argument(s) \", \n .     paste(margs, collapse = \" and \"), \" in order to safely rerun glmnet\"), \n .     call. = FALSE)"
     ]
    }
   ],
   "source": [
    "ridge.pred=predict(ridge.mod,s=0,newx=x[test,],exact=T)\n",
    "mean((ridge.pred-y.test)^2)\n"
   ]
  },
  {
   "cell_type": "code",
   "execution_count": 53,
   "metadata": {},
   "outputs": [
    {
     "data": {
      "text/plain": [
       "\n",
       "Call:\n",
       "lm(formula = y ~ x, subset = train)\n",
       "\n",
       "Coefficients:\n",
       "(Intercept)       xAtBat        xHits       xHmRun        xRuns         xRBI  \n",
       "   274.0145      -0.3521      -1.6377       5.8145       1.5424       1.1243  \n",
       "     xWalks       xYears      xCAtBat       xCHits      xCHmRun       xCRuns  \n",
       "     3.7287     -16.3773      -0.6412       3.1632       3.4008      -0.9739  \n",
       "      xCRBI      xCWalks     xLeagueN   xDivisionW     xPutOuts     xAssists  \n",
       "    -0.6005       0.3379     119.1486    -144.0831       0.1976       0.6804  \n",
       "    xErrors  xNewLeagueN  \n",
       "    -4.7128     -71.0951  \n"
      ]
     },
     "metadata": {},
     "output_type": "display_data"
    },
    {
     "ename": "ERROR",
     "evalue": "Error: used coef.glmnet() or predict.glmnet() with `exact=TRUE` so must in addition supply original argument(s)  x and y  in order to safely rerun glmnet\n",
     "output_type": "error",
     "traceback": [
      "Error: used coef.glmnet() or predict.glmnet() with `exact=TRUE` so must in addition supply original argument(s)  x and y  in order to safely rerun glmnet\nTraceback:\n",
      "1. predict(ridge.mod, s = 0, exact = T, type = \"coefficients\")",
      "2. predict.elnet(ridge.mod, s = 0, exact = T, type = \"coefficients\")",
      "3. NextMethod(\"predict\")",
      "4. predict.glmnet(ridge.mod, s = 0, exact = T, type = \"coefficients\")",
      "5. check_dots(object, ...)",
      "6. stop(paste(\"used coef.glmnet() or predict.glmnet() with `exact=TRUE` so must in addition supply original argument(s) \", \n .     paste(margs, collapse = \" and \"), \" in order to safely rerun glmnet\"), \n .     call. = FALSE)"
     ]
    }
   ],
   "source": [
    "lm(y~x, subset=train)\n",
    "predict(ridge.mod,s=0,exact=T,type=\"coefficients\")[1:20,]\n"
   ]
  },
  {
   "cell_type": "code",
   "execution_count": 54,
   "metadata": {},
   "outputs": [
    {
     "data": {
      "text/html": [
       "326.08278854596"
      ],
      "text/latex": [
       "326.08278854596"
      ],
      "text/markdown": [
       "326.08278854596"
      ],
      "text/plain": [
       "[1] 326.0828"
      ]
     },
     "metadata": {},
     "output_type": "display_data"
    },
    {
     "data": {
      "image/png": "[encoded data removed]",
      "text/plain": [
       "plot without title"
      ]
     },
     "metadata": {},
     "output_type": "display_data"
    }
   ],
   "source": [
    "set.seed(1)\n",
    "cv.out=cv.glmnet(x[train,],y[train],alpha=0)\n",
    "plot(cv.out)\n",
    "bestlam=cv.out$lambda.min\n",
    "bestlam\n"
   ]
  },
  {
   "cell_type": "code",
   "execution_count": 55,
   "metadata": {},
   "outputs": [
    {
     "data": {
      "text/html": [
       "139856.643451371"
      ],
      "text/latex": [
       "139856.643451371"
      ],
      "text/markdown": [
       "139856.643451371"
      ],
      "text/plain": [
       "[1] 139856.6"
      ]
     },
     "metadata": {},
     "output_type": "display_data"
    },
    {
     "data": {
      "text/html": [
       "<dl class=dl-horizontal>\n",
       "\t<dt>(Intercept)</dt>\n",
       "\t\t<dd>15.4438313539103</dd>\n",
       "\t<dt>AtBat</dt>\n",
       "\t\t<dd>0.0771554748907925</dd>\n",
       "\t<dt>Hits</dt>\n",
       "\t\t<dd>0.859115814031969</dd>\n",
       "\t<dt>HmRun</dt>\n",
       "\t\t<dd>0.601031069746882</dd>\n",
       "\t<dt>Runs</dt>\n",
       "\t\t<dd>1.06369006654778</dd>\n",
       "\t<dt>RBI</dt>\n",
       "\t\t<dd>0.879361053365972</dd>\n",
       "\t<dt>Walks</dt>\n",
       "\t\t<dd>1.62444616279791</dd>\n",
       "\t<dt>Years</dt>\n",
       "\t\t<dd>1.35254779528422</dd>\n",
       "\t<dt>CAtBat</dt>\n",
       "\t\t<dd>0.0113499915102498</dd>\n",
       "\t<dt>CHits</dt>\n",
       "\t\t<dd>0.0574665439614789</dd>\n",
       "\t<dt>CHmRun</dt>\n",
       "\t\t<dd>0.406801566464205</dd>\n",
       "\t<dt>CRuns</dt>\n",
       "\t\t<dd>0.114562244309134</dd>\n",
       "\t<dt>CRBI</dt>\n",
       "\t\t<dd>0.121165037864304</dd>\n",
       "\t<dt>CWalks</dt>\n",
       "\t\t<dd>0.0529920199108252</dd>\n",
       "\t<dt>LeagueN</dt>\n",
       "\t\t<dd>22.0914318947081</dd>\n",
       "\t<dt>DivisionW</dt>\n",
       "\t\t<dd>-79.0403263679412</dd>\n",
       "\t<dt>PutOuts</dt>\n",
       "\t\t<dd>0.166199027482507</dd>\n",
       "\t<dt>Assists</dt>\n",
       "\t\t<dd>0.0294194957326422</dd>\n",
       "\t<dt>Errors</dt>\n",
       "\t\t<dd>-1.36092944882302</dd>\n",
       "\t<dt>NewLeagueN</dt>\n",
       "\t\t<dd>9.12487766980244</dd>\n",
       "</dl>\n"
      ],
      "text/latex": [
       "\\begin{description*}\n",
       "\\item[(Intercept)] 15.4438313539103\n",
       "\\item[AtBat] 0.0771554748907925\n",
       "\\item[Hits] 0.859115814031969\n",
       "\\item[HmRun] 0.601031069746882\n",
       "\\item[Runs] 1.06369006654778\n",
       "\\item[RBI] 0.879361053365972\n",
       "\\item[Walks] 1.62444616279791\n",
       "\\item[Years] 1.35254779528422\n",
       "\\item[CAtBat] 0.0113499915102498\n",
       "\\item[CHits] 0.0574665439614789\n",
       "\\item[CHmRun] 0.406801566464205\n",
       "\\item[CRuns] 0.114562244309134\n",
       "\\item[CRBI] 0.121165037864304\n",
       "\\item[CWalks] 0.0529920199108252\n",
       "\\item[LeagueN] 22.0914318947081\n",
       "\\item[DivisionW] -79.0403263679412\n",
       "\\item[PutOuts] 0.166199027482507\n",
       "\\item[Assists] 0.0294194957326422\n",
       "\\item[Errors] -1.36092944882302\n",
       "\\item[NewLeagueN] 9.12487766980244\n",
       "\\end{description*}\n"
      ],
      "text/markdown": [
       "(Intercept)\n",
       ":   15.4438313539103AtBat\n",
       ":   0.0771554748907925Hits\n",
       ":   0.859115814031969HmRun\n",
       ":   0.601031069746882Runs\n",
       ":   1.06369006654778RBI\n",
       ":   0.879361053365972Walks\n",
       ":   1.62444616279791Years\n",
       ":   1.35254779528422CAtBat\n",
       ":   0.0113499915102498CHits\n",
       ":   0.0574665439614789CHmRun\n",
       ":   0.406801566464205CRuns\n",
       ":   0.114562244309134CRBI\n",
       ":   0.121165037864304CWalks\n",
       ":   0.0529920199108252LeagueN\n",
       ":   22.0914318947081DivisionW\n",
       ":   -79.0403263679412PutOuts\n",
       ":   0.166199027482507Assists\n",
       ":   0.0294194957326422Errors\n",
       ":   -1.36092944882302NewLeagueN\n",
       ":   9.12487766980244\n",
       "\n"
      ],
      "text/plain": [
       " (Intercept)        AtBat         Hits        HmRun         Runs          RBI \n",
       " 15.44383135   0.07715547   0.85911581   0.60103107   1.06369007   0.87936105 \n",
       "       Walks        Years       CAtBat        CHits       CHmRun        CRuns \n",
       "  1.62444616   1.35254780   0.01134999   0.05746654   0.40680157   0.11456224 \n",
       "        CRBI       CWalks      LeagueN    DivisionW      PutOuts      Assists \n",
       "  0.12116504   0.05299202  22.09143189 -79.04032637   0.16619903   0.02941950 \n",
       "      Errors   NewLeagueN \n",
       " -1.36092945   9.12487767 "
      ]
     },
     "metadata": {},
     "output_type": "display_data"
    }
   ],
   "source": [
    "ridge.pred=predict(ridge.mod,s=bestlam,newx=x[test,])\n",
    "mean((ridge.pred-y.test)^2)\n",
    "out=glmnet(x,y,alpha=0)\n",
    "predict(out,type=\"coefficients\",s=bestlam)[1:20,]\n"
   ]
  },
  {
   "cell_type": "code",
   "execution_count": 56,
   "metadata": {},
   "outputs": [
    {
     "name": "stderr",
     "output_type": "stream",
     "text": [
      "Warning message in regularize.values(x, y, ties, missing(ties)):\n",
      "“collapsing to unique 'x' values”"
     ]
    },
    {
     "data": {
      "image/png": "[encoded data removed]",
      "text/plain": [
       "plot without title"
      ]
     },
     "metadata": {},
     "output_type": "display_data"
    }
   ],
   "source": [
    "# The Lasso\n",
    "\n",
    "lasso.mod=glmnet(x[train,],y[train],alpha=1,lambda=grid)\n",
    "plot(lasso.mod)\n"
   ]
  },
  {
   "cell_type": "code",
   "execution_count": 57,
   "metadata": {},
   "outputs": [
    {
     "data": {
      "text/html": [
       "143673.618543046"
      ],
      "text/latex": [
       "143673.618543046"
      ],
      "text/markdown": [
       "143673.618543046"
      ],
      "text/plain": [
       "[1] 143673.6"
      ]
     },
     "metadata": {},
     "output_type": "display_data"
    },
    {
     "data": {
      "image/png": "[encoded data removed]",
      "text/plain": [
       "plot without title"
      ]
     },
     "metadata": {},
     "output_type": "display_data"
    }
   ],
   "source": [
    "set.seed(1)\n",
    "cv.out=cv.glmnet(x[train,],y[train],alpha=1)\n",
    "plot(cv.out)\n",
    "bestlam=cv.out$lambda.min\n",
    "lasso.pred=predict(lasso.mod,s=bestlam,newx=x[test,])\n",
    "mean((lasso.pred-y.test)^2)\n"
   ]
  },
  {
   "cell_type": "code",
   "execution_count": 58,
   "metadata": {},
   "outputs": [
    {
     "data": {
      "text/html": [
       "<dl class=dl-horizontal>\n",
       "\t<dt>(Intercept)</dt>\n",
       "\t\t<dd>1.27479059109959</dd>\n",
       "\t<dt>AtBat</dt>\n",
       "\t\t<dd>-0.054971427331518</dd>\n",
       "\t<dt>Hits</dt>\n",
       "\t\t<dd>2.18034583361294</dd>\n",
       "\t<dt>HmRun</dt>\n",
       "\t\t<dd>0</dd>\n",
       "\t<dt>Runs</dt>\n",
       "\t\t<dd>0</dd>\n",
       "\t<dt>RBI</dt>\n",
       "\t\t<dd>0</dd>\n",
       "\t<dt>Walks</dt>\n",
       "\t\t<dd>2.29192406458189</dd>\n",
       "\t<dt>Years</dt>\n",
       "\t\t<dd>-0.338061091664961</dd>\n",
       "\t<dt>CAtBat</dt>\n",
       "\t\t<dd>0</dd>\n",
       "\t<dt>CHits</dt>\n",
       "\t\t<dd>0</dd>\n",
       "\t<dt>CHmRun</dt>\n",
       "\t\t<dd>0.0282501287940462</dd>\n",
       "\t<dt>CRuns</dt>\n",
       "\t\t<dd>0.2162838490676</dd>\n",
       "\t<dt>CRBI</dt>\n",
       "\t\t<dd>0.417125367645419</dd>\n",
       "\t<dt>CWalks</dt>\n",
       "\t\t<dd>0</dd>\n",
       "\t<dt>LeagueN</dt>\n",
       "\t\t<dd>20.286150231074</dd>\n",
       "\t<dt>DivisionW</dt>\n",
       "\t\t<dd>-116.167558696372</dd>\n",
       "\t<dt>PutOuts</dt>\n",
       "\t\t<dd>0.237523845868754</dd>\n",
       "\t<dt>Assists</dt>\n",
       "\t\t<dd>0</dd>\n",
       "\t<dt>Errors</dt>\n",
       "\t\t<dd>-0.856291484604417</dd>\n",
       "\t<dt>NewLeagueN</dt>\n",
       "\t\t<dd>0</dd>\n",
       "</dl>\n"
      ],
      "text/latex": [
       "\\begin{description*}\n",
       "\\item[(Intercept)] 1.27479059109959\n",
       "\\item[AtBat] -0.054971427331518\n",
       "\\item[Hits] 2.18034583361294\n",
       "\\item[HmRun] 0\n",
       "\\item[Runs] 0\n",
       "\\item[RBI] 0\n",
       "\\item[Walks] 2.29192406458189\n",
       "\\item[Years] -0.338061091664961\n",
       "\\item[CAtBat] 0\n",
       "\\item[CHits] 0\n",
       "\\item[CHmRun] 0.0282501287940462\n",
       "\\item[CRuns] 0.2162838490676\n",
       "\\item[CRBI] 0.417125367645419\n",
       "\\item[CWalks] 0\n",
       "\\item[LeagueN] 20.286150231074\n",
       "\\item[DivisionW] -116.167558696372\n",
       "\\item[PutOuts] 0.237523845868754\n",
       "\\item[Assists] 0\n",
       "\\item[Errors] -0.856291484604417\n",
       "\\item[NewLeagueN] 0\n",
       "\\end{description*}\n"
      ],
      "text/markdown": [
       "(Intercept)\n",
       ":   1.27479059109959AtBat\n",
       ":   -0.054971427331518Hits\n",
       ":   2.18034583361294HmRun\n",
       ":   0Runs\n",
       ":   0RBI\n",
       ":   0Walks\n",
       ":   2.29192406458189Years\n",
       ":   -0.338061091664961CAtBat\n",
       ":   0CHits\n",
       ":   0CHmRun\n",
       ":   0.0282501287940462CRuns\n",
       ":   0.2162838490676CRBI\n",
       ":   0.417125367645419CWalks\n",
       ":   0LeagueN\n",
       ":   20.286150231074DivisionW\n",
       ":   -116.167558696372PutOuts\n",
       ":   0.237523845868754Assists\n",
       ":   0Errors\n",
       ":   -0.856291484604417NewLeagueN\n",
       ":   0\n",
       "\n"
      ],
      "text/plain": [
       "  (Intercept)         AtBat          Hits         HmRun          Runs \n",
       "   1.27479059   -0.05497143    2.18034583    0.00000000    0.00000000 \n",
       "          RBI         Walks         Years        CAtBat         CHits \n",
       "   0.00000000    2.29192406   -0.33806109    0.00000000    0.00000000 \n",
       "       CHmRun         CRuns          CRBI        CWalks       LeagueN \n",
       "   0.02825013    0.21628385    0.41712537    0.00000000   20.28615023 \n",
       "    DivisionW       PutOuts       Assists        Errors    NewLeagueN \n",
       "-116.16755870    0.23752385    0.00000000   -0.85629148    0.00000000 "
      ]
     },
     "metadata": {},
     "output_type": "display_data"
    },
    {
     "data": {
      "text/html": [
       "<dl class=dl-horizontal>\n",
       "\t<dt>(Intercept)</dt>\n",
       "\t\t<dd>1.27479059109959</dd>\n",
       "\t<dt>AtBat</dt>\n",
       "\t\t<dd>-0.054971427331518</dd>\n",
       "\t<dt>Hits</dt>\n",
       "\t\t<dd>2.18034583361294</dd>\n",
       "\t<dt>Walks</dt>\n",
       "\t\t<dd>2.29192406458189</dd>\n",
       "\t<dt>Years</dt>\n",
       "\t\t<dd>-0.338061091664961</dd>\n",
       "\t<dt>CHmRun</dt>\n",
       "\t\t<dd>0.0282501287940462</dd>\n",
       "\t<dt>CRuns</dt>\n",
       "\t\t<dd>0.2162838490676</dd>\n",
       "\t<dt>CRBI</dt>\n",
       "\t\t<dd>0.417125367645419</dd>\n",
       "\t<dt>LeagueN</dt>\n",
       "\t\t<dd>20.286150231074</dd>\n",
       "\t<dt>DivisionW</dt>\n",
       "\t\t<dd>-116.167558696372</dd>\n",
       "\t<dt>PutOuts</dt>\n",
       "\t\t<dd>0.237523845868754</dd>\n",
       "\t<dt>Errors</dt>\n",
       "\t\t<dd>-0.856291484604417</dd>\n",
       "</dl>\n"
      ],
      "text/latex": [
       "\\begin{description*}\n",
       "\\item[(Intercept)] 1.27479059109959\n",
       "\\item[AtBat] -0.054971427331518\n",
       "\\item[Hits] 2.18034583361294\n",
       "\\item[Walks] 2.29192406458189\n",
       "\\item[Years] -0.338061091664961\n",
       "\\item[CHmRun] 0.0282501287940462\n",
       "\\item[CRuns] 0.2162838490676\n",
       "\\item[CRBI] 0.417125367645419\n",
       "\\item[LeagueN] 20.286150231074\n",
       "\\item[DivisionW] -116.167558696372\n",
       "\\item[PutOuts] 0.237523845868754\n",
       "\\item[Errors] -0.856291484604417\n",
       "\\end{description*}\n"
      ],
      "text/markdown": [
       "(Intercept)\n",
       ":   1.27479059109959AtBat\n",
       ":   -0.054971427331518Hits\n",
       ":   2.18034583361294Walks\n",
       ":   2.29192406458189Years\n",
       ":   -0.338061091664961CHmRun\n",
       ":   0.0282501287940462CRuns\n",
       ":   0.2162838490676CRBI\n",
       ":   0.417125367645419LeagueN\n",
       ":   20.286150231074DivisionW\n",
       ":   -116.167558696372PutOuts\n",
       ":   0.237523845868754Errors\n",
       ":   -0.856291484604417\n",
       "\n"
      ],
      "text/plain": [
       "  (Intercept)         AtBat          Hits         Walks         Years \n",
       "   1.27479059   -0.05497143    2.18034583    2.29192406   -0.33806109 \n",
       "       CHmRun         CRuns          CRBI       LeagueN     DivisionW \n",
       "   0.02825013    0.21628385    0.41712537   20.28615023 -116.16755870 \n",
       "      PutOuts        Errors \n",
       "   0.23752385   -0.85629148 "
      ]
     },
     "metadata": {},
     "output_type": "display_data"
    }
   ],
   "source": [
    "out=glmnet(x,y,alpha=1,lambda=grid)\n",
    "lasso.coef=predict(out,type=\"coefficients\",s=bestlam)[1:20,]\n",
    "lasso.coef\n",
    "lasso.coef[lasso.coef!=0]"
   ]
  },
  {
   "cell_type": "code",
   "execution_count": 61,
   "metadata": {},
   "outputs": [
    {
     "name": "stderr",
     "output_type": "stream",
     "text": [
      "\n",
      "Attaching package: ‘pls’\n",
      "\n",
      "The following object is masked from ‘package:stats’:\n",
      "\n",
      "    loadings\n",
      "\n"
     ]
    }
   ],
   "source": [
    "# Chapter 6 Lab 3: PCR and PLS Regression\n",
    "\n",
    "# Principal Components Regression\n",
    "#install.packages(\"pls\")\n",
    "library(pls)\n",
    "set.seed(2)\n",
    "pcr.fit=pcr(Salary~., data=Hitters,scale=TRUE,validation=\"CV\")\n"
   ]
  },
  {
   "cell_type": "code",
   "execution_count": 62,
   "metadata": {},
   "outputs": [
    {
     "name": "stdout",
     "output_type": "stream",
     "text": [
      "Data: \tX dimension: 263 19 \n",
      "\tY dimension: 263 1\n",
      "Fit method: svdpc\n",
      "Number of components considered: 19\n",
      "\n",
      "VALIDATION: RMSEP\n",
      "Cross-validated using 10 random segments.\n",
      "       (Intercept)  1 comps  2 comps  3 comps  4 comps  5 comps  6 comps\n",
      "CV             452    351.9    353.2    355.0    352.8    348.4    343.6\n",
      "adjCV          452    351.6    352.7    354.4    352.1    347.6    342.7\n",
      "       7 comps  8 comps  9 comps  10 comps  11 comps  12 comps  13 comps\n",
      "CV       345.5    347.7    349.6     351.4     352.1     353.5     358.2\n",
      "adjCV    344.7    346.7    348.5     350.1     350.7     352.0     356.5\n",
      "       14 comps  15 comps  16 comps  17 comps  18 comps  19 comps\n",
      "CV        349.7     349.4     339.9     341.6     339.2     339.6\n",
      "adjCV     348.0     347.7     338.2     339.7     337.2     337.6\n",
      "\n",
      "TRAINING: % variance explained\n",
      "        1 comps  2 comps  3 comps  4 comps  5 comps  6 comps  7 comps  8 comps\n",
      "X         38.31    60.16    70.84    79.03    84.29    88.63    92.26    94.96\n",
      "Salary    40.63    41.58    42.17    43.22    44.90    46.48    46.69    46.75\n",
      "        9 comps  10 comps  11 comps  12 comps  13 comps  14 comps  15 comps\n",
      "X         96.28     97.26     97.98     98.65     99.15     99.47     99.75\n",
      "Salary    46.86     47.76     47.82     47.85     48.10     50.40     50.55\n",
      "        16 comps  17 comps  18 comps  19 comps\n",
      "X          99.89     99.97     99.99    100.00\n",
      "Salary     53.01     53.85     54.61     54.61\n"
     ]
    }
   ],
   "source": [
    "summary(pcr.fit)\n"
   ]
  },
  {
   "cell_type": "code",
   "execution_count": 63,
   "metadata": {},
   "outputs": [
    {
     "data": {
      "image/png": "[encoded data removed]",
      "text/plain": [
       "Plot with title “Salary”"
      ]
     },
     "metadata": {},
     "output_type": "display_data"
    }
   ],
   "source": [
    "validationplot(pcr.fit,val.type=\"MSEP\")\n"
   ]
  },
  {
   "cell_type": "code",
   "execution_count": 64,
   "metadata": {},
   "outputs": [
    {
     "data": {
      "text/html": [
       "140751.276313081"
      ],
      "text/latex": [
       "140751.276313081"
      ],
      "text/markdown": [
       "140751.276313081"
      ],
      "text/plain": [
       "[1] 140751.3"
      ]
     },
     "metadata": {},
     "output_type": "display_data"
    },
    {
     "data": {
      "image/png": "[encoded data removed]",
      "text/plain": [
       "Plot with title “Salary”"
      ]
     },
     "metadata": {},
     "output_type": "display_data"
    }
   ],
   "source": [
    "set.seed(1)\n",
    "pcr.fit=pcr(Salary~., data=Hitters,subset=train,scale=TRUE, validation=\"CV\")\n",
    "validationplot(pcr.fit,val.type=\"MSEP\")\n",
    "pcr.pred=predict(pcr.fit,x[test,],ncomp=7)\n",
    "mean((pcr.pred-y.test)^2)\n"
   ]
  },
  {
   "cell_type": "code",
   "execution_count": 65,
   "metadata": {},
   "outputs": [
    {
     "name": "stdout",
     "output_type": "stream",
     "text": [
      "Data: \tX dimension: 263 19 \n",
      "\tY dimension: 263 1\n",
      "Fit method: svdpc\n",
      "Number of components considered: 7\n",
      "TRAINING: % variance explained\n",
      "   1 comps  2 comps  3 comps  4 comps  5 comps  6 comps  7 comps\n",
      "X    38.31    60.16    70.84    79.03    84.29    88.63    92.26\n",
      "y    40.63    41.58    42.17    43.22    44.90    46.48    46.69\n"
     ]
    }
   ],
   "source": [
    "pcr.fit=pcr(y~x,scale=TRUE,ncomp=7)\n",
    "summary(pcr.fit)"
   ]
  },
  {
   "cell_type": "code",
   "execution_count": 66,
   "metadata": {},
   "outputs": [
    {
     "name": "stdout",
     "output_type": "stream",
     "text": [
      "Data: \tX dimension: 131 19 \n",
      "\tY dimension: 131 1\n",
      "Fit method: kernelpls\n",
      "Number of components considered: 19\n",
      "\n",
      "VALIDATION: RMSEP\n",
      "Cross-validated using 10 random segments.\n",
      "       (Intercept)  1 comps  2 comps  3 comps  4 comps  5 comps  6 comps\n",
      "CV           428.3    325.5    329.9    328.8    339.0    338.9    340.1\n",
      "adjCV        428.3    325.0    328.2    327.2    336.6    336.1    336.6\n",
      "       7 comps  8 comps  9 comps  10 comps  11 comps  12 comps  13 comps\n",
      "CV       339.0    347.1    346.4     343.4     341.5     345.4     356.4\n",
      "adjCV    336.2    343.4    342.8     340.2     338.3     341.8     351.1\n",
      "       14 comps  15 comps  16 comps  17 comps  18 comps  19 comps\n",
      "CV        348.4     349.1     350.0     344.2     344.5     345.0\n",
      "adjCV     344.2     345.0     345.9     340.4     340.6     341.1\n",
      "\n",
      "TRAINING: % variance explained\n",
      "        1 comps  2 comps  3 comps  4 comps  5 comps  6 comps  7 comps  8 comps\n",
      "X         39.13    48.80    60.09    75.07    78.58    81.12    88.21    90.71\n",
      "Salary    46.36    50.72    52.23    53.03    54.07    54.77    55.05    55.66\n",
      "        9 comps  10 comps  11 comps  12 comps  13 comps  14 comps  15 comps\n",
      "X         93.17     96.05     97.08     97.61     97.97     98.70     99.12\n",
      "Salary    55.95     56.12     56.47     56.68     57.37     57.76     58.08\n",
      "        16 comps  17 comps  18 comps  19 comps\n",
      "X          99.61     99.70     99.95    100.00\n",
      "Salary     58.17     58.49     58.56     58.62\n"
     ]
    },
    {
     "data": {
      "image/png": "[encoded data removed]",
      "text/plain": [
       "Plot with title “Salary”"
      ]
     },
     "metadata": {},
     "output_type": "display_data"
    }
   ],
   "source": [
    "# Partial Least Squares\n",
    "\n",
    "set.seed(1)\n",
    "pls.fit=plsr(Salary~., data=Hitters,subset=train,scale=TRUE, validation=\"CV\")\n",
    "summary(pls.fit)\n",
    "validationplot(pls.fit,val.type=\"MSEP\")\n"
   ]
  },
  {
   "cell_type": "code",
   "execution_count": 67,
   "metadata": {},
   "outputs": [
    {
     "data": {
      "text/html": [
       "145367.722827519"
      ],
      "text/latex": [
       "145367.722827519"
      ],
      "text/markdown": [
       "145367.722827519"
      ],
      "text/plain": [
       "[1] 145367.7"
      ]
     },
     "metadata": {},
     "output_type": "display_data"
    },
    {
     "name": "stdout",
     "output_type": "stream",
     "text": [
      "Data: \tX dimension: 263 19 \n",
      "\tY dimension: 263 1\n",
      "Fit method: kernelpls\n",
      "Number of components considered: 2\n",
      "TRAINING: % variance explained\n",
      "        1 comps  2 comps\n",
      "X         38.08    51.03\n",
      "Salary    43.05    46.40\n"
     ]
    }
   ],
   "source": [
    "pls.pred=predict(pls.fit,x[test,],ncomp=2)\n",
    "mean((pls.pred-y.test)^2)\n",
    "pls.fit=plsr(Salary~., data=Hitters,scale=TRUE,ncomp=2)\n",
    "summary(pls.fit)\n"
   ]
  },
  {
   "cell_type": "code",
   "execution_count": null,
   "metadata": {},
   "outputs": [],
   "source": []
  }
 ],
 "metadata": {
  "kernelspec": {
   "display_name": "R",
   "language": "R",
   "name": "ir"
  },
  "language_info": {
   "codemirror_mode": "r",
   "file_extension": ".r",
   "mimetype": "text/x-r-source",
   "name": "R",
   "pygments_lexer": "r",
   "version": "3.6.1"
  }
 },
 "nbformat": 4,
 "nbformat_minor": 2
}
