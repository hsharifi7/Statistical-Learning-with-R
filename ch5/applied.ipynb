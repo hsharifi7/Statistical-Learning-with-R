{
 "cells": [
  {
   "cell_type": "code",
   "execution_count": 1,
   "metadata": {},
   "outputs": [
    {
     "data": {
      "text/plain": [
       " default    student       balance           income     \n",
       " No :9667   No :7056   Min.   :   0.0   Min.   :  772  \n",
       " Yes: 333   Yes:2944   1st Qu.: 481.7   1st Qu.:21340  \n",
       "                       Median : 823.6   Median :34553  \n",
       "                       Mean   : 835.4   Mean   :33517  \n",
       "                       3rd Qu.:1166.3   3rd Qu.:43808  \n",
       "                       Max.   :2654.3   Max.   :73554  "
      ]
     },
     "metadata": {},
     "output_type": "display_data"
    }
   ],
   "source": [
    "library(ISLR)\n",
    "summary(Default)"
   ]
  },
  {
   "cell_type": "code",
   "execution_count": 2,
   "metadata": {},
   "outputs": [],
   "source": [
    "attach(Default)"
   ]
  },
  {
   "cell_type": "code",
   "execution_count": 3,
   "metadata": {},
   "outputs": [],
   "source": [
    "set.seed(1)\n",
    "glm.fit = glm(default ~ income + balance, data = Default, family = binomial)\n"
   ]
  },
  {
   "cell_type": "code",
   "execution_count": 9,
   "metadata": {},
   "outputs": [
    {
     "data": {
      "text/html": [
       "0.0282"
      ],
      "text/latex": [
       "0.0282"
      ],
      "text/markdown": [
       "0.0282"
      ],
      "text/plain": [
       "[1] 0.0282"
      ]
     },
     "metadata": {},
     "output_type": "display_data"
    }
   ],
   "source": [
    "FiveB = function() {\n",
    "    # i.\n",
    "    train = sample(dim(Default)[1], dim(Default)[1]/2)\n",
    "    # ii.\n",
    "    glm.fit = glm(default ~ income + balance, data = Default, family = binomial, \n",
    "        subset = train)\n",
    "    # iii.\n",
    "    glm.pred = rep(\"No\", dim(Default)[1]/2)\n",
    "    glm.probs = predict(glm.fit, Default[-train, ], type = \"response\")\n",
    "    glm.pred[glm.probs > 0.5] = \"Yes\"\n",
    "    # iv.\n",
    "    return(mean(glm.pred != Default[-train, ]$default))\n",
    "}\n",
    "FiveB()"
   ]
  },
  {
   "cell_type": "code",
   "execution_count": 5,
   "metadata": {},
   "outputs": [],
   "source": [
    "# 0.0254% test error rate from validation set approach."
   ]
  },
  {
   "cell_type": "code",
   "execution_count": 6,
   "metadata": {},
   "outputs": [
    {
     "data": {
      "text/html": [
       "0.0274"
      ],
      "text/latex": [
       "0.0274"
      ],
      "text/markdown": [
       "0.0274"
      ],
      "text/plain": [
       "[1] 0.0274"
      ]
     },
     "metadata": {},
     "output_type": "display_data"
    },
    {
     "data": {
      "text/html": [
       "0.0244"
      ],
      "text/latex": [
       "0.0244"
      ],
      "text/markdown": [
       "0.0244"
      ],
      "text/plain": [
       "[1] 0.0244"
      ]
     },
     "metadata": {},
     "output_type": "display_data"
    },
    {
     "data": {
      "text/html": [
       "0.0244"
      ],
      "text/latex": [
       "0.0244"
      ],
      "text/markdown": [
       "0.0244"
      ],
      "text/plain": [
       "[1] 0.0244"
      ]
     },
     "metadata": {},
     "output_type": "display_data"
    }
   ],
   "source": [
    "FiveB()\n",
    "FiveB()\n",
    "FiveB()\n",
    "# It seems to average around 2.6% test error rate."
   ]
  },
  {
   "cell_type": "code",
   "execution_count": 7,
   "metadata": {},
   "outputs": [
    {
     "data": {
      "text/html": [
       "0.0278"
      ],
      "text/latex": [
       "0.0278"
      ],
      "text/markdown": [
       "0.0278"
      ],
      "text/plain": [
       "[1] 0.0278"
      ]
     },
     "metadata": {},
     "output_type": "display_data"
    }
   ],
   "source": [
    "train = sample(dim(Default)[1], dim(Default)[1]/2)\n",
    "glm.fit = glm(default ~ income + balance + student, data = Default, family = binomial, \n",
    "    subset = train)\n",
    "glm.pred = rep(\"No\", dim(Default)[1]/2)\n",
    "glm.probs = predict(glm.fit, Default[-train, ], type = \"response\")\n",
    "glm.pred[glm.probs > 0.5] = \"Yes\"\n",
    "mean(glm.pred != Default[-train, ]$default)\n"
   ]
  },
  {
   "cell_type": "code",
   "execution_count": 10,
   "metadata": {},
   "outputs": [],
   "source": [
    "# 2.64% test error rate, with student dummy variable. Using the validation set approach, it doesn't appear adding the \n",
    "# student dummy variable leads to a reduction in the test error rate."
   ]
  },
  {
   "cell_type": "code",
   "execution_count": 11,
   "metadata": {},
   "outputs": [],
   "source": [
    "# 6"
   ]
  },
  {
   "cell_type": "code",
   "execution_count": 12,
   "metadata": {},
   "outputs": [
    {
     "data": {
      "text/plain": [
       "\n",
       "Call:\n",
       "glm(formula = default ~ income + balance, family = binomial, \n",
       "    data = Default)\n",
       "\n",
       "Deviance Residuals: \n",
       "    Min       1Q   Median       3Q      Max  \n",
       "-2.4725  -0.1444  -0.0574  -0.0211   3.7245  \n",
       "\n",
       "Coefficients:\n",
       "              Estimate Std. Error z value Pr(>|z|)    \n",
       "(Intercept) -1.154e+01  4.348e-01 -26.545  < 2e-16 ***\n",
       "income       2.081e-05  4.985e-06   4.174 2.99e-05 ***\n",
       "balance      5.647e-03  2.274e-04  24.836  < 2e-16 ***\n",
       "---\n",
       "Signif. codes:  0 ‘***’ 0.001 ‘**’ 0.01 ‘*’ 0.05 ‘.’ 0.1 ‘ ’ 1\n",
       "\n",
       "(Dispersion parameter for binomial family taken to be 1)\n",
       "\n",
       "    Null deviance: 2920.6  on 9999  degrees of freedom\n",
       "Residual deviance: 1579.0  on 9997  degrees of freedom\n",
       "AIC: 1585\n",
       "\n",
       "Number of Fisher Scoring iterations: 8\n"
      ]
     },
     "metadata": {},
     "output_type": "display_data"
    }
   ],
   "source": [
    "set.seed(1)\n",
    "glm.fit = glm(default ~ income + balance, data = Default, family = binomial)\n",
    "summary(glm.fit)"
   ]
  },
  {
   "cell_type": "code",
   "execution_count": 13,
   "metadata": {},
   "outputs": [],
   "source": [
    "boot.fn = function(data, index) return(coef(glm(default ~ income + balance, \n",
    "    data = data, family = binomial, subset = index)))\n"
   ]
  },
  {
   "cell_type": "code",
   "execution_count": 14,
   "metadata": {},
   "outputs": [
    {
     "data": {
      "text/plain": [
       "\n",
       "ORDINARY NONPARAMETRIC BOOTSTRAP\n",
       "\n",
       "\n",
       "Call:\n",
       "boot(data = Default, statistic = boot.fn, R = 50)\n",
       "\n",
       "\n",
       "Bootstrap Statistics :\n",
       "         original        bias     std. error\n",
       "t1* -1.154047e+01 -5.661486e-02 4.847786e-01\n",
       "t2*  2.080898e-05 -7.436578e-08 4.456965e-06\n",
       "t3*  5.647103e-03  1.854126e-05 2.639029e-04"
      ]
     },
     "metadata": {},
     "output_type": "display_data"
    }
   ],
   "source": [
    "library(boot)\n",
    "boot(Default, boot.fn, 50)"
   ]
  },
  {
   "cell_type": "code",
   "execution_count": 15,
   "metadata": {},
   "outputs": [],
   "source": [
    "# Similar answers to the second and third significant digits."
   ]
  },
  {
   "cell_type": "code",
   "execution_count": 16,
   "metadata": {},
   "outputs": [
    {
     "data": {
      "text/plain": [
       "      Year           Lag1               Lag2               Lag3         \n",
       " Min.   :1990   Min.   :-18.1950   Min.   :-18.1950   Min.   :-18.1950  \n",
       " 1st Qu.:1995   1st Qu.: -1.1540   1st Qu.: -1.1540   1st Qu.: -1.1580  \n",
       " Median :2000   Median :  0.2410   Median :  0.2410   Median :  0.2410  \n",
       " Mean   :2000   Mean   :  0.1506   Mean   :  0.1511   Mean   :  0.1472  \n",
       " 3rd Qu.:2005   3rd Qu.:  1.4050   3rd Qu.:  1.4090   3rd Qu.:  1.4090  \n",
       " Max.   :2010   Max.   : 12.0260   Max.   : 12.0260   Max.   : 12.0260  \n",
       "      Lag4               Lag5              Volume            Today         \n",
       " Min.   :-18.1950   Min.   :-18.1950   Min.   :0.08747   Min.   :-18.1950  \n",
       " 1st Qu.: -1.1580   1st Qu.: -1.1660   1st Qu.:0.33202   1st Qu.: -1.1540  \n",
       " Median :  0.2380   Median :  0.2340   Median :1.00268   Median :  0.2410  \n",
       " Mean   :  0.1458   Mean   :  0.1399   Mean   :1.57462   Mean   :  0.1499  \n",
       " 3rd Qu.:  1.4090   3rd Qu.:  1.4050   3rd Qu.:2.05373   3rd Qu.:  1.4050  \n",
       " Max.   : 12.0260   Max.   : 12.0260   Max.   :9.32821   Max.   : 12.0260  \n",
       " Direction \n",
       " Down:484  \n",
       " Up  :605  \n",
       "           \n",
       "           \n",
       "           \n",
       "           "
      ]
     },
     "metadata": {},
     "output_type": "display_data"
    }
   ],
   "source": [
    "# 7 \n",
    "\n",
    "summary(Weekly)"
   ]
  },
  {
   "cell_type": "code",
   "execution_count": 17,
   "metadata": {},
   "outputs": [],
   "source": [
    "set.seed(1)\n",
    "attach(Weekly)"
   ]
  },
  {
   "cell_type": "code",
   "execution_count": 18,
   "metadata": {},
   "outputs": [
    {
     "data": {
      "text/plain": [
       "\n",
       "Call:\n",
       "glm(formula = Direction ~ Lag1 + Lag2, family = binomial, data = Weekly)\n",
       "\n",
       "Deviance Residuals: \n",
       "   Min      1Q  Median      3Q     Max  \n",
       "-1.623  -1.261   1.001   1.083   1.506  \n",
       "\n",
       "Coefficients:\n",
       "            Estimate Std. Error z value Pr(>|z|)    \n",
       "(Intercept)  0.22122    0.06147   3.599 0.000319 ***\n",
       "Lag1        -0.03872    0.02622  -1.477 0.139672    \n",
       "Lag2         0.06025    0.02655   2.270 0.023232 *  \n",
       "---\n",
       "Signif. codes:  0 ‘***’ 0.001 ‘**’ 0.01 ‘*’ 0.05 ‘.’ 0.1 ‘ ’ 1\n",
       "\n",
       "(Dispersion parameter for binomial family taken to be 1)\n",
       "\n",
       "    Null deviance: 1496.2  on 1088  degrees of freedom\n",
       "Residual deviance: 1488.2  on 1086  degrees of freedom\n",
       "AIC: 1494.2\n",
       "\n",
       "Number of Fisher Scoring iterations: 4\n"
      ]
     },
     "metadata": {},
     "output_type": "display_data"
    }
   ],
   "source": [
    "# a\n",
    "\n",
    "glm.fit = glm(Direction ~ Lag1 + Lag2, data = Weekly, family = binomial)\n",
    "summary(glm.fit)"
   ]
  },
  {
   "cell_type": "code",
   "execution_count": 19,
   "metadata": {},
   "outputs": [
    {
     "data": {
      "text/plain": [
       "\n",
       "Call:\n",
       "glm(formula = Direction ~ Lag1 + Lag2, family = binomial, data = Weekly[-1, \n",
       "    ])\n",
       "\n",
       "Deviance Residuals: \n",
       "    Min       1Q   Median       3Q      Max  \n",
       "-1.6258  -1.2617   0.9999   1.0819   1.5071  \n",
       "\n",
       "Coefficients:\n",
       "            Estimate Std. Error z value Pr(>|z|)    \n",
       "(Intercept)  0.22324    0.06150   3.630 0.000283 ***\n",
       "Lag1        -0.03843    0.02622  -1.466 0.142683    \n",
       "Lag2         0.06085    0.02656   2.291 0.021971 *  \n",
       "---\n",
       "Signif. codes:  0 ‘***’ 0.001 ‘**’ 0.01 ‘*’ 0.05 ‘.’ 0.1 ‘ ’ 1\n",
       "\n",
       "(Dispersion parameter for binomial family taken to be 1)\n",
       "\n",
       "    Null deviance: 1494.6  on 1087  degrees of freedom\n",
       "Residual deviance: 1486.5  on 1085  degrees of freedom\n",
       "AIC: 1492.5\n",
       "\n",
       "Number of Fisher Scoring iterations: 4\n"
      ]
     },
     "metadata": {},
     "output_type": "display_data"
    }
   ],
   "source": [
    "# b\n",
    "glm.fit = glm(Direction ~ Lag1 + Lag2, data = Weekly[-1, ], family = binomial)\n",
    "summary(glm.fit)\n"
   ]
  },
  {
   "cell_type": "code",
   "execution_count": 20,
   "metadata": {},
   "outputs": [
    {
     "data": {
      "text/html": [
       "<strong>1:</strong> TRUE"
      ],
      "text/latex": [
       "\\textbf{1:} TRUE"
      ],
      "text/markdown": [
       "**1:** TRUE"
      ],
      "text/plain": [
       "   1 \n",
       "TRUE "
      ]
     },
     "metadata": {},
     "output_type": "display_data"
    }
   ],
   "source": [
    "#6 \n",
    "predict.glm(glm.fit, Weekly[1, ], type = \"response\") > 0.5\n",
    "\n",
    "#Prediction was UP, true Direction was DOWN."
   ]
  },
  {
   "cell_type": "code",
   "execution_count": 21,
   "metadata": {},
   "outputs": [
    {
     "data": {
      "text/html": [
       "490"
      ],
      "text/latex": [
       "490"
      ],
      "text/markdown": [
       "490"
      ],
      "text/plain": [
       "[1] 490"
      ]
     },
     "metadata": {},
     "output_type": "display_data"
    }
   ],
   "source": [
    "count = rep(0, dim(Weekly)[1])\n",
    "for (i in 1:(dim(Weekly)[1])) {\n",
    "    glm.fit = glm(Direction ~ Lag1 + Lag2, data = Weekly[-i, ], family = binomial)\n",
    "    is_up = predict.glm(glm.fit, Weekly[i, ], type = \"response\") > 0.5\n",
    "    is_true_up = Weekly[i, ]$Direction == \"Up\"\n",
    "    if (is_up != is_true_up) \n",
    "        count[i] = 1\n",
    "}\n",
    "sum(count)\n",
    "#  490 errors"
   ]
  },
  {
   "cell_type": "code",
   "execution_count": 22,
   "metadata": {},
   "outputs": [
    {
     "data": {
      "text/html": [
       "0.449954086317723"
      ],
      "text/latex": [
       "0.449954086317723"
      ],
      "text/markdown": [
       "0.449954086317723"
      ],
      "text/plain": [
       "[1] 0.4499541"
      ]
     },
     "metadata": {},
     "output_type": "display_data"
    }
   ],
   "source": [
    "#6 \n",
    "mean(count)\n",
    "# LOOCV estimates a test error rate of 45%. "
   ]
  },
  {
   "cell_type": "code",
   "execution_count": 23,
   "metadata": {},
   "outputs": [],
   "source": [
    "# 8 \n",
    "# a\n",
    "set.seed(1)\n",
    "y = rnorm(100)\n",
    "x = rnorm(100)\n",
    "y = x - 2 * x^2 + rnorm(100)"
   ]
  },
  {
   "cell_type": "code",
   "execution_count": 24,
   "metadata": {},
   "outputs": [],
   "source": [
    "# n = 100, p = 2.\n",
    "# Y= X − 2X^2+ϵ\n"
   ]
  },
  {
   "cell_type": "code",
   "execution_count": 25,
   "metadata": {},
   "outputs": [
    {
     "data": {
      "image/png": "[encoded data removed]",
      "text/plain": [
       "plot without title"
      ]
     },
     "metadata": {},
     "output_type": "display_data"
    }
   ],
   "source": [
    "plot(x, y)\n",
    "#Quadratic plot. X from about -2 to 2. Y from about -8 to 2."
   ]
  },
  {
   "cell_type": "code",
   "execution_count": 26,
   "metadata": {},
   "outputs": [
    {
     "data": {
      "text/html": [
       "<ol class=list-inline>\n",
       "\t<li>5.89097855988843</li>\n",
       "\t<li>5.88881215196093</li>\n",
       "</ol>\n"
      ],
      "text/latex": [
       "\\begin{enumerate*}\n",
       "\\item 5.89097855988843\n",
       "\\item 5.88881215196093\n",
       "\\end{enumerate*}\n"
      ],
      "text/markdown": [
       "1. 5.89097855988843\n",
       "2. 5.88881215196093\n",
       "\n",
       "\n"
      ],
      "text/plain": [
       "[1] 5.890979 5.888812"
      ]
     },
     "metadata": {},
     "output_type": "display_data"
    }
   ],
   "source": [
    "# c\n",
    "library(boot)\n",
    "Data = data.frame(x, y)\n",
    "set.seed(1)\n",
    "# i.\n",
    "glm.fit = glm(y ~ x)\n",
    "cv.glm(Data, glm.fit)$delta"
   ]
  },
  {
   "cell_type": "code",
   "execution_count": 27,
   "metadata": {},
   "outputs": [
    {
     "data": {
      "text/html": [
       "<ol class=list-inline>\n",
       "\t<li>1.0865955642745</li>\n",
       "\t<li>1.08632580328877</li>\n",
       "</ol>\n"
      ],
      "text/latex": [
       "\\begin{enumerate*}\n",
       "\\item 1.0865955642745\n",
       "\\item 1.08632580328877\n",
       "\\end{enumerate*}\n"
      ],
      "text/markdown": [
       "1. 1.0865955642745\n",
       "2. 1.08632580328877\n",
       "\n",
       "\n"
      ],
      "text/plain": [
       "[1] 1.086596 1.086326"
      ]
     },
     "metadata": {},
     "output_type": "display_data"
    }
   ],
   "source": [
    "# ii.\n",
    "glm.fit = glm(y ~ poly(x, 2))\n",
    "cv.glm(Data, glm.fit)$delta"
   ]
  },
  {
   "cell_type": "code",
   "execution_count": 28,
   "metadata": {},
   "outputs": [
    {
     "data": {
      "text/html": [
       "<ol class=list-inline>\n",
       "\t<li>1.10258509387339</li>\n",
       "\t<li>1.10222658385953</li>\n",
       "</ol>\n"
      ],
      "text/latex": [
       "\\begin{enumerate*}\n",
       "\\item 1.10258509387339\n",
       "\\item 1.10222658385953\n",
       "\\end{enumerate*}\n"
      ],
      "text/markdown": [
       "1. 1.10258509387339\n",
       "2. 1.10222658385953\n",
       "\n",
       "\n"
      ],
      "text/plain": [
       "[1] 1.102585 1.102227"
      ]
     },
     "metadata": {},
     "output_type": "display_data"
    }
   ],
   "source": [
    "# iii.\n",
    "glm.fit = glm(y ~ poly(x, 3))\n",
    "cv.glm(Data, glm.fit)$delta"
   ]
  },
  {
   "cell_type": "code",
   "execution_count": 29,
   "metadata": {},
   "outputs": [
    {
     "data": {
      "text/html": [
       "<ol class=list-inline>\n",
       "\t<li>1.11477226814507</li>\n",
       "\t<li>1.11433406148513</li>\n",
       "</ol>\n"
      ],
      "text/latex": [
       "\\begin{enumerate*}\n",
       "\\item 1.11477226814507\n",
       "\\item 1.11433406148513\n",
       "\\end{enumerate*}\n"
      ],
      "text/markdown": [
       "1. 1.11477226814507\n",
       "2. 1.11433406148513\n",
       "\n",
       "\n"
      ],
      "text/plain": [
       "[1] 1.114772 1.114334"
      ]
     },
     "metadata": {},
     "output_type": "display_data"
    }
   ],
   "source": [
    "# iv.\n",
    "glm.fit = glm(y ~ poly(x, 4))\n",
    "cv.glm(Data, glm.fit)$delta"
   ]
  },
  {
   "cell_type": "code",
   "execution_count": 30,
   "metadata": {},
   "outputs": [
    {
     "data": {
      "text/html": [
       "<ol class=list-inline>\n",
       "\t<li>5.89097855988842</li>\n",
       "\t<li>5.88881215196093</li>\n",
       "</ol>\n"
      ],
      "text/latex": [
       "\\begin{enumerate*}\n",
       "\\item 5.89097855988842\n",
       "\\item 5.88881215196093\n",
       "\\end{enumerate*}\n"
      ],
      "text/markdown": [
       "1. 5.89097855988842\n",
       "2. 5.88881215196093\n",
       "\n",
       "\n"
      ],
      "text/plain": [
       "[1] 5.890979 5.888812"
      ]
     },
     "metadata": {},
     "output_type": "display_data"
    }
   ],
   "source": [
    "# d\n",
    "set.seed(10)\n",
    "# i.\n",
    "glm.fit = glm(y ~ x)\n",
    "cv.glm(Data, glm.fit)$delta"
   ]
  },
  {
   "cell_type": "code",
   "execution_count": 31,
   "metadata": {},
   "outputs": [
    {
     "data": {
      "text/html": [
       "<ol class=list-inline>\n",
       "\t<li>1.0865955642745</li>\n",
       "\t<li>1.08632580328877</li>\n",
       "</ol>\n"
      ],
      "text/latex": [
       "\\begin{enumerate*}\n",
       "\\item 1.0865955642745\n",
       "\\item 1.08632580328877\n",
       "\\end{enumerate*}\n"
      ],
      "text/markdown": [
       "1. 1.0865955642745\n",
       "2. 1.08632580328877\n",
       "\n",
       "\n"
      ],
      "text/plain": [
       "[1] 1.086596 1.086326"
      ]
     },
     "metadata": {},
     "output_type": "display_data"
    }
   ],
   "source": [
    "# ii.\n",
    "glm.fit = glm(y ~ poly(x, 2))\n",
    "cv.glm(Data, glm.fit)$delta"
   ]
  },
  {
   "cell_type": "code",
   "execution_count": 32,
   "metadata": {},
   "outputs": [
    {
     "data": {
      "text/html": [
       "<ol class=list-inline>\n",
       "\t<li>1.10258509387339</li>\n",
       "\t<li>1.10222658385953</li>\n",
       "</ol>\n"
      ],
      "text/latex": [
       "\\begin{enumerate*}\n",
       "\\item 1.10258509387339\n",
       "\\item 1.10222658385953\n",
       "\\end{enumerate*}\n"
      ],
      "text/markdown": [
       "1. 1.10258509387339\n",
       "2. 1.10222658385953\n",
       "\n",
       "\n"
      ],
      "text/plain": [
       "[1] 1.102585 1.102227"
      ]
     },
     "metadata": {},
     "output_type": "display_data"
    }
   ],
   "source": [
    "# iii.\n",
    "glm.fit = glm(y ~ poly(x, 3))\n",
    "cv.glm(Data, glm.fit)$delta"
   ]
  },
  {
   "cell_type": "code",
   "execution_count": 33,
   "metadata": {},
   "outputs": [
    {
     "data": {
      "text/html": [
       "<ol class=list-inline>\n",
       "\t<li>1.11477226814507</li>\n",
       "\t<li>1.11433406148513</li>\n",
       "</ol>\n"
      ],
      "text/latex": [
       "\\begin{enumerate*}\n",
       "\\item 1.11477226814507\n",
       "\\item 1.11433406148513\n",
       "\\end{enumerate*}\n"
      ],
      "text/markdown": [
       "1. 1.11477226814507\n",
       "2. 1.11433406148513\n",
       "\n",
       "\n"
      ],
      "text/plain": [
       "[1] 1.114772 1.114334"
      ]
     },
     "metadata": {},
     "output_type": "display_data"
    }
   ],
   "source": [
    "# iv.\n",
    "glm.fit = glm(y ~ poly(x, 4))\n",
    "cv.glm(Data, glm.fit)$delta"
   ]
  },
  {
   "cell_type": "code",
   "execution_count": 34,
   "metadata": {},
   "outputs": [],
   "source": [
    "# Exact same, because LOOCV will be the same since it evaluates n folds of a single observation."
   ]
  },
  {
   "cell_type": "code",
   "execution_count": 35,
   "metadata": {},
   "outputs": [],
   "source": [
    "# e\n",
    "# The quadratic polynomial had the lowest LOOCV test error rate. This was expected because it matches the true form of Y\n"
   ]
  },
  {
   "cell_type": "code",
   "execution_count": 37,
   "metadata": {},
   "outputs": [
    {
     "data": {
      "text/plain": [
       "\n",
       "Call:\n",
       "glm(formula = y ~ poly(x, 4))\n",
       "\n",
       "Deviance Residuals: \n",
       "    Min       1Q   Median       3Q      Max  \n",
       "-2.8914  -0.5244   0.0749   0.5932   2.7796  \n",
       "\n",
       "Coefficients:\n",
       "            Estimate Std. Error t value Pr(>|t|)    \n",
       "(Intercept)  -1.8277     0.1041 -17.549   <2e-16 ***\n",
       "poly(x, 4)1   2.3164     1.0415   2.224   0.0285 *  \n",
       "poly(x, 4)2 -21.0586     1.0415 -20.220   <2e-16 ***\n",
       "poly(x, 4)3  -0.3048     1.0415  -0.293   0.7704    \n",
       "poly(x, 4)4  -0.4926     1.0415  -0.473   0.6373    \n",
       "---\n",
       "Signif. codes:  0 ‘***’ 0.001 ‘**’ 0.01 ‘*’ 0.05 ‘.’ 0.1 ‘ ’ 1\n",
       "\n",
       "(Dispersion parameter for gaussian family taken to be 1.084654)\n",
       "\n",
       "    Null deviance: 552.21  on 99  degrees of freedom\n",
       "Residual deviance: 103.04  on 95  degrees of freedom\n",
       "AIC: 298.78\n",
       "\n",
       "Number of Fisher Scoring iterations: 2\n"
      ]
     },
     "metadata": {},
     "output_type": "display_data"
    }
   ],
   "source": [
    "#f \n",
    "summary(glm.fit)\n",
    "\n",
    "# p-values show statistical significance of linear and quadratic terms, which agrees with the CV results."
   ]
  },
  {
   "cell_type": "code",
   "execution_count": 38,
   "metadata": {},
   "outputs": [
    {
     "data": {
      "text/html": [
       "<table>\n",
       "<thead><tr><th scope=col>1</th><th scope=col>2</th><th scope=col>3</th><th scope=col>4</th></tr></thead>\n",
       "<tbody>\n",
       "\t<tr><td>-6.112394e-02</td><td>-0.02836730  </td><td> 0.087665421 </td><td>-0.046434867 </td></tr>\n",
       "\t<tr><td> 8.385880e-03</td><td>-0.08297878  </td><td> 0.002724365 </td><td> 0.085308416 </td></tr>\n",
       "\t<tr><td>-9.160991e-02</td><td> 0.02012996  </td><td> 0.079015266 </td><td>-0.111004395 </td></tr>\n",
       "\t<tr><td> 2.054784e-02</td><td>-0.08453630  </td><td>-0.019251139 </td><td> 0.089971975 </td></tr>\n",
       "\t<tr><td>-6.471420e-02</td><td>-0.02343339  </td><td> 0.088597726 </td><td>-0.055232669 </td></tr>\n",
       "\t<tr><td> 1.893965e-01</td><td> 0.13992855  </td><td>-0.004158406 </td><td>-0.150776981 </td></tr>\n",
       "\t<tr><td> 7.916622e-02</td><td>-0.05863638  </td><td>-0.113902630 </td><td> 0.014518174 </td></tr>\n",
       "\t<tr><td> 9.946538e-02</td><td>-0.03676884  </td><td>-0.132057392 </td><td>-0.039777592 </td></tr>\n",
       "\t<tr><td> 4.427692e-02</td><td>-0.08071782  </td><td>-0.061906713 </td><td> 0.078050306 </td></tr>\n",
       "\t<tr><td> 1.804663e-01</td><td> 0.11655830  </td><td>-0.037219276 </td><td>-0.169981299 </td></tr>\n",
       "\t<tr><td>-6.273659e-02</td><td>-0.02617680  </td><td> 0.088142140 </td><td>-0.050403469 </td></tr>\n",
       "\t<tr><td>-4.447032e-02</td><td>-0.04853900  </td><td> 0.077648097 </td><td>-0.005165615 </td></tr>\n",
       "\t<tr><td> 1.542466e-01</td><td> 0.05536184  </td><td>-0.104793079 </td><td>-0.171125016 </td></tr>\n",
       "\t<tr><td>-6.430623e-02</td><td>-0.02400450  </td><td> 0.088515521 </td><td>-0.054240280 </td></tr>\n",
       "\t<tr><td>-1.779211e-02</td><td>-0.07154504  </td><td> 0.045899573 </td><td> 0.052423680 </td></tr>\n",
       "\t<tr><td>-3.724774e-02</td><td>-0.05589885  </td><td> 0.070725195 </td><td> 0.012027323 </td></tr>\n",
       "\t<tr><td>-2.960774e-02</td><td>-0.06276977  </td><td> 0.061956352 </td><td> 0.029118861 </td></tr>\n",
       "\t<tr><td>-2.531853e-02</td><td>-0.06621523  </td><td> 0.056450855 </td><td> 0.038070592 </td></tr>\n",
       "\t<tr><td> 5.581879e-02</td><td>-0.07558270  </td><td>-0.081189518 </td><td> 0.062513186 </td></tr>\n",
       "\t<tr><td>-1.463914e-02</td><td>-0.07350670  </td><td> 0.041177683 </td><td> 0.057862053 </td></tr>\n",
       "\t<tr><td>-4.911975e-02</td><td>-0.04335676  </td><td> 0.081325944 </td><td>-0.016584092 </td></tr>\n",
       "\t<tr><td> 1.448829e-01</td><td> 0.03618981  </td><td>-0.119305984 </td><td>-0.156906242 </td></tr>\n",
       "\t<tr><td>-1.854742e-02</td><td>-0.07105135  </td><td> 0.047005675 </td><td> 0.051068239 </td></tr>\n",
       "\t<tr><td>-1.487271e-02</td><td>-0.07336687  </td><td> 0.041533077 </td><td> 0.057471626 </td></tr>\n",
       "\t<tr><td>-6.545392e-03</td><td>-0.07780937  </td><td> 0.028361074 </td><td> 0.070086290 </td></tr>\n",
       "\t<tr><td> 7.874221e-02</td><td>-0.05902240  </td><td>-0.113407203 </td><td> 0.015554561 </td></tr>\n",
       "\t<tr><td>-3.751670e-03</td><td>-0.07904962  </td><td> 0.023734864 </td><td> 0.073685662 </td></tr>\n",
       "\t<tr><td> 1.824669e-05</td><td>-0.08052401  </td><td> 0.017353105 </td><td> 0.078008515 </td></tr>\n",
       "\t<tr><td>-6.755508e-02</td><td>-0.01938221  </td><td> 0.088997236 </td><td>-0.062077304 </td></tr>\n",
       "\t<tr><td>-3.005654e-02</td><td>-0.06239213  </td><td> 0.062509283 </td><td> 0.028153245 </td></tr>\n",
       "\t<tr><td>...</td><td>...</td><td>...</td><td>...</td></tr>\n",
       "\t<tr><td> 0.2461275321</td><td> 0.318387182 </td><td> 0.349183372 </td><td> 0.339927324 </td></tr>\n",
       "\t<tr><td> 0.0150680740</td><td>-0.084129365 </td><td>-0.009283911 </td><td> 0.088763859 </td></tr>\n",
       "\t<tr><td> 0.0519167443</td><td>-0.077558797 </td><td>-0.074843550 </td><td> 0.068438124 </td></tr>\n",
       "\t<tr><td>-0.0041281903</td><td>-0.078889798 </td><td> 0.024363736 </td><td> 0.073219926 </td></tr>\n",
       "\t<tr><td>-0.0310775065</td><td>-0.061520977 </td><td> 0.063750202 </td><td> 0.025937365 </td></tr>\n",
       "\t<tr><td> 0.0003233785</td><td>-0.080633334 </td><td> 0.016830189 </td><td> 0.078330935 </td></tr>\n",
       "\t<tr><td> 0.0866086505</td><td>-0.051389356 </td><td>-0.121877273 </td><td>-0.004439428 </td></tr>\n",
       "\t<tr><td> 0.2217083893</td><td> 0.235218948 </td><td> 0.164444487 </td><td> 0.035385382 </td></tr>\n",
       "\t<tr><td> 0.1117642960</td><td>-0.020291555 </td><td>-0.136822776 </td><td>-0.074895460 </td></tr>\n",
       "\t<tr><td> 0.1307046165</td><td> 0.009847513 </td><td>-0.132813949 </td><td>-0.126086689 </td></tr>\n",
       "\t<tr><td>-0.1252275045</td><td> 0.090960596 </td><td> 0.016754155 </td><td>-0.118434204 </td></tr>\n",
       "\t<tr><td> 0.1072004633</td><td>-0.026690119 </td><td>-0.135673069 </td><td>-0.061853842 </td></tr>\n",
       "\t<tr><td> 0.0270421705</td><td>-0.084392453 </td><td>-0.031101411 </td><td> 0.089476636 </td></tr>\n",
       "\t<tr><td>-0.1499816900</td><td> 0.154750793 </td><td>-0.073481824 </td><td>-0.037602533 </td></tr>\n",
       "\t<tr><td> 0.0586343437</td><td>-0.074004538 </td><td>-0.085639552 </td><td> 0.057830008 </td></tr>\n",
       "\t<tr><td>-0.0126901024</td><td>-0.074639247 </td><td> 0.038178529 </td><td> 0.061040236 </td></tr>\n",
       "\t<tr><td> 0.1576362014</td><td> 0.062649949 </td><td>-0.098361052 </td><td>-0.174709962 </td></tr>\n",
       "\t<tr><td>-0.0764128642</td><td>-0.005916385 </td><td> 0.088213156 </td><td>-0.082378359 </td></tr>\n",
       "\t<tr><td>-0.0411722677</td><td>-0.052003950 </td><td> 0.074662237 </td><td> 0.002785551 </td></tr>\n",
       "\t<tr><td>-0.0932034687</td><td> 0.023076612 </td><td> 0.077427696 </td><td>-0.113362684 </td></tr>\n",
       "\t<tr><td>-0.0146153764</td><td>-0.073520876 </td><td> 0.041141469 </td><td> 0.057901669 </td></tr>\n",
       "\t<tr><td> 0.0461473271</td><td>-0.080031306 </td><td>-0.065129268 </td><td> 0.075946617 </td></tr>\n",
       "\t<tr><td>-0.0728104477</td><td>-0.011545305 </td><td> 0.088913659 </td><td>-0.074349743 </td></tr>\n",
       "\t<tr><td> 0.0910923945</td><td>-0.046592778 </td><td>-0.125976369 </td><td>-0.016463131 </td></tr>\n",
       "\t<tr><td>-0.1227890216</td><td> 0.085210659 </td><td> 0.023460477 </td><td>-0.121653886 </td></tr>\n",
       "\t<tr><td>-0.1059909805</td><td> 0.048202727 </td><td> 0.060022882 </td><td>-0.126230496 </td></tr>\n",
       "\t<tr><td> 0.1551778911</td><td> 0.057345736 </td><td>-0.103090022 </td><td>-0.172200302 </td></tr>\n",
       "\t<tr><td>-0.1026190677</td><td> 0.041321642 </td><td> 0.065442368 </td><td>-0.123993822 </td></tr>\n",
       "\t<tr><td> 0.0471926703</td><td>-0.079623081 </td><td>-0.066915697 </td><td> 0.074699610 </td></tr>\n",
       "\t<tr><td>-0.0360167902</td><td>-0.057069407 </td><td> 0.069408128 </td><td> 0.014867856 </td></tr>\n",
       "</tbody>\n",
       "</table>\n"
      ],
      "text/latex": [
       "\\begin{tabular}{llll}\n",
       " 1 & 2 & 3 & 4\\\\\n",
       "\\hline\n",
       "\t -6.112394e-02 & -0.02836730   &  0.087665421  & -0.046434867 \\\\\n",
       "\t  8.385880e-03 & -0.08297878   &  0.002724365  &  0.085308416 \\\\\n",
       "\t -9.160991e-02 &  0.02012996   &  0.079015266  & -0.111004395 \\\\\n",
       "\t  2.054784e-02 & -0.08453630   & -0.019251139  &  0.089971975 \\\\\n",
       "\t -6.471420e-02 & -0.02343339   &  0.088597726  & -0.055232669 \\\\\n",
       "\t  1.893965e-01 &  0.13992855   & -0.004158406  & -0.150776981 \\\\\n",
       "\t  7.916622e-02 & -0.05863638   & -0.113902630  &  0.014518174 \\\\\n",
       "\t  9.946538e-02 & -0.03676884   & -0.132057392  & -0.039777592 \\\\\n",
       "\t  4.427692e-02 & -0.08071782   & -0.061906713  &  0.078050306 \\\\\n",
       "\t  1.804663e-01 &  0.11655830   & -0.037219276  & -0.169981299 \\\\\n",
       "\t -6.273659e-02 & -0.02617680   &  0.088142140  & -0.050403469 \\\\\n",
       "\t -4.447032e-02 & -0.04853900   &  0.077648097  & -0.005165615 \\\\\n",
       "\t  1.542466e-01 &  0.05536184   & -0.104793079  & -0.171125016 \\\\\n",
       "\t -6.430623e-02 & -0.02400450   &  0.088515521  & -0.054240280 \\\\\n",
       "\t -1.779211e-02 & -0.07154504   &  0.045899573  &  0.052423680 \\\\\n",
       "\t -3.724774e-02 & -0.05589885   &  0.070725195  &  0.012027323 \\\\\n",
       "\t -2.960774e-02 & -0.06276977   &  0.061956352  &  0.029118861 \\\\\n",
       "\t -2.531853e-02 & -0.06621523   &  0.056450855  &  0.038070592 \\\\\n",
       "\t  5.581879e-02 & -0.07558270   & -0.081189518  &  0.062513186 \\\\\n",
       "\t -1.463914e-02 & -0.07350670   &  0.041177683  &  0.057862053 \\\\\n",
       "\t -4.911975e-02 & -0.04335676   &  0.081325944  & -0.016584092 \\\\\n",
       "\t  1.448829e-01 &  0.03618981   & -0.119305984  & -0.156906242 \\\\\n",
       "\t -1.854742e-02 & -0.07105135   &  0.047005675  &  0.051068239 \\\\\n",
       "\t -1.487271e-02 & -0.07336687   &  0.041533077  &  0.057471626 \\\\\n",
       "\t -6.545392e-03 & -0.07780937   &  0.028361074  &  0.070086290 \\\\\n",
       "\t  7.874221e-02 & -0.05902240   & -0.113407203  &  0.015554561 \\\\\n",
       "\t -3.751670e-03 & -0.07904962   &  0.023734864  &  0.073685662 \\\\\n",
       "\t  1.824669e-05 & -0.08052401   &  0.017353105  &  0.078008515 \\\\\n",
       "\t -6.755508e-02 & -0.01938221   &  0.088997236  & -0.062077304 \\\\\n",
       "\t -3.005654e-02 & -0.06239213   &  0.062509283  &  0.028153245 \\\\\n",
       "\t ... & ... & ... & ...\\\\\n",
       "\t  0.2461275321 &  0.318387182  &  0.349183372  &  0.339927324 \\\\\n",
       "\t  0.0150680740 & -0.084129365  & -0.009283911  &  0.088763859 \\\\\n",
       "\t  0.0519167443 & -0.077558797  & -0.074843550  &  0.068438124 \\\\\n",
       "\t -0.0041281903 & -0.078889798  &  0.024363736  &  0.073219926 \\\\\n",
       "\t -0.0310775065 & -0.061520977  &  0.063750202  &  0.025937365 \\\\\n",
       "\t  0.0003233785 & -0.080633334  &  0.016830189  &  0.078330935 \\\\\n",
       "\t  0.0866086505 & -0.051389356  & -0.121877273  & -0.004439428 \\\\\n",
       "\t  0.2217083893 &  0.235218948  &  0.164444487  &  0.035385382 \\\\\n",
       "\t  0.1117642960 & -0.020291555  & -0.136822776  & -0.074895460 \\\\\n",
       "\t  0.1307046165 &  0.009847513  & -0.132813949  & -0.126086689 \\\\\n",
       "\t -0.1252275045 &  0.090960596  &  0.016754155  & -0.118434204 \\\\\n",
       "\t  0.1072004633 & -0.026690119  & -0.135673069  & -0.061853842 \\\\\n",
       "\t  0.0270421705 & -0.084392453  & -0.031101411  &  0.089476636 \\\\\n",
       "\t -0.1499816900 &  0.154750793  & -0.073481824  & -0.037602533 \\\\\n",
       "\t  0.0586343437 & -0.074004538  & -0.085639552  &  0.057830008 \\\\\n",
       "\t -0.0126901024 & -0.074639247  &  0.038178529  &  0.061040236 \\\\\n",
       "\t  0.1576362014 &  0.062649949  & -0.098361052  & -0.174709962 \\\\\n",
       "\t -0.0764128642 & -0.005916385  &  0.088213156  & -0.082378359 \\\\\n",
       "\t -0.0411722677 & -0.052003950  &  0.074662237  &  0.002785551 \\\\\n",
       "\t -0.0932034687 &  0.023076612  &  0.077427696  & -0.113362684 \\\\\n",
       "\t -0.0146153764 & -0.073520876  &  0.041141469  &  0.057901669 \\\\\n",
       "\t  0.0461473271 & -0.080031306  & -0.065129268  &  0.075946617 \\\\\n",
       "\t -0.0728104477 & -0.011545305  &  0.088913659  & -0.074349743 \\\\\n",
       "\t  0.0910923945 & -0.046592778  & -0.125976369  & -0.016463131 \\\\\n",
       "\t -0.1227890216 &  0.085210659  &  0.023460477  & -0.121653886 \\\\\n",
       "\t -0.1059909805 &  0.048202727  &  0.060022882  & -0.126230496 \\\\\n",
       "\t  0.1551778911 &  0.057345736  & -0.103090022  & -0.172200302 \\\\\n",
       "\t -0.1026190677 &  0.041321642  &  0.065442368  & -0.123993822 \\\\\n",
       "\t  0.0471926703 & -0.079623081  & -0.066915697  &  0.074699610 \\\\\n",
       "\t -0.0360167902 & -0.057069407  &  0.069408128  &  0.014867856 \\\\\n",
       "\\end{tabular}\n"
      ],
      "text/markdown": [
       "\n",
       "| 1 | 2 | 3 | 4 |\n",
       "|---|---|---|---|\n",
       "| -6.112394e-02 | -0.02836730   |  0.087665421  | -0.046434867  |\n",
       "|  8.385880e-03 | -0.08297878   |  0.002724365  |  0.085308416  |\n",
       "| -9.160991e-02 |  0.02012996   |  0.079015266  | -0.111004395  |\n",
       "|  2.054784e-02 | -0.08453630   | -0.019251139  |  0.089971975  |\n",
       "| -6.471420e-02 | -0.02343339   |  0.088597726  | -0.055232669  |\n",
       "|  1.893965e-01 |  0.13992855   | -0.004158406  | -0.150776981  |\n",
       "|  7.916622e-02 | -0.05863638   | -0.113902630  |  0.014518174  |\n",
       "|  9.946538e-02 | -0.03676884   | -0.132057392  | -0.039777592  |\n",
       "|  4.427692e-02 | -0.08071782   | -0.061906713  |  0.078050306  |\n",
       "|  1.804663e-01 |  0.11655830   | -0.037219276  | -0.169981299  |\n",
       "| -6.273659e-02 | -0.02617680   |  0.088142140  | -0.050403469  |\n",
       "| -4.447032e-02 | -0.04853900   |  0.077648097  | -0.005165615  |\n",
       "|  1.542466e-01 |  0.05536184   | -0.104793079  | -0.171125016  |\n",
       "| -6.430623e-02 | -0.02400450   |  0.088515521  | -0.054240280  |\n",
       "| -1.779211e-02 | -0.07154504   |  0.045899573  |  0.052423680  |\n",
       "| -3.724774e-02 | -0.05589885   |  0.070725195  |  0.012027323  |\n",
       "| -2.960774e-02 | -0.06276977   |  0.061956352  |  0.029118861  |\n",
       "| -2.531853e-02 | -0.06621523   |  0.056450855  |  0.038070592  |\n",
       "|  5.581879e-02 | -0.07558270   | -0.081189518  |  0.062513186  |\n",
       "| -1.463914e-02 | -0.07350670   |  0.041177683  |  0.057862053  |\n",
       "| -4.911975e-02 | -0.04335676   |  0.081325944  | -0.016584092  |\n",
       "|  1.448829e-01 |  0.03618981   | -0.119305984  | -0.156906242  |\n",
       "| -1.854742e-02 | -0.07105135   |  0.047005675  |  0.051068239  |\n",
       "| -1.487271e-02 | -0.07336687   |  0.041533077  |  0.057471626  |\n",
       "| -6.545392e-03 | -0.07780937   |  0.028361074  |  0.070086290  |\n",
       "|  7.874221e-02 | -0.05902240   | -0.113407203  |  0.015554561  |\n",
       "| -3.751670e-03 | -0.07904962   |  0.023734864  |  0.073685662  |\n",
       "|  1.824669e-05 | -0.08052401   |  0.017353105  |  0.078008515  |\n",
       "| -6.755508e-02 | -0.01938221   |  0.088997236  | -0.062077304  |\n",
       "| -3.005654e-02 | -0.06239213   |  0.062509283  |  0.028153245  |\n",
       "| ... | ... | ... | ... |\n",
       "|  0.2461275321 |  0.318387182  |  0.349183372  |  0.339927324  |\n",
       "|  0.0150680740 | -0.084129365  | -0.009283911  |  0.088763859  |\n",
       "|  0.0519167443 | -0.077558797  | -0.074843550  |  0.068438124  |\n",
       "| -0.0041281903 | -0.078889798  |  0.024363736  |  0.073219926  |\n",
       "| -0.0310775065 | -0.061520977  |  0.063750202  |  0.025937365  |\n",
       "|  0.0003233785 | -0.080633334  |  0.016830189  |  0.078330935  |\n",
       "|  0.0866086505 | -0.051389356  | -0.121877273  | -0.004439428  |\n",
       "|  0.2217083893 |  0.235218948  |  0.164444487  |  0.035385382  |\n",
       "|  0.1117642960 | -0.020291555  | -0.136822776  | -0.074895460  |\n",
       "|  0.1307046165 |  0.009847513  | -0.132813949  | -0.126086689  |\n",
       "| -0.1252275045 |  0.090960596  |  0.016754155  | -0.118434204  |\n",
       "|  0.1072004633 | -0.026690119  | -0.135673069  | -0.061853842  |\n",
       "|  0.0270421705 | -0.084392453  | -0.031101411  |  0.089476636  |\n",
       "| -0.1499816900 |  0.154750793  | -0.073481824  | -0.037602533  |\n",
       "|  0.0586343437 | -0.074004538  | -0.085639552  |  0.057830008  |\n",
       "| -0.0126901024 | -0.074639247  |  0.038178529  |  0.061040236  |\n",
       "|  0.1576362014 |  0.062649949  | -0.098361052  | -0.174709962  |\n",
       "| -0.0764128642 | -0.005916385  |  0.088213156  | -0.082378359  |\n",
       "| -0.0411722677 | -0.052003950  |  0.074662237  |  0.002785551  |\n",
       "| -0.0932034687 |  0.023076612  |  0.077427696  | -0.113362684  |\n",
       "| -0.0146153764 | -0.073520876  |  0.041141469  |  0.057901669  |\n",
       "|  0.0461473271 | -0.080031306  | -0.065129268  |  0.075946617  |\n",
       "| -0.0728104477 | -0.011545305  |  0.088913659  | -0.074349743  |\n",
       "|  0.0910923945 | -0.046592778  | -0.125976369  | -0.016463131  |\n",
       "| -0.1227890216 |  0.085210659  |  0.023460477  | -0.121653886  |\n",
       "| -0.1059909805 |  0.048202727  |  0.060022882  | -0.126230496  |\n",
       "|  0.1551778911 |  0.057345736  | -0.103090022  | -0.172200302  |\n",
       "| -0.1026190677 |  0.041321642  |  0.065442368  | -0.123993822  |\n",
       "|  0.0471926703 | -0.079623081  | -0.066915697  |  0.074699610  |\n",
       "| -0.0360167902 | -0.057069407  |  0.069408128  |  0.014867856  |\n",
       "\n"
      ],
      "text/plain": [
       "      1             2            3            4           \n",
       " [1,] -6.112394e-02 -0.02836730   0.087665421 -0.046434867\n",
       " [2,]  8.385880e-03 -0.08297878   0.002724365  0.085308416\n",
       " [3,] -9.160991e-02  0.02012996   0.079015266 -0.111004395\n",
       " [4,]  2.054784e-02 -0.08453630  -0.019251139  0.089971975\n",
       " [5,] -6.471420e-02 -0.02343339   0.088597726 -0.055232669\n",
       " [6,]  1.893965e-01  0.13992855  -0.004158406 -0.150776981\n",
       " [7,]  7.916622e-02 -0.05863638  -0.113902630  0.014518174\n",
       " [8,]  9.946538e-02 -0.03676884  -0.132057392 -0.039777592\n",
       " [9,]  4.427692e-02 -0.08071782  -0.061906713  0.078050306\n",
       "[10,]  1.804663e-01  0.11655830  -0.037219276 -0.169981299\n",
       "[11,] -6.273659e-02 -0.02617680   0.088142140 -0.050403469\n",
       "[12,] -4.447032e-02 -0.04853900   0.077648097 -0.005165615\n",
       "[13,]  1.542466e-01  0.05536184  -0.104793079 -0.171125016\n",
       "[14,] -6.430623e-02 -0.02400450   0.088515521 -0.054240280\n",
       "[15,] -1.779211e-02 -0.07154504   0.045899573  0.052423680\n",
       "[16,] -3.724774e-02 -0.05589885   0.070725195  0.012027323\n",
       "[17,] -2.960774e-02 -0.06276977   0.061956352  0.029118861\n",
       "[18,] -2.531853e-02 -0.06621523   0.056450855  0.038070592\n",
       "[19,]  5.581879e-02 -0.07558270  -0.081189518  0.062513186\n",
       "[20,] -1.463914e-02 -0.07350670   0.041177683  0.057862053\n",
       "[21,] -4.911975e-02 -0.04335676   0.081325944 -0.016584092\n",
       "[22,]  1.448829e-01  0.03618981  -0.119305984 -0.156906242\n",
       "[23,] -1.854742e-02 -0.07105135   0.047005675  0.051068239\n",
       "[24,] -1.487271e-02 -0.07336687   0.041533077  0.057471626\n",
       "[25,] -6.545392e-03 -0.07780937   0.028361074  0.070086290\n",
       "[26,]  7.874221e-02 -0.05902240  -0.113407203  0.015554561\n",
       "[27,] -3.751670e-03 -0.07904962   0.023734864  0.073685662\n",
       "[28,]  1.824669e-05 -0.08052401   0.017353105  0.078008515\n",
       "[29,] -6.755508e-02 -0.01938221   0.088997236 -0.062077304\n",
       "[30,] -3.005654e-02 -0.06239213   0.062509283  0.028153245\n",
       "[31,] ...           ...          ...          ...         \n",
       "[32,]  0.2461275321  0.318387182  0.349183372  0.339927324\n",
       "[33,]  0.0150680740 -0.084129365 -0.009283911  0.088763859\n",
       "[34,]  0.0519167443 -0.077558797 -0.074843550  0.068438124\n",
       "[35,] -0.0041281903 -0.078889798  0.024363736  0.073219926\n",
       "[36,] -0.0310775065 -0.061520977  0.063750202  0.025937365\n",
       "[37,]  0.0003233785 -0.080633334  0.016830189  0.078330935\n",
       "[38,]  0.0866086505 -0.051389356 -0.121877273 -0.004439428\n",
       "[39,]  0.2217083893  0.235218948  0.164444487  0.035385382\n",
       "[40,]  0.1117642960 -0.020291555 -0.136822776 -0.074895460\n",
       "[41,]  0.1307046165  0.009847513 -0.132813949 -0.126086689\n",
       "[42,] -0.1252275045  0.090960596  0.016754155 -0.118434204\n",
       "[43,]  0.1072004633 -0.026690119 -0.135673069 -0.061853842\n",
       "[44,]  0.0270421705 -0.084392453 -0.031101411  0.089476636\n",
       "[45,] -0.1499816900  0.154750793 -0.073481824 -0.037602533\n",
       "[46,]  0.0586343437 -0.074004538 -0.085639552  0.057830008\n",
       "[47,] -0.0126901024 -0.074639247  0.038178529  0.061040236\n",
       "[48,]  0.1576362014  0.062649949 -0.098361052 -0.174709962\n",
       "[49,] -0.0764128642 -0.005916385  0.088213156 -0.082378359\n",
       "[50,] -0.0411722677 -0.052003950  0.074662237  0.002785551\n",
       "[51,] -0.0932034687  0.023076612  0.077427696 -0.113362684\n",
       "[52,] -0.0146153764 -0.073520876  0.041141469  0.057901669\n",
       "[53,]  0.0461473271 -0.080031306 -0.065129268  0.075946617\n",
       "[54,] -0.0728104477 -0.011545305  0.088913659 -0.074349743\n",
       "[55,]  0.0910923945 -0.046592778 -0.125976369 -0.016463131\n",
       "[56,] -0.1227890216  0.085210659  0.023460477 -0.121653886\n",
       "[57,] -0.1059909805  0.048202727  0.060022882 -0.126230496\n",
       "[58,]  0.1551778911  0.057345736 -0.103090022 -0.172200302\n",
       "[59,] -0.1026190677  0.041321642  0.065442368 -0.123993822\n",
       "[60,]  0.0471926703 -0.079623081 -0.066915697  0.074699610\n",
       "[61,] -0.0360167902 -0.057069407  0.069408128  0.014867856"
      ]
     },
     "metadata": {},
     "output_type": "display_data"
    }
   ],
   "source": [
    "poly(x, 4)"
   ]
  },
  {
   "cell_type": "code",
   "execution_count": 39,
   "metadata": {},
   "outputs": [
    {
     "data": {
      "text/plain": [
       "      crim                zn             indus            chas        \n",
       " Min.   : 0.00632   Min.   :  0.00   Min.   : 0.46   Min.   :0.00000  \n",
       " 1st Qu.: 0.08204   1st Qu.:  0.00   1st Qu.: 5.19   1st Qu.:0.00000  \n",
       " Median : 0.25651   Median :  0.00   Median : 9.69   Median :0.00000  \n",
       " Mean   : 3.61352   Mean   : 11.36   Mean   :11.14   Mean   :0.06917  \n",
       " 3rd Qu.: 3.67708   3rd Qu.: 12.50   3rd Qu.:18.10   3rd Qu.:0.00000  \n",
       " Max.   :88.97620   Max.   :100.00   Max.   :27.74   Max.   :1.00000  \n",
       "      nox               rm             age              dis        \n",
       " Min.   :0.3850   Min.   :3.561   Min.   :  2.90   Min.   : 1.130  \n",
       " 1st Qu.:0.4490   1st Qu.:5.886   1st Qu.: 45.02   1st Qu.: 2.100  \n",
       " Median :0.5380   Median :6.208   Median : 77.50   Median : 3.207  \n",
       " Mean   :0.5547   Mean   :6.285   Mean   : 68.57   Mean   : 3.795  \n",
       " 3rd Qu.:0.6240   3rd Qu.:6.623   3rd Qu.: 94.08   3rd Qu.: 5.188  \n",
       " Max.   :0.8710   Max.   :8.780   Max.   :100.00   Max.   :12.127  \n",
       "      rad              tax           ptratio          black       \n",
       " Min.   : 1.000   Min.   :187.0   Min.   :12.60   Min.   :  0.32  \n",
       " 1st Qu.: 4.000   1st Qu.:279.0   1st Qu.:17.40   1st Qu.:375.38  \n",
       " Median : 5.000   Median :330.0   Median :19.05   Median :391.44  \n",
       " Mean   : 9.549   Mean   :408.2   Mean   :18.46   Mean   :356.67  \n",
       " 3rd Qu.:24.000   3rd Qu.:666.0   3rd Qu.:20.20   3rd Qu.:396.23  \n",
       " Max.   :24.000   Max.   :711.0   Max.   :22.00   Max.   :396.90  \n",
       "     lstat            medv      \n",
       " Min.   : 1.73   Min.   : 5.00  \n",
       " 1st Qu.: 6.95   1st Qu.:17.02  \n",
       " Median :11.36   Median :21.20  \n",
       " Mean   :12.65   Mean   :22.53  \n",
       " 3rd Qu.:16.95   3rd Qu.:25.00  \n",
       " Max.   :37.97   Max.   :50.00  "
      ]
     },
     "metadata": {},
     "output_type": "display_data"
    }
   ],
   "source": [
    "# 9\n",
    "\n",
    "library(MASS)\n",
    "summary(Boston)"
   ]
  },
  {
   "cell_type": "code",
   "execution_count": 40,
   "metadata": {},
   "outputs": [],
   "source": [
    "set.seed(1)\n",
    "attach(Boston)"
   ]
  },
  {
   "cell_type": "code",
   "execution_count": 41,
   "metadata": {},
   "outputs": [
    {
     "data": {
      "text/html": [
       "22.5328063241107"
      ],
      "text/latex": [
       "22.5328063241107"
      ],
      "text/markdown": [
       "22.5328063241107"
      ],
      "text/plain": [
       "[1] 22.53281"
      ]
     },
     "metadata": {},
     "output_type": "display_data"
    }
   ],
   "source": [
    "# a\n",
    "medv.mean = mean(medv)\n",
    "medv.mean"
   ]
  },
  {
   "cell_type": "code",
   "execution_count": 42,
   "metadata": {},
   "outputs": [
    {
     "data": {
      "text/html": [
       "0.408861147497535"
      ],
      "text/latex": [
       "0.408861147497535"
      ],
      "text/markdown": [
       "0.408861147497535"
      ],
      "text/plain": [
       "[1] 0.4088611"
      ]
     },
     "metadata": {},
     "output_type": "display_data"
    }
   ],
   "source": [
    "# b \n",
    "medv.err = sd(medv)/sqrt(length(medv))\n",
    "medv.err\n"
   ]
  },
  {
   "cell_type": "code",
   "execution_count": 43,
   "metadata": {},
   "outputs": [
    {
     "data": {
      "text/plain": [
       "\n",
       "ORDINARY NONPARAMETRIC BOOTSTRAP\n",
       "\n",
       "\n",
       "Call:\n",
       "boot(data = medv, statistic = boot.fn, R = 1000)\n",
       "\n",
       "\n",
       "Bootstrap Statistics :\n",
       "    original      bias    std. error\n",
       "t1* 22.53281 0.007650791   0.4106622"
      ]
     },
     "metadata": {},
     "output_type": "display_data"
    }
   ],
   "source": [
    "# c\n",
    "boot.fn = function(data, index) return(mean(data[index]))\n",
    "library(boot)\n",
    "bstrap = boot(medv, boot.fn, 1000)\n",
    "bstrap"
   ]
  },
  {
   "cell_type": "code",
   "execution_count": 44,
   "metadata": {},
   "outputs": [],
   "source": [
    "# Similar to answer from (b) up to two significant digits. (0.4119 vs 0.4089)"
   ]
  },
  {
   "cell_type": "code",
   "execution_count": 45,
   "metadata": {},
   "outputs": [
    {
     "data": {
      "text/plain": [
       "\n",
       "\tOne Sample t-test\n",
       "\n",
       "data:  medv\n",
       "t = 55.111, df = 505, p-value < 2.2e-16\n",
       "alternative hypothesis: true mean is not equal to 0\n",
       "95 percent confidence interval:\n",
       " 21.72953 23.33608\n",
       "sample estimates:\n",
       "mean of x \n",
       " 22.53281 \n"
      ]
     },
     "metadata": {},
     "output_type": "display_data"
    }
   ],
   "source": [
    "#d \n",
    "t.test(medv)"
   ]
  },
  {
   "cell_type": "code",
   "execution_count": 46,
   "metadata": {},
   "outputs": [
    {
     "data": {
      "text/html": [
       "<ol class=list-inline>\n",
       "\t<li>21.7090063241107</li>\n",
       "\t<li>23.3566063241107</li>\n",
       "</ol>\n"
      ],
      "text/latex": [
       "\\begin{enumerate*}\n",
       "\\item 21.7090063241107\n",
       "\\item 23.3566063241107\n",
       "\\end{enumerate*}\n"
      ],
      "text/markdown": [
       "1. 21.7090063241107\n",
       "2. 23.3566063241107\n",
       "\n",
       "\n"
      ],
      "text/plain": [
       "[1] 21.70901 23.35661"
      ]
     },
     "metadata": {},
     "output_type": "display_data"
    }
   ],
   "source": [
    "c(bstrap$t0 - 2 * 0.4119, bstrap$t0 + 2 * 0.4119)"
   ]
  },
  {
   "cell_type": "code",
   "execution_count": 47,
   "metadata": {},
   "outputs": [],
   "source": [
    "# Bootstrap estimate only 0.02 away for t.test estimate."
   ]
  },
  {
   "cell_type": "code",
   "execution_count": 48,
   "metadata": {},
   "outputs": [
    {
     "data": {
      "text/html": [
       "21.2"
      ],
      "text/latex": [
       "21.2"
      ],
      "text/markdown": [
       "21.2"
      ],
      "text/plain": [
       "[1] 21.2"
      ]
     },
     "metadata": {},
     "output_type": "display_data"
    }
   ],
   "source": [
    "# e\n",
    "\n",
    "medv.med = median(medv)\n",
    "medv.med"
   ]
  },
  {
   "cell_type": "code",
   "execution_count": 49,
   "metadata": {},
   "outputs": [
    {
     "data": {
      "text/html": [
       "<strong>10%:</strong> 12.75"
      ],
      "text/latex": [
       "\\textbf{10\\textbackslash{}\\%:} 12.75"
      ],
      "text/markdown": [
       "**10%:** 12.75"
      ],
      "text/plain": [
       "  10% \n",
       "12.75 "
      ]
     },
     "metadata": {},
     "output_type": "display_data"
    }
   ],
   "source": [
    "# g \n",
    "medv.tenth = quantile(medv, c(0.1))\n",
    "medv.tenth"
   ]
  },
  {
   "cell_type": "code",
   "execution_count": 50,
   "metadata": {},
   "outputs": [
    {
     "data": {
      "text/plain": [
       "\n",
       "ORDINARY NONPARAMETRIC BOOTSTRAP\n",
       "\n",
       "\n",
       "Call:\n",
       "boot(data = medv, statistic = boot.fn, R = 1000)\n",
       "\n",
       "\n",
       "Bootstrap Statistics :\n",
       "    original  bias    std. error\n",
       "t1*    12.75 0.01455   0.4823468"
      ]
     },
     "metadata": {},
     "output_type": "display_data"
    }
   ],
   "source": [
    "#h \n",
    "boot.fn = function(data, index) return(quantile(data[index], c(0.1)))\n",
    "boot(medv, boot.fn, 1000)\n"
   ]
  },
  {
   "cell_type": "code",
   "execution_count": null,
   "metadata": {},
   "outputs": [],
   "source": []
  }
 ],
 "metadata": {
  "kernelspec": {
   "display_name": "R",
   "language": "R",
   "name": "ir"
  },
  "language_info": {
   "codemirror_mode": "r",
   "file_extension": ".r",
   "mimetype": "text/x-r-source",
   "name": "R",
   "pygments_lexer": "r",
   "version": "3.6.1"
  }
 },
 "nbformat": 4,
 "nbformat_minor": 2
}
